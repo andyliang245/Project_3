{
  "nbformat": 4,
  "nbformat_minor": 5,
  "metadata": {
    "kernelspec": {
      "display_name": "Python 3",
      "language": "python",
      "name": "python3"
    },
    "language_info": {
      "codemirror_mode": {
        "name": "ipython",
        "version": 3
      },
      "file_extension": ".py",
      "mimetype": "text/x-python",
      "name": "python",
      "nbconvert_exporter": "python",
      "pygments_lexer": "ipython3",
      "version": "3.8.2"
    },
    "colab": {
      "name": "stats_prediction.ipynb",
      "provenance": [],
      "collapsed_sections": []
    }
  },
  "cells": [
    {
      "cell_type": "code",
      "metadata": {
        "id": "kcS4uG8w9gAg"
      },
      "source": [
        "import os\n",
        "import numpy as np\n",
        "import pandas as pd\n",
        "import seaborn as sns\n",
        "import datetime\n",
        "from pathlib import Path\n",
        "import glob\n",
        "\n",
        "from sklearn.preprocessing import StandardScaler\n",
        "from sklearn.model_selection import train_test_split\n",
        "\n",
        "from tensorflow.keras.models import Sequential\n",
        "from tensorflow.keras.layers import Dense\n",
        "import tensorflow as tf\n",
        "\n",
        "%matplotlib inline"
      ],
      "id": "kcS4uG8w9gAg",
      "execution_count": 1,
      "outputs": []
    },
    {
      "cell_type": "code",
      "metadata": {
        "colab": {
          "base_uri": "https://localhost:8080/",
          "height": 204
        },
        "id": "SJBoqu9x-Qyg",
        "outputId": "9169805c-6eaa-42a5-e71e-d284833f68e6"
      },
      "source": [
        "file_path = 'stats_df.csv'\n",
        "df = pd.read_csv(\n",
        "    file_path,\n",
        "    index_col=None,\n",
        "    infer_datetime_format=True,\n",
        "    parse_dates=True,\n",
        ")\n",
        "df.head()"
      ],
      "id": "SJBoqu9x-Qyg",
      "execution_count": 2,
      "outputs": [
        {
          "output_type": "execute_result",
          "data": {
            "text/html": [
              "<div>\n",
              "<style scoped>\n",
              "    .dataframe tbody tr th:only-of-type {\n",
              "        vertical-align: middle;\n",
              "    }\n",
              "\n",
              "    .dataframe tbody tr th {\n",
              "        vertical-align: top;\n",
              "    }\n",
              "\n",
              "    .dataframe thead th {\n",
              "        text-align: right;\n",
              "    }\n",
              "</style>\n",
              "<table border=\"1\" class=\"dataframe\">\n",
              "  <thead>\n",
              "    <tr style=\"text-align: right;\">\n",
              "      <th></th>\n",
              "      <th>Year</th>\n",
              "      <th>Player</th>\n",
              "      <th>Team</th>\n",
              "      <th>Pos</th>\n",
              "      <th>Age</th>\n",
              "      <th>G</th>\n",
              "      <th>AB</th>\n",
              "      <th>R</th>\n",
              "      <th>H</th>\n",
              "      <th>2B</th>\n",
              "      <th>3B</th>\n",
              "      <th>HR</th>\n",
              "      <th>RBI</th>\n",
              "      <th>SB</th>\n",
              "      <th>CS</th>\n",
              "      <th>BB</th>\n",
              "      <th>SO</th>\n",
              "      <th>SH</th>\n",
              "      <th>SF</th>\n",
              "      <th>HBP</th>\n",
              "      <th>AVG</th>\n",
              "      <th>OBP</th>\n",
              "      <th>SLG</th>\n",
              "      <th>OPS</th>\n",
              "    </tr>\n",
              "  </thead>\n",
              "  <tbody>\n",
              "    <tr>\n",
              "      <th>0</th>\n",
              "      <td>2019</td>\n",
              "      <td>Whit Merrifield</td>\n",
              "      <td>KC</td>\n",
              "      <td>2B</td>\n",
              "      <td>32</td>\n",
              "      <td>162</td>\n",
              "      <td>681</td>\n",
              "      <td>105</td>\n",
              "      <td>206</td>\n",
              "      <td>41</td>\n",
              "      <td>10</td>\n",
              "      <td>16</td>\n",
              "      <td>74</td>\n",
              "      <td>20</td>\n",
              "      <td>10</td>\n",
              "      <td>45</td>\n",
              "      <td>126</td>\n",
              "      <td>0</td>\n",
              "      <td>4</td>\n",
              "      <td>5</td>\n",
              "      <td>0.302</td>\n",
              "      <td>0.348</td>\n",
              "      <td>0.463</td>\n",
              "      <td>0.811</td>\n",
              "    </tr>\n",
              "    <tr>\n",
              "      <th>1</th>\n",
              "      <td>2019</td>\n",
              "      <td>Marcus Semien</td>\n",
              "      <td>OAK</td>\n",
              "      <td>SS</td>\n",
              "      <td>30</td>\n",
              "      <td>162</td>\n",
              "      <td>657</td>\n",
              "      <td>123</td>\n",
              "      <td>187</td>\n",
              "      <td>43</td>\n",
              "      <td>7</td>\n",
              "      <td>33</td>\n",
              "      <td>92</td>\n",
              "      <td>10</td>\n",
              "      <td>8</td>\n",
              "      <td>87</td>\n",
              "      <td>102</td>\n",
              "      <td>0</td>\n",
              "      <td>1</td>\n",
              "      <td>2</td>\n",
              "      <td>0.285</td>\n",
              "      <td>0.369</td>\n",
              "      <td>0.522</td>\n",
              "      <td>0.891</td>\n",
              "    </tr>\n",
              "    <tr>\n",
              "      <th>2</th>\n",
              "      <td>2019</td>\n",
              "      <td>Rafael Devers</td>\n",
              "      <td>BOS</td>\n",
              "      <td>3B</td>\n",
              "      <td>24</td>\n",
              "      <td>156</td>\n",
              "      <td>647</td>\n",
              "      <td>129</td>\n",
              "      <td>201</td>\n",
              "      <td>54</td>\n",
              "      <td>4</td>\n",
              "      <td>32</td>\n",
              "      <td>115</td>\n",
              "      <td>8</td>\n",
              "      <td>8</td>\n",
              "      <td>48</td>\n",
              "      <td>119</td>\n",
              "      <td>1</td>\n",
              "      <td>2</td>\n",
              "      <td>4</td>\n",
              "      <td>0.311</td>\n",
              "      <td>0.361</td>\n",
              "      <td>0.555</td>\n",
              "      <td>0.916</td>\n",
              "    </tr>\n",
              "    <tr>\n",
              "      <th>3</th>\n",
              "      <td>2019</td>\n",
              "      <td>Jonathan Villar</td>\n",
              "      <td>BAL</td>\n",
              "      <td>2B</td>\n",
              "      <td>30</td>\n",
              "      <td>162</td>\n",
              "      <td>642</td>\n",
              "      <td>111</td>\n",
              "      <td>176</td>\n",
              "      <td>33</td>\n",
              "      <td>5</td>\n",
              "      <td>24</td>\n",
              "      <td>73</td>\n",
              "      <td>40</td>\n",
              "      <td>9</td>\n",
              "      <td>61</td>\n",
              "      <td>176</td>\n",
              "      <td>2</td>\n",
              "      <td>4</td>\n",
              "      <td>4</td>\n",
              "      <td>0.274</td>\n",
              "      <td>0.339</td>\n",
              "      <td>0.453</td>\n",
              "      <td>0.792</td>\n",
              "    </tr>\n",
              "    <tr>\n",
              "      <th>4</th>\n",
              "      <td>2019</td>\n",
              "      <td>Ozzie Albies</td>\n",
              "      <td>ATL</td>\n",
              "      <td>2B</td>\n",
              "      <td>24</td>\n",
              "      <td>160</td>\n",
              "      <td>640</td>\n",
              "      <td>102</td>\n",
              "      <td>189</td>\n",
              "      <td>43</td>\n",
              "      <td>8</td>\n",
              "      <td>24</td>\n",
              "      <td>86</td>\n",
              "      <td>15</td>\n",
              "      <td>4</td>\n",
              "      <td>54</td>\n",
              "      <td>112</td>\n",
              "      <td>0</td>\n",
              "      <td>4</td>\n",
              "      <td>4</td>\n",
              "      <td>0.295</td>\n",
              "      <td>0.352</td>\n",
              "      <td>0.500</td>\n",
              "      <td>0.852</td>\n",
              "    </tr>\n",
              "  </tbody>\n",
              "</table>\n",
              "</div>"
            ],
            "text/plain": [
              "   Year           Player Team Pos  Age  ...  HBP    AVG    OBP    SLG    OPS\n",
              "0  2019  Whit Merrifield   KC  2B   32  ...    5  0.302  0.348  0.463  0.811\n",
              "1  2019    Marcus Semien  OAK  SS   30  ...    2  0.285  0.369  0.522  0.891\n",
              "2  2019    Rafael Devers  BOS  3B   24  ...    4  0.311  0.361  0.555  0.916\n",
              "3  2019  Jonathan Villar  BAL  2B   30  ...    4  0.274  0.339  0.453  0.792\n",
              "4  2019     Ozzie Albies  ATL  2B   24  ...    4  0.295  0.352  0.500  0.852\n",
              "\n",
              "[5 rows x 24 columns]"
            ]
          },
          "metadata": {
            "tags": []
          },
          "execution_count": 2
        }
      ]
    },
    {
      "cell_type": "code",
      "metadata": {
        "id": "0N_0Z_h4_EVQ"
      },
      "source": [
        "# Drop player with 0 OPS\n",
        "df = df[df.OPS !=0].set_index('Player')"
      ],
      "id": "0N_0Z_h4_EVQ",
      "execution_count": 3,
      "outputs": []
    },
    {
      "cell_type": "code",
      "metadata": {
        "colab": {
          "base_uri": "https://localhost:8080/",
          "height": 235
        },
        "id": "hZWhDl2_LX6i",
        "outputId": "85629342-7a2e-44a5-98fa-e44045f81c1c"
      },
      "source": [
        "df.head()"
      ],
      "id": "hZWhDl2_LX6i",
      "execution_count": 4,
      "outputs": [
        {
          "output_type": "execute_result",
          "data": {
            "text/html": [
              "<div>\n",
              "<style scoped>\n",
              "    .dataframe tbody tr th:only-of-type {\n",
              "        vertical-align: middle;\n",
              "    }\n",
              "\n",
              "    .dataframe tbody tr th {\n",
              "        vertical-align: top;\n",
              "    }\n",
              "\n",
              "    .dataframe thead th {\n",
              "        text-align: right;\n",
              "    }\n",
              "</style>\n",
              "<table border=\"1\" class=\"dataframe\">\n",
              "  <thead>\n",
              "    <tr style=\"text-align: right;\">\n",
              "      <th></th>\n",
              "      <th>Year</th>\n",
              "      <th>Team</th>\n",
              "      <th>Pos</th>\n",
              "      <th>Age</th>\n",
              "      <th>G</th>\n",
              "      <th>AB</th>\n",
              "      <th>R</th>\n",
              "      <th>H</th>\n",
              "      <th>2B</th>\n",
              "      <th>3B</th>\n",
              "      <th>HR</th>\n",
              "      <th>RBI</th>\n",
              "      <th>SB</th>\n",
              "      <th>CS</th>\n",
              "      <th>BB</th>\n",
              "      <th>SO</th>\n",
              "      <th>SH</th>\n",
              "      <th>SF</th>\n",
              "      <th>HBP</th>\n",
              "      <th>AVG</th>\n",
              "      <th>OBP</th>\n",
              "      <th>SLG</th>\n",
              "      <th>OPS</th>\n",
              "    </tr>\n",
              "    <tr>\n",
              "      <th>Player</th>\n",
              "      <th></th>\n",
              "      <th></th>\n",
              "      <th></th>\n",
              "      <th></th>\n",
              "      <th></th>\n",
              "      <th></th>\n",
              "      <th></th>\n",
              "      <th></th>\n",
              "      <th></th>\n",
              "      <th></th>\n",
              "      <th></th>\n",
              "      <th></th>\n",
              "      <th></th>\n",
              "      <th></th>\n",
              "      <th></th>\n",
              "      <th></th>\n",
              "      <th></th>\n",
              "      <th></th>\n",
              "      <th></th>\n",
              "      <th></th>\n",
              "      <th></th>\n",
              "      <th></th>\n",
              "      <th></th>\n",
              "    </tr>\n",
              "  </thead>\n",
              "  <tbody>\n",
              "    <tr>\n",
              "      <th>Whit Merrifield</th>\n",
              "      <td>2019</td>\n",
              "      <td>KC</td>\n",
              "      <td>2B</td>\n",
              "      <td>32</td>\n",
              "      <td>162</td>\n",
              "      <td>681</td>\n",
              "      <td>105</td>\n",
              "      <td>206</td>\n",
              "      <td>41</td>\n",
              "      <td>10</td>\n",
              "      <td>16</td>\n",
              "      <td>74</td>\n",
              "      <td>20</td>\n",
              "      <td>10</td>\n",
              "      <td>45</td>\n",
              "      <td>126</td>\n",
              "      <td>0</td>\n",
              "      <td>4</td>\n",
              "      <td>5</td>\n",
              "      <td>0.302</td>\n",
              "      <td>0.348</td>\n",
              "      <td>0.463</td>\n",
              "      <td>0.811</td>\n",
              "    </tr>\n",
              "    <tr>\n",
              "      <th>Marcus Semien</th>\n",
              "      <td>2019</td>\n",
              "      <td>OAK</td>\n",
              "      <td>SS</td>\n",
              "      <td>30</td>\n",
              "      <td>162</td>\n",
              "      <td>657</td>\n",
              "      <td>123</td>\n",
              "      <td>187</td>\n",
              "      <td>43</td>\n",
              "      <td>7</td>\n",
              "      <td>33</td>\n",
              "      <td>92</td>\n",
              "      <td>10</td>\n",
              "      <td>8</td>\n",
              "      <td>87</td>\n",
              "      <td>102</td>\n",
              "      <td>0</td>\n",
              "      <td>1</td>\n",
              "      <td>2</td>\n",
              "      <td>0.285</td>\n",
              "      <td>0.369</td>\n",
              "      <td>0.522</td>\n",
              "      <td>0.891</td>\n",
              "    </tr>\n",
              "    <tr>\n",
              "      <th>Rafael Devers</th>\n",
              "      <td>2019</td>\n",
              "      <td>BOS</td>\n",
              "      <td>3B</td>\n",
              "      <td>24</td>\n",
              "      <td>156</td>\n",
              "      <td>647</td>\n",
              "      <td>129</td>\n",
              "      <td>201</td>\n",
              "      <td>54</td>\n",
              "      <td>4</td>\n",
              "      <td>32</td>\n",
              "      <td>115</td>\n",
              "      <td>8</td>\n",
              "      <td>8</td>\n",
              "      <td>48</td>\n",
              "      <td>119</td>\n",
              "      <td>1</td>\n",
              "      <td>2</td>\n",
              "      <td>4</td>\n",
              "      <td>0.311</td>\n",
              "      <td>0.361</td>\n",
              "      <td>0.555</td>\n",
              "      <td>0.916</td>\n",
              "    </tr>\n",
              "    <tr>\n",
              "      <th>Jonathan Villar</th>\n",
              "      <td>2019</td>\n",
              "      <td>BAL</td>\n",
              "      <td>2B</td>\n",
              "      <td>30</td>\n",
              "      <td>162</td>\n",
              "      <td>642</td>\n",
              "      <td>111</td>\n",
              "      <td>176</td>\n",
              "      <td>33</td>\n",
              "      <td>5</td>\n",
              "      <td>24</td>\n",
              "      <td>73</td>\n",
              "      <td>40</td>\n",
              "      <td>9</td>\n",
              "      <td>61</td>\n",
              "      <td>176</td>\n",
              "      <td>2</td>\n",
              "      <td>4</td>\n",
              "      <td>4</td>\n",
              "      <td>0.274</td>\n",
              "      <td>0.339</td>\n",
              "      <td>0.453</td>\n",
              "      <td>0.792</td>\n",
              "    </tr>\n",
              "    <tr>\n",
              "      <th>Ozzie Albies</th>\n",
              "      <td>2019</td>\n",
              "      <td>ATL</td>\n",
              "      <td>2B</td>\n",
              "      <td>24</td>\n",
              "      <td>160</td>\n",
              "      <td>640</td>\n",
              "      <td>102</td>\n",
              "      <td>189</td>\n",
              "      <td>43</td>\n",
              "      <td>8</td>\n",
              "      <td>24</td>\n",
              "      <td>86</td>\n",
              "      <td>15</td>\n",
              "      <td>4</td>\n",
              "      <td>54</td>\n",
              "      <td>112</td>\n",
              "      <td>0</td>\n",
              "      <td>4</td>\n",
              "      <td>4</td>\n",
              "      <td>0.295</td>\n",
              "      <td>0.352</td>\n",
              "      <td>0.500</td>\n",
              "      <td>0.852</td>\n",
              "    </tr>\n",
              "  </tbody>\n",
              "</table>\n",
              "</div>"
            ],
            "text/plain": [
              "                 Year Team Pos  Age    G  ...  HBP    AVG    OBP    SLG    OPS\n",
              "Player                                    ...                                 \n",
              "Whit Merrifield  2019   KC  2B   32  162  ...    5  0.302  0.348  0.463  0.811\n",
              "Marcus Semien    2019  OAK  SS   30  162  ...    2  0.285  0.369  0.522  0.891\n",
              "Rafael Devers    2019  BOS  3B   24  156  ...    4  0.311  0.361  0.555  0.916\n",
              "Jonathan Villar  2019  BAL  2B   30  162  ...    4  0.274  0.339  0.453  0.792\n",
              "Ozzie Albies     2019  ATL  2B   24  160  ...    4  0.295  0.352  0.500  0.852\n",
              "\n",
              "[5 rows x 23 columns]"
            ]
          },
          "metadata": {
            "tags": []
          },
          "execution_count": 4
        }
      ]
    },
    {
      "cell_type": "code",
      "metadata": {
        "colab": {
          "base_uri": "https://localhost:8080/"
        },
        "id": "4zVCxaceLfBp",
        "outputId": "50e1befd-de73-4acb-b5e3-103d7f7fab6f"
      },
      "source": [
        "df.isnull().sum()"
      ],
      "id": "4zVCxaceLfBp",
      "execution_count": 5,
      "outputs": [
        {
          "output_type": "execute_result",
          "data": {
            "text/plain": [
              "Year    0\n",
              "Team    0\n",
              "Pos     0\n",
              "Age     0\n",
              "G       0\n",
              "AB      0\n",
              "R       0\n",
              "H       0\n",
              "2B      0\n",
              "3B      0\n",
              "HR      0\n",
              "RBI     0\n",
              "SB      0\n",
              "CS      0\n",
              "BB      0\n",
              "SO      0\n",
              "SH      0\n",
              "SF      0\n",
              "HBP     0\n",
              "AVG     0\n",
              "OBP     0\n",
              "SLG     0\n",
              "OPS     0\n",
              "dtype: int64"
            ]
          },
          "metadata": {
            "tags": []
          },
          "execution_count": 5
        }
      ]
    },
    {
      "cell_type": "code",
      "metadata": {
        "id": "u9Xj-THrLlhx"
      },
      "source": [
        "# Creating X & y variables\n",
        "X = df.iloc[:, 4:-2]\n",
        "y = df[\"OPS\"].values"
      ],
      "id": "u9Xj-THrLlhx",
      "execution_count": 6,
      "outputs": []
    },
    {
      "cell_type": "code",
      "metadata": {
        "colab": {
          "base_uri": "https://localhost:8080/",
          "height": 235
        },
        "id": "MX-8YlMzLwX6",
        "outputId": "d8b69732-c319-4145-a6d7-a410911f3940"
      },
      "source": [
        "X.head()"
      ],
      "id": "MX-8YlMzLwX6",
      "execution_count": 7,
      "outputs": [
        {
          "output_type": "execute_result",
          "data": {
            "text/html": [
              "<div>\n",
              "<style scoped>\n",
              "    .dataframe tbody tr th:only-of-type {\n",
              "        vertical-align: middle;\n",
              "    }\n",
              "\n",
              "    .dataframe tbody tr th {\n",
              "        vertical-align: top;\n",
              "    }\n",
              "\n",
              "    .dataframe thead th {\n",
              "        text-align: right;\n",
              "    }\n",
              "</style>\n",
              "<table border=\"1\" class=\"dataframe\">\n",
              "  <thead>\n",
              "    <tr style=\"text-align: right;\">\n",
              "      <th></th>\n",
              "      <th>G</th>\n",
              "      <th>AB</th>\n",
              "      <th>R</th>\n",
              "      <th>H</th>\n",
              "      <th>2B</th>\n",
              "      <th>3B</th>\n",
              "      <th>HR</th>\n",
              "      <th>RBI</th>\n",
              "      <th>SB</th>\n",
              "      <th>CS</th>\n",
              "      <th>BB</th>\n",
              "      <th>SO</th>\n",
              "      <th>SH</th>\n",
              "      <th>SF</th>\n",
              "      <th>HBP</th>\n",
              "      <th>AVG</th>\n",
              "      <th>OBP</th>\n",
              "    </tr>\n",
              "    <tr>\n",
              "      <th>Player</th>\n",
              "      <th></th>\n",
              "      <th></th>\n",
              "      <th></th>\n",
              "      <th></th>\n",
              "      <th></th>\n",
              "      <th></th>\n",
              "      <th></th>\n",
              "      <th></th>\n",
              "      <th></th>\n",
              "      <th></th>\n",
              "      <th></th>\n",
              "      <th></th>\n",
              "      <th></th>\n",
              "      <th></th>\n",
              "      <th></th>\n",
              "      <th></th>\n",
              "      <th></th>\n",
              "    </tr>\n",
              "  </thead>\n",
              "  <tbody>\n",
              "    <tr>\n",
              "      <th>Whit Merrifield</th>\n",
              "      <td>162</td>\n",
              "      <td>681</td>\n",
              "      <td>105</td>\n",
              "      <td>206</td>\n",
              "      <td>41</td>\n",
              "      <td>10</td>\n",
              "      <td>16</td>\n",
              "      <td>74</td>\n",
              "      <td>20</td>\n",
              "      <td>10</td>\n",
              "      <td>45</td>\n",
              "      <td>126</td>\n",
              "      <td>0</td>\n",
              "      <td>4</td>\n",
              "      <td>5</td>\n",
              "      <td>0.302</td>\n",
              "      <td>0.348</td>\n",
              "    </tr>\n",
              "    <tr>\n",
              "      <th>Marcus Semien</th>\n",
              "      <td>162</td>\n",
              "      <td>657</td>\n",
              "      <td>123</td>\n",
              "      <td>187</td>\n",
              "      <td>43</td>\n",
              "      <td>7</td>\n",
              "      <td>33</td>\n",
              "      <td>92</td>\n",
              "      <td>10</td>\n",
              "      <td>8</td>\n",
              "      <td>87</td>\n",
              "      <td>102</td>\n",
              "      <td>0</td>\n",
              "      <td>1</td>\n",
              "      <td>2</td>\n",
              "      <td>0.285</td>\n",
              "      <td>0.369</td>\n",
              "    </tr>\n",
              "    <tr>\n",
              "      <th>Rafael Devers</th>\n",
              "      <td>156</td>\n",
              "      <td>647</td>\n",
              "      <td>129</td>\n",
              "      <td>201</td>\n",
              "      <td>54</td>\n",
              "      <td>4</td>\n",
              "      <td>32</td>\n",
              "      <td>115</td>\n",
              "      <td>8</td>\n",
              "      <td>8</td>\n",
              "      <td>48</td>\n",
              "      <td>119</td>\n",
              "      <td>1</td>\n",
              "      <td>2</td>\n",
              "      <td>4</td>\n",
              "      <td>0.311</td>\n",
              "      <td>0.361</td>\n",
              "    </tr>\n",
              "    <tr>\n",
              "      <th>Jonathan Villar</th>\n",
              "      <td>162</td>\n",
              "      <td>642</td>\n",
              "      <td>111</td>\n",
              "      <td>176</td>\n",
              "      <td>33</td>\n",
              "      <td>5</td>\n",
              "      <td>24</td>\n",
              "      <td>73</td>\n",
              "      <td>40</td>\n",
              "      <td>9</td>\n",
              "      <td>61</td>\n",
              "      <td>176</td>\n",
              "      <td>2</td>\n",
              "      <td>4</td>\n",
              "      <td>4</td>\n",
              "      <td>0.274</td>\n",
              "      <td>0.339</td>\n",
              "    </tr>\n",
              "    <tr>\n",
              "      <th>Ozzie Albies</th>\n",
              "      <td>160</td>\n",
              "      <td>640</td>\n",
              "      <td>102</td>\n",
              "      <td>189</td>\n",
              "      <td>43</td>\n",
              "      <td>8</td>\n",
              "      <td>24</td>\n",
              "      <td>86</td>\n",
              "      <td>15</td>\n",
              "      <td>4</td>\n",
              "      <td>54</td>\n",
              "      <td>112</td>\n",
              "      <td>0</td>\n",
              "      <td>4</td>\n",
              "      <td>4</td>\n",
              "      <td>0.295</td>\n",
              "      <td>0.352</td>\n",
              "    </tr>\n",
              "  </tbody>\n",
              "</table>\n",
              "</div>"
            ],
            "text/plain": [
              "                   G   AB    R    H  2B  3B  ...   SO  SH  SF  HBP    AVG    OBP\n",
              "Player                                       ...                                \n",
              "Whit Merrifield  162  681  105  206  41  10  ...  126   0   4    5  0.302  0.348\n",
              "Marcus Semien    162  657  123  187  43   7  ...  102   0   1    2  0.285  0.369\n",
              "Rafael Devers    156  647  129  201  54   4  ...  119   1   2    4  0.311  0.361\n",
              "Jonathan Villar  162  642  111  176  33   5  ...  176   2   4    4  0.274  0.339\n",
              "Ozzie Albies     160  640  102  189  43   8  ...  112   0   4    4  0.295  0.352\n",
              "\n",
              "[5 rows x 17 columns]"
            ]
          },
          "metadata": {
            "tags": []
          },
          "execution_count": 7
        }
      ]
    },
    {
      "cell_type": "code",
      "metadata": {
        "colab": {
          "base_uri": "https://localhost:8080/"
        },
        "id": "mmPdYN9v5fsc",
        "outputId": "4e0e6679-9e2c-4842-dd9b-caa5bdb57ff7"
      },
      "source": [
        "X.shape"
      ],
      "id": "mmPdYN9v5fsc",
      "execution_count": 8,
      "outputs": [
        {
          "output_type": "execute_result",
          "data": {
            "text/plain": [
              "(7886, 17)"
            ]
          },
          "metadata": {
            "tags": []
          },
          "execution_count": 8
        }
      ]
    },
    {
      "cell_type": "code",
      "metadata": {
        "colab": {
          "base_uri": "https://localhost:8080/"
        },
        "id": "a2_sSzT8LxRa",
        "outputId": "0e8ee317-b61d-4e44-f62a-454cdc3d2293"
      },
      "source": [
        "y"
      ],
      "id": "a2_sSzT8LxRa",
      "execution_count": 9,
      "outputs": [
        {
          "output_type": "execute_result",
          "data": {
            "text/plain": [
              "array([0.811, 0.891, 0.916, ..., 0.25 , 0.5  , 1.   ])"
            ]
          },
          "metadata": {
            "tags": []
          },
          "execution_count": 9
        }
      ]
    },
    {
      "cell_type": "code",
      "metadata": {
        "colab": {
          "base_uri": "https://localhost:8080/"
        },
        "id": "tmunynCR2mTs",
        "outputId": "b59c8257-0528-4307-d69a-3e40716b5cbf"
      },
      "source": [
        "y = y.reshape(-1, 1)\n",
        "y"
      ],
      "id": "tmunynCR2mTs",
      "execution_count": 10,
      "outputs": [
        {
          "output_type": "execute_result",
          "data": {
            "text/plain": [
              "array([[0.811],\n",
              "       [0.891],\n",
              "       [0.916],\n",
              "       ...,\n",
              "       [0.25 ],\n",
              "       [0.5  ],\n",
              "       [1.   ]])"
            ]
          },
          "metadata": {
            "tags": []
          },
          "execution_count": 10
        }
      ]
    },
    {
      "cell_type": "code",
      "metadata": {
        "colab": {
          "base_uri": "https://localhost:8080/"
        },
        "id": "dIgqrQlhfBA_",
        "outputId": "56a7c47c-330b-4040-a3ce-77ee54fb6958"
      },
      "source": [
        "# Creating training, validation, and testing sets\n",
        "from sklearn.model_selection import train_test_split\n",
        "\n",
        "X_train, X_test, y_train, y_test = train_test_split(X, y, random_state=78)\n",
        "\n",
        "X_train.shape"
      ],
      "id": "dIgqrQlhfBA_",
      "execution_count": 11,
      "outputs": [
        {
          "output_type": "execute_result",
          "data": {
            "text/plain": [
              "(5914, 17)"
            ]
          },
          "metadata": {
            "tags": []
          },
          "execution_count": 11
        }
      ]
    },
    {
      "cell_type": "code",
      "metadata": {
        "id": "bjh0jdGjMnnV"
      },
      "source": [
        "# Use the MinMaxScaler to scale data between 0 and 1.\n",
        "from sklearn.preprocessing import MinMaxScaler\n",
        "scaler = MinMaxScaler()"
      ],
      "id": "bjh0jdGjMnnV",
      "execution_count": 12,
      "outputs": []
    },
    {
      "cell_type": "code",
      "metadata": {
        "id": "BSpjvOSu1e4B"
      },
      "source": [
        "scaler.fit(X)\n",
        "X_train = scaler.transform(X_train)\n",
        "X_test = scaler.transform(X_test)"
      ],
      "id": "BSpjvOSu1e4B",
      "execution_count": 13,
      "outputs": []
    },
    {
      "cell_type": "code",
      "metadata": {
        "id": "GlB7eDMgeuNX"
      },
      "source": [
        "scaler.fit(y)\n",
        "y_train = scaler.transform(y_train)\n",
        "y_test = scaler.transform(y_test)"
      ],
      "id": "GlB7eDMgeuNX",
      "execution_count": 14,
      "outputs": []
    },
    {
      "cell_type": "code",
      "metadata": {
        "colab": {
          "base_uri": "https://localhost:8080/"
        },
        "id": "44G0YcVI2PfV",
        "outputId": "da1a999b-e54b-482a-b308-d6df2afe4d32"
      },
      "source": [
        "y_train.shape"
      ],
      "id": "44G0YcVI2PfV",
      "execution_count": 15,
      "outputs": [
        {
          "output_type": "execute_result",
          "data": {
            "text/plain": [
              "(5914, 1)"
            ]
          },
          "metadata": {
            "tags": []
          },
          "execution_count": 15
        }
      ]
    },
    {
      "cell_type": "code",
      "metadata": {
        "colab": {
          "base_uri": "https://localhost:8080/"
        },
        "id": "6zHHPJg426j0",
        "outputId": "86072837-896c-4095-a9cb-18feca7363ed"
      },
      "source": [
        "# Reshape the features for the model\n",
        "X_train = X_train.reshape((X_train.shape[0], X_train.shape[1], 1))\n",
        "X_test = X_test.reshape((X_test.shape[0], X_test.shape[1], 1))\n",
        "print (f\"X_train sample values:\\n{X_train[:5]} \\n\")\n",
        "print (f\"X_test sample values:\\n{X_test[:5]}\")"
      ],
      "id": "6zHHPJg426j0",
      "execution_count": 16,
      "outputs": [
        {
          "output_type": "stream",
          "text": [
            "X_train sample values:\n",
            "[[[0.52173913]\n",
            "  [0.39619883]\n",
            "  [0.26277372]\n",
            "  [0.27555556]\n",
            "  [0.19642857]\n",
            "  [0.1875    ]\n",
            "  [0.18644068]\n",
            "  [0.24460432]\n",
            "  [0.        ]\n",
            "  [0.        ]\n",
            "  [0.21678322]\n",
            "  [0.47297297]\n",
            "  [0.        ]\n",
            "  [0.13333333]\n",
            "  [0.2       ]\n",
            "  [0.229     ]\n",
            "  [0.28914405]]\n",
            "\n",
            " [[0.73291925]\n",
            "  [0.55263158]\n",
            "  [0.44525547]\n",
            "  [0.51111111]\n",
            "  [0.35714286]\n",
            "  [0.375     ]\n",
            "  [0.06779661]\n",
            "  [0.26618705]\n",
            "  [0.19117647]\n",
            "  [0.17391304]\n",
            "  [0.13286713]\n",
            "  [0.31531532]\n",
            "  [0.78947368]\n",
            "  [0.2       ]\n",
            "  [0.46666667]\n",
            "  [0.304     ]\n",
            "  [0.32881002]]\n",
            "\n",
            " [[0.59627329]\n",
            "  [0.27339181]\n",
            "  [0.10218978]\n",
            "  [0.16888889]\n",
            "  [0.21428571]\n",
            "  [0.        ]\n",
            "  [0.10169492]\n",
            "  [0.1942446 ]\n",
            "  [0.        ]\n",
            "  [0.        ]\n",
            "  [0.07692308]\n",
            "  [0.2027027 ]\n",
            "  [0.        ]\n",
            "  [0.06666667]\n",
            "  [0.03333333]\n",
            "  [0.203     ]\n",
            "  [0.217119  ]]\n",
            "\n",
            " [[0.17391304]\n",
            "  [0.08333333]\n",
            "  [0.05109489]\n",
            "  [0.04      ]\n",
            "  [0.01785714]\n",
            "  [0.        ]\n",
            "  [0.05084746]\n",
            "  [0.04316547]\n",
            "  [0.01470588]\n",
            "  [0.04347826]\n",
            "  [0.04195804]\n",
            "  [0.08108108]\n",
            "  [0.26315789]\n",
            "  [0.06666667]\n",
            "  [0.06666667]\n",
            "  [0.158     ]\n",
            "  [0.22546973]]\n",
            "\n",
            " [[0.10559006]\n",
            "  [0.04824561]\n",
            "  [0.03649635]\n",
            "  [0.03555556]\n",
            "  [0.        ]\n",
            "  [0.0625    ]\n",
            "  [0.        ]\n",
            "  [0.00719424]\n",
            "  [0.        ]\n",
            "  [0.        ]\n",
            "  [0.00699301]\n",
            "  [0.02702703]\n",
            "  [0.        ]\n",
            "  [0.        ]\n",
            "  [0.        ]\n",
            "  [0.242     ]\n",
            "  [0.23277662]]] \n",
            "\n",
            "X_test sample values:\n",
            "[[[0.24223602]\n",
            "  [0.10672515]\n",
            "  [0.06569343]\n",
            "  [0.07555556]\n",
            "  [0.03571429]\n",
            "  [0.0625    ]\n",
            "  [0.03389831]\n",
            "  [0.08633094]\n",
            "  [0.        ]\n",
            "  [0.        ]\n",
            "  [0.04195804]\n",
            "  [0.0990991 ]\n",
            "  [0.        ]\n",
            "  [0.13333333]\n",
            "  [0.06666667]\n",
            "  [0.233     ]\n",
            "  [0.27035491]]\n",
            "\n",
            " [[0.9689441 ]\n",
            "  [0.8245614 ]\n",
            "  [0.37226277]\n",
            "  [0.53777778]\n",
            "  [0.30357143]\n",
            "  [0.        ]\n",
            "  [0.27118644]\n",
            "  [0.41007194]\n",
            "  [0.        ]\n",
            "  [0.04347826]\n",
            "  [0.2027972 ]\n",
            "  [0.56306306]\n",
            "  [0.10526316]\n",
            "  [0.46666667]\n",
            "  [0.16666667]\n",
            "  [0.215     ]\n",
            "  [0.22338205]]\n",
            "\n",
            " [[0.55900621]\n",
            "  [0.48830409]\n",
            "  [0.38686131]\n",
            "  [0.39555556]\n",
            "  [0.32142857]\n",
            "  [0.0625    ]\n",
            "  [0.06779661]\n",
            "  [0.15107914]\n",
            "  [0.23529412]\n",
            "  [0.30434783]\n",
            "  [0.27972028]\n",
            "  [0.27477477]\n",
            "  [0.05263158]\n",
            "  [0.2       ]\n",
            "  [0.13333333]\n",
            "  [0.266     ]\n",
            "  [0.32045929]]\n",
            "\n",
            " [[0.01863354]\n",
            "  [0.01023392]\n",
            "  [0.00729927]\n",
            "  [0.00444444]\n",
            "  [0.        ]\n",
            "  [0.        ]\n",
            "  [0.        ]\n",
            "  [0.        ]\n",
            "  [0.        ]\n",
            "  [0.        ]\n",
            "  [0.        ]\n",
            "  [0.0045045 ]\n",
            "  [0.        ]\n",
            "  [0.        ]\n",
            "  [0.        ]\n",
            "  [0.143     ]\n",
            "  [0.10542797]]\n",
            "\n",
            " [[0.89440994]\n",
            "  [0.81578947]\n",
            "  [0.66423358]\n",
            "  [0.70222222]\n",
            "  [0.60714286]\n",
            "  [0.25      ]\n",
            "  [0.52542373]\n",
            "  [0.73381295]\n",
            "  [0.10294118]\n",
            "  [0.26086957]\n",
            "  [0.31468531]\n",
            "  [0.63063063]\n",
            "  [0.        ]\n",
            "  [0.33333333]\n",
            "  [0.2       ]\n",
            "  [0.283     ]\n",
            "  [0.31106472]]]\n"
          ],
          "name": "stdout"
        }
      ]
    },
    {
      "cell_type": "code",
      "metadata": {
        "id": "TfSyPQEa3n-Z"
      },
      "source": [
        "# Import required Keras modules\n",
        "from tensorflow.keras.models import Sequential\n",
        "from tensorflow.keras.layers import LSTM, Dense, Dropout"
      ],
      "id": "TfSyPQEa3n-Z",
      "execution_count": 17,
      "outputs": []
    },
    {
      "cell_type": "code",
      "metadata": {
        "id": "Lyd_p1Cq6S0j"
      },
      "source": [
        "# Define the LSTM RNN model.\n",
        "model = Sequential()\n",
        "\n",
        "number_units = 17\n",
        "dropout_fraction = 0.2\n",
        "\n",
        "# Layer 1\n",
        "model.add(LSTM(\n",
        "    units=number_units,\n",
        "    return_sequences=True,\n",
        "    input_shape=(X_train.shape[1], 1))\n",
        "    )\n",
        "model.add(Dropout(dropout_fraction))\n",
        "# Layer 2\n",
        "model.add(LSTM(units=number_units, return_sequences=True))\n",
        "model.add(Dropout(dropout_fraction))\n",
        "# Layer 3\n",
        "model.add(LSTM(units=number_units))\n",
        "model.add(Dropout(dropout_fraction))\n",
        "# Output layer\n",
        "model.add(Dense(1))"
      ],
      "id": "Lyd_p1Cq6S0j",
      "execution_count": 18,
      "outputs": []
    },
    {
      "cell_type": "code",
      "metadata": {
        "id": "yHrso8vh6W8s"
      },
      "source": [
        "# Compile the model\n",
        "model.compile(optimizer=\"adam\", loss=\"mean_squared_error\")"
      ],
      "id": "yHrso8vh6W8s",
      "execution_count": 19,
      "outputs": []
    },
    {
      "cell_type": "code",
      "metadata": {
        "colab": {
          "base_uri": "https://localhost:8080/"
        },
        "id": "opC_PFF66bHB",
        "outputId": "d7f05d1d-54e2-458d-9432-0ce0249f5ddf"
      },
      "source": [
        "# Summarize the model\n",
        "model.summary()"
      ],
      "id": "opC_PFF66bHB",
      "execution_count": 20,
      "outputs": [
        {
          "output_type": "stream",
          "text": [
            "Model: \"sequential\"\n",
            "_________________________________________________________________\n",
            "Layer (type)                 Output Shape              Param #   \n",
            "=================================================================\n",
            "lstm (LSTM)                  (None, 17, 17)            1292      \n",
            "_________________________________________________________________\n",
            "dropout (Dropout)            (None, 17, 17)            0         \n",
            "_________________________________________________________________\n",
            "lstm_1 (LSTM)                (None, 17, 17)            2380      \n",
            "_________________________________________________________________\n",
            "dropout_1 (Dropout)          (None, 17, 17)            0         \n",
            "_________________________________________________________________\n",
            "lstm_2 (LSTM)                (None, 17)                2380      \n",
            "_________________________________________________________________\n",
            "dropout_2 (Dropout)          (None, 17)                0         \n",
            "_________________________________________________________________\n",
            "dense (Dense)                (None, 1)                 18        \n",
            "=================================================================\n",
            "Total params: 6,070\n",
            "Trainable params: 6,070\n",
            "Non-trainable params: 0\n",
            "_________________________________________________________________\n"
          ],
          "name": "stdout"
        }
      ]
    },
    {
      "cell_type": "code",
      "metadata": {
        "colab": {
          "base_uri": "https://localhost:8080/"
        },
        "id": "JKMJZ2ur6dnc",
        "outputId": "44c95d58-d8a8-4fc0-9ff9-a5097b846b6e"
      },
      "source": [
        "# Train the model\n",
        "model.fit(X_train, y_train, epochs=5, shuffle=False, batch_size=1, verbose=1)"
      ],
      "id": "JKMJZ2ur6dnc",
      "execution_count": 21,
      "outputs": [
        {
          "output_type": "stream",
          "text": [
            "Epoch 1/5\n",
            "5914/5914 [==============================] - 52s 8ms/step - loss: 0.0048\n",
            "Epoch 2/5\n",
            "5914/5914 [==============================] - 49s 8ms/step - loss: 0.0015\n",
            "Epoch 3/5\n",
            "5914/5914 [==============================] - 50s 8ms/step - loss: 0.0012\n",
            "Epoch 4/5\n",
            "5914/5914 [==============================] - 49s 8ms/step - loss: 0.0011\n",
            "Epoch 5/5\n",
            "5914/5914 [==============================] - 49s 8ms/step - loss: 0.0010\n"
          ],
          "name": "stdout"
        },
        {
          "output_type": "execute_result",
          "data": {
            "text/plain": [
              "<tensorflow.python.keras.callbacks.History at 0x7fcec185e310>"
            ]
          },
          "metadata": {
            "tags": []
          },
          "execution_count": 21
        }
      ]
    },
    {
      "cell_type": "code",
      "metadata": {
        "colab": {
          "base_uri": "https://localhost:8080/"
        },
        "id": "J_i8uoVg6jEJ",
        "outputId": "7ed2511c-b168-480b-9e7d-afcab7aa185c"
      },
      "source": [
        "# Evaluate the model\n",
        "model.evaluate(X_test, y_test)"
      ],
      "id": "J_i8uoVg6jEJ",
      "execution_count": 22,
      "outputs": [
        {
          "output_type": "stream",
          "text": [
            "62/62 [==============================] - 1s 4ms/step - loss: 6.2188e-04\n"
          ],
          "name": "stdout"
        },
        {
          "output_type": "execute_result",
          "data": {
            "text/plain": [
              "0.0006218809867277741"
            ]
          },
          "metadata": {
            "tags": []
          },
          "execution_count": 22
        }
      ]
    },
    {
      "cell_type": "code",
      "metadata": {
        "id": "UIKfRPwE82yy"
      },
      "source": [
        "# Make some predictions\n",
        "predicted = model.predict(X_test)"
      ],
      "id": "UIKfRPwE82yy",
      "execution_count": 23,
      "outputs": []
    },
    {
      "cell_type": "code",
      "metadata": {
        "id": "6xjhA1Wb9G0I"
      },
      "source": [
        "# Recover the original prices instead of the scaled version\n",
        "predicted_stats = scaler.inverse_transform(predicted)\n",
        "real_stats = scaler.inverse_transform(y_test.reshape(-1, 1))"
      ],
      "id": "6xjhA1Wb9G0I",
      "execution_count": 25,
      "outputs": []
    },
    {
      "cell_type": "code",
      "metadata": {
        "colab": {
          "base_uri": "https://localhost:8080/",
          "height": 1000
        },
        "id": "jcb95SWd9KZA",
        "outputId": "e40a2248-f953-4912-c20c-2647698f41cc"
      },
      "source": [
        "# Create a DataFrame of Real and Predicted values\n",
        "statistics_df = pd.DataFrame({\n",
        "    \"Real\": real_stats.ravel(),\n",
        "    \"Predicted\": predicted_stats.ravel()\n",
        "    }, index = df.index[-len(real_stats): ])\n",
        "statistics_df.head(50)"
      ],
      "id": "jcb95SWd9KZA",
      "execution_count": 44,
      "outputs": [
        {
          "output_type": "execute_result",
          "data": {
            "text/html": [
              "<div>\n",
              "<style scoped>\n",
              "    .dataframe tbody tr th:only-of-type {\n",
              "        vertical-align: middle;\n",
              "    }\n",
              "\n",
              "    .dataframe tbody tr th {\n",
              "        vertical-align: top;\n",
              "    }\n",
              "\n",
              "    .dataframe thead th {\n",
              "        text-align: right;\n",
              "    }\n",
              "</style>\n",
              "<table border=\"1\" class=\"dataframe\">\n",
              "  <thead>\n",
              "    <tr style=\"text-align: right;\">\n",
              "      <th></th>\n",
              "      <th>Real</th>\n",
              "      <th>Predicted</th>\n",
              "    </tr>\n",
              "    <tr>\n",
              "      <th>Player</th>\n",
              "      <th></th>\n",
              "      <th></th>\n",
              "    </tr>\n",
              "  </thead>\n",
              "  <tbody>\n",
              "    <tr>\n",
              "      <th>Jose Bautista</th>\n",
              "      <td>0.671</td>\n",
              "      <td>0.657209</td>\n",
              "    </tr>\n",
              "    <tr>\n",
              "      <th>Jose Ramirez</th>\n",
              "      <td>0.586</td>\n",
              "      <td>0.637959</td>\n",
              "    </tr>\n",
              "    <tr>\n",
              "      <th>Lorenzo Cain</th>\n",
              "      <td>0.711</td>\n",
              "      <td>0.704601</td>\n",
              "    </tr>\n",
              "    <tr>\n",
              "      <th>Billy Hamilton</th>\n",
              "      <td>0.286</td>\n",
              "      <td>0.325083</td>\n",
              "    </tr>\n",
              "    <tr>\n",
              "      <th>Kyle Seager</th>\n",
              "      <td>0.865</td>\n",
              "      <td>0.836275</td>\n",
              "    </tr>\n",
              "    <tr>\n",
              "      <th>Ryon Healy</th>\n",
              "      <td>0.510</td>\n",
              "      <td>0.574273</td>\n",
              "    </tr>\n",
              "    <tr>\n",
              "      <th>Maikel Franco</th>\n",
              "      <td>0.801</td>\n",
              "      <td>0.770682</td>\n",
              "    </tr>\n",
              "    <tr>\n",
              "      <th>Andrew Benintendi</th>\n",
              "      <td>0.811</td>\n",
              "      <td>0.833708</td>\n",
              "    </tr>\n",
              "    <tr>\n",
              "      <th>Anthony Rizzo</th>\n",
              "      <td>0.554</td>\n",
              "      <td>0.545478</td>\n",
              "    </tr>\n",
              "    <tr>\n",
              "      <th>Xander Bogaerts</th>\n",
              "      <td>0.744</td>\n",
              "      <td>0.754100</td>\n",
              "    </tr>\n",
              "    <tr>\n",
              "      <th>Carlos Santana</th>\n",
              "      <td>0.849</td>\n",
              "      <td>0.805598</td>\n",
              "    </tr>\n",
              "    <tr>\n",
              "      <th>Andrew McCutchen</th>\n",
              "      <td>0.694</td>\n",
              "      <td>0.698127</td>\n",
              "    </tr>\n",
              "    <tr>\n",
              "      <th>Kole Calhoun</th>\n",
              "      <td>0.617</td>\n",
              "      <td>0.654944</td>\n",
              "    </tr>\n",
              "    <tr>\n",
              "      <th>Wil Myers</th>\n",
              "      <td>0.610</td>\n",
              "      <td>0.660164</td>\n",
              "    </tr>\n",
              "    <tr>\n",
              "      <th>Jed Lowrie</th>\n",
              "      <td>0.382</td>\n",
              "      <td>0.343998</td>\n",
              "    </tr>\n",
              "    <tr>\n",
              "      <th>Khris Davis</th>\n",
              "      <td>0.959</td>\n",
              "      <td>0.887586</td>\n",
              "    </tr>\n",
              "    <tr>\n",
              "      <th>Justin Smoak</th>\n",
              "      <td>0.743</td>\n",
              "      <td>0.714440</td>\n",
              "    </tr>\n",
              "    <tr>\n",
              "      <th>Mark Trumbo</th>\n",
              "      <td>0.623</td>\n",
              "      <td>0.644689</td>\n",
              "    </tr>\n",
              "    <tr>\n",
              "      <th>Joey Votto</th>\n",
              "      <td>0.664</td>\n",
              "      <td>0.661115</td>\n",
              "    </tr>\n",
              "    <tr>\n",
              "      <th>Paul Goldschmidt</th>\n",
              "      <td>0.747</td>\n",
              "      <td>0.750235</td>\n",
              "    </tr>\n",
              "    <tr>\n",
              "      <th>Kendrys Morales</th>\n",
              "      <td>0.693</td>\n",
              "      <td>0.688957</td>\n",
              "    </tr>\n",
              "    <tr>\n",
              "      <th>Nelson Cruz</th>\n",
              "      <td>0.192</td>\n",
              "      <td>0.223140</td>\n",
              "    </tr>\n",
              "    <tr>\n",
              "      <th>Alex Bregman</th>\n",
              "      <td>0.643</td>\n",
              "      <td>0.667342</td>\n",
              "    </tr>\n",
              "    <tr>\n",
              "      <th>Mike Moustakas</th>\n",
              "      <td>0.607</td>\n",
              "      <td>0.610265</td>\n",
              "    </tr>\n",
              "    <tr>\n",
              "      <th>Nomar Mazara</th>\n",
              "      <td>0.634</td>\n",
              "      <td>0.696020</td>\n",
              "    </tr>\n",
              "    <tr>\n",
              "      <th>Edwin Encarnacion</th>\n",
              "      <td>0.812</td>\n",
              "      <td>0.804851</td>\n",
              "    </tr>\n",
              "    <tr>\n",
              "      <th>Ian Kinsler</th>\n",
              "      <td>0.582</td>\n",
              "      <td>0.621524</td>\n",
              "    </tr>\n",
              "    <tr>\n",
              "      <th>Josh Bell</th>\n",
              "      <td>0.662</td>\n",
              "      <td>0.642622</td>\n",
              "    </tr>\n",
              "    <tr>\n",
              "      <th>Kris Bryant</th>\n",
              "      <td>0.754</td>\n",
              "      <td>0.747512</td>\n",
              "    </tr>\n",
              "    <tr>\n",
              "      <th>George Springer</th>\n",
              "      <td>0.337</td>\n",
              "      <td>0.361214</td>\n",
              "    </tr>\n",
              "    <tr>\n",
              "      <th>Shin-Soo Choo</th>\n",
              "      <td>0.848</td>\n",
              "      <td>0.805560</td>\n",
              "    </tr>\n",
              "    <tr>\n",
              "      <th>Trey Mancini</th>\n",
              "      <td>0.837</td>\n",
              "      <td>0.793668</td>\n",
              "    </tr>\n",
              "    <tr>\n",
              "      <th>Aaron Judge</th>\n",
              "      <td>0.637</td>\n",
              "      <td>0.623137</td>\n",
              "    </tr>\n",
              "    <tr>\n",
              "      <th>Eddie Rosario</th>\n",
              "      <td>0.689</td>\n",
              "      <td>0.703818</td>\n",
              "    </tr>\n",
              "    <tr>\n",
              "      <th>Corey Seager</th>\n",
              "      <td>0.625</td>\n",
              "      <td>0.576046</td>\n",
              "    </tr>\n",
              "    <tr>\n",
              "      <th>Travis Shaw</th>\n",
              "      <td>0.701</td>\n",
              "      <td>0.712436</td>\n",
              "    </tr>\n",
              "    <tr>\n",
              "      <th>Jake Lamb</th>\n",
              "      <td>0.940</td>\n",
              "      <td>0.709527</td>\n",
              "    </tr>\n",
              "    <tr>\n",
              "      <th>Didi Gregorius</th>\n",
              "      <td>0.533</td>\n",
              "      <td>0.564397</td>\n",
              "    </tr>\n",
              "    <tr>\n",
              "      <th>Eugenio Suarez</th>\n",
              "      <td>0.145</td>\n",
              "      <td>0.211595</td>\n",
              "    </tr>\n",
              "    <tr>\n",
              "      <th>Daniel Murphy</th>\n",
              "      <td>0.778</td>\n",
              "      <td>0.756230</td>\n",
              "    </tr>\n",
              "    <tr>\n",
              "      <th>J.T. Realmuto</th>\n",
              "      <td>0.250</td>\n",
              "      <td>0.276869</td>\n",
              "    </tr>\n",
              "    <tr>\n",
              "      <th>Yuli Gurriel</th>\n",
              "      <td>0.653</td>\n",
              "      <td>0.693750</td>\n",
              "    </tr>\n",
              "    <tr>\n",
              "      <th>Odubel Herrera</th>\n",
              "      <td>0.710</td>\n",
              "      <td>0.658388</td>\n",
              "    </tr>\n",
              "    <tr>\n",
              "      <th>David Peralta</th>\n",
              "      <td>0.374</td>\n",
              "      <td>0.392560</td>\n",
              "    </tr>\n",
              "    <tr>\n",
              "      <th>Domingo Santana</th>\n",
              "      <td>0.556</td>\n",
              "      <td>0.570082</td>\n",
              "    </tr>\n",
              "    <tr>\n",
              "      <th>Joe Mauer</th>\n",
              "      <td>0.852</td>\n",
              "      <td>0.847280</td>\n",
              "    </tr>\n",
              "    <tr>\n",
              "      <th>Ryan Zimmerman</th>\n",
              "      <td>0.643</td>\n",
              "      <td>0.602220</td>\n",
              "    </tr>\n",
              "    <tr>\n",
              "      <th>Jean Segura</th>\n",
              "      <td>0.599</td>\n",
              "      <td>0.587327</td>\n",
              "    </tr>\n",
              "    <tr>\n",
              "      <th>Steven Souza</th>\n",
              "      <td>0.923</td>\n",
              "      <td>0.902306</td>\n",
              "    </tr>\n",
              "    <tr>\n",
              "      <th>Mark Reynolds</th>\n",
              "      <td>0.643</td>\n",
              "      <td>0.721778</td>\n",
              "    </tr>\n",
              "  </tbody>\n",
              "</table>\n",
              "</div>"
            ],
            "text/plain": [
              "                    Real  Predicted\n",
              "Player                             \n",
              "Jose Bautista      0.671   0.657209\n",
              "Jose Ramirez       0.586   0.637959\n",
              "Lorenzo Cain       0.711   0.704601\n",
              "Billy Hamilton     0.286   0.325083\n",
              "Kyle Seager        0.865   0.836275\n",
              "Ryon Healy         0.510   0.574273\n",
              "Maikel Franco      0.801   0.770682\n",
              "Andrew Benintendi  0.811   0.833708\n",
              "Anthony Rizzo      0.554   0.545478\n",
              "Xander Bogaerts    0.744   0.754100\n",
              "Carlos Santana     0.849   0.805598\n",
              "Andrew McCutchen   0.694   0.698127\n",
              "Kole Calhoun       0.617   0.654944\n",
              "Wil Myers          0.610   0.660164\n",
              "Jed Lowrie         0.382   0.343998\n",
              "Khris Davis        0.959   0.887586\n",
              "Justin Smoak       0.743   0.714440\n",
              "Mark Trumbo        0.623   0.644689\n",
              "Joey Votto         0.664   0.661115\n",
              "Paul Goldschmidt   0.747   0.750235\n",
              "Kendrys Morales    0.693   0.688957\n",
              "Nelson Cruz        0.192   0.223140\n",
              "Alex Bregman       0.643   0.667342\n",
              "Mike Moustakas     0.607   0.610265\n",
              "Nomar Mazara       0.634   0.696020\n",
              "Edwin Encarnacion  0.812   0.804851\n",
              "Ian Kinsler        0.582   0.621524\n",
              "Josh Bell          0.662   0.642622\n",
              "Kris Bryant        0.754   0.747512\n",
              "George Springer    0.337   0.361214\n",
              "Shin-Soo Choo      0.848   0.805560\n",
              "Trey Mancini       0.837   0.793668\n",
              "Aaron Judge        0.637   0.623137\n",
              "Eddie Rosario      0.689   0.703818\n",
              "Corey Seager       0.625   0.576046\n",
              "Travis Shaw        0.701   0.712436\n",
              "Jake Lamb          0.940   0.709527\n",
              "Didi Gregorius     0.533   0.564397\n",
              "Eugenio Suarez     0.145   0.211595\n",
              "Daniel Murphy      0.778   0.756230\n",
              "J.T. Realmuto      0.250   0.276869\n",
              "Yuli Gurriel       0.653   0.693750\n",
              "Odubel Herrera     0.710   0.658388\n",
              "David Peralta      0.374   0.392560\n",
              "Domingo Santana    0.556   0.570082\n",
              "Joe Mauer          0.852   0.847280\n",
              "Ryan Zimmerman     0.643   0.602220\n",
              "Jean Segura        0.599   0.587327\n",
              "Steven Souza       0.923   0.902306\n",
              "Mark Reynolds      0.643   0.721778"
            ]
          },
          "metadata": {
            "tags": []
          },
          "execution_count": 44
        }
      ]
    },
    {
      "cell_type": "code",
      "metadata": {
        "id": "wPBnG6nRABIO"
      },
      "source": [
        "statistics_df.to_csv('statistics_df.csv')"
      ],
      "id": "wPBnG6nRABIO",
      "execution_count": 45,
      "outputs": []
    },
    {
      "cell_type": "code",
      "metadata": {
        "colab": {
          "base_uri": "https://localhost:8080/"
        },
        "id": "hIeRuafA9oRX",
        "outputId": "363a5fde-84d5-47d4-900e-a0b50397a9fd"
      },
      "source": [
        "statistics_df.duplicated()"
      ],
      "id": "hIeRuafA9oRX",
      "execution_count": 46,
      "outputs": [
        {
          "output_type": "execute_result",
          "data": {
            "text/plain": [
              "Player\n",
              "Jose Bautista     False\n",
              "Jose Ramirez      False\n",
              "Lorenzo Cain      False\n",
              "Billy Hamilton    False\n",
              "Kyle Seager       False\n",
              "                  ...  \n",
              "Bobby Wilson      False\n",
              "Brett Jackson     False\n",
              "Jason Bartlett    False\n",
              "Terrance Gore     False\n",
              "Audry Perez       False\n",
              "Length: 1972, dtype: bool"
            ]
          },
          "metadata": {
            "tags": []
          },
          "execution_count": 46
        }
      ]
    },
    {
      "cell_type": "code",
      "metadata": {
        "colab": {
          "base_uri": "https://localhost:8080/"
        },
        "id": "ULMVUVeEBBCa",
        "outputId": "b12db9d2-b236-4ff3-d82d-831d82bc6c72"
      },
      "source": [
        "statistics_df.duplicated().sum()"
      ],
      "id": "ULMVUVeEBBCa",
      "execution_count": 47,
      "outputs": [
        {
          "output_type": "execute_result",
          "data": {
            "text/plain": [
              "3"
            ]
          },
          "metadata": {
            "tags": []
          },
          "execution_count": 47
        }
      ]
    },
    {
      "cell_type": "code",
      "metadata": {
        "id": "AL37D4de-NLi"
      },
      "source": [
        "statistics_df = statistics_df.groupby('Player').mean()"
      ],
      "id": "AL37D4de-NLi",
      "execution_count": 51,
      "outputs": []
    },
    {
      "cell_type": "code",
      "metadata": {
        "colab": {
          "base_uri": "https://localhost:8080/"
        },
        "id": "BQWpCcve-859",
        "outputId": "df574c4a-2c1f-4f26-fe7d-7fd60825074b"
      },
      "source": [
        "statistics_df.duplicated().sum()"
      ],
      "id": "BQWpCcve-859",
      "execution_count": 52,
      "outputs": [
        {
          "output_type": "execute_result",
          "data": {
            "text/plain": [
              "0"
            ]
          },
          "metadata": {
            "tags": []
          },
          "execution_count": 52
        }
      ]
    },
    {
      "cell_type": "markdown",
      "metadata": {
        "id": "AfU5UsLXBxGz"
      },
      "source": [
        ""
      ],
      "id": "AfU5UsLXBxGz"
    },
    {
      "cell_type": "code",
      "metadata": {
        "colab": {
          "base_uri": "https://localhost:8080/",
          "height": 514
        },
        "id": "MPtRineW_NLg",
        "outputId": "acadbaa8-0591-4e73-aa58-84d272441d8b"
      },
      "source": [
        "# Plot the real vs predicted prices as a line chart\n",
        "statistics_df.plot(figsize=(12, 8))"
      ],
      "id": "MPtRineW_NLg",
      "execution_count": 53,
      "outputs": [
        {
          "output_type": "execute_result",
          "data": {
            "text/plain": [
              "<matplotlib.axes._subplots.AxesSubplot at 0x7fcebca13950>"
            ]
          },
          "metadata": {
            "tags": []
          },
          "execution_count": 53
        },
        {
          "output_type": "display_data",
          "data": {
            "image/png": "[encoded data removed]",
            "text/plain": [
              "<Figure size 864x576 with 1 Axes>"
            ]
          },
          "metadata": {
            "tags": [],
            "needs_background": "light"
          }
        }
      ]
    },
    {
      "cell_type": "code",
      "metadata": {
        "id": "qRfYJTci_Thf"
      },
      "source": [
        ""
      ],
      "id": "qRfYJTci_Thf",
      "execution_count": null,
      "outputs": []
    }
  ]
}