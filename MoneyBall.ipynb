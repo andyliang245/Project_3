{
 "metadata": {
  "language_info": {
   "codemirror_mode": {
    "name": "ipython",
    "version": 3
   },
   "file_extension": ".py",
   "mimetype": "text/x-python",
   "name": "python",
   "nbconvert_exporter": "python",
   "pygments_lexer": "ipython3",
   "version": "3.7.10"
  },
  "orig_nbformat": 4,
  "kernelspec": {
   "name": "python3",
   "display_name": "Python 3.7.10 64-bit ('dev': conda)"
  },
  "interpreter": {
   "hash": "38e719a702c56ff7695290ab132eef83c1b4d5a17b776384c2f7168698ff0a3a"
  }
 },
 "nbformat": 4,
 "nbformat_minor": 2,
 "cells": [
  {
   "cell_type": "code",
   "execution_count": 1,
   "metadata": {},
   "outputs": [
    {
     "output_type": "stream",
     "name": "stderr",
     "text": [
      "\n",
      "Bad key \"text.kerning_factor\" on line 4 in\n",
      "C:\\Users\\Andy L\\anaconda3\\envs\\dev\\lib\\site-packages\\matplotlib\\mpl-data\\stylelib\\_classic_test_patch.mplstyle.\n",
      "You probably need to get an updated matplotlibrc file from\n",
      "http://github.com/matplotlib/matplotlib/blob/master/matplotlibrc.template\n",
      "or from the matplotlib source distribution\n",
      "C:\\Users\\Andy L\\anaconda3\\envs\\dev\\lib\\site-packages\\tensorflow\\python\\framework\\dtypes.py:516: FutureWarning: Passing (type, 1) or '1type' as a synonym of type is deprecated; in a future version of numpy, it will be understood as (type, (1,)) / '(1,)type'.\n",
      "  _np_qint8 = np.dtype([(\"qint8\", np.int8, 1)])\n",
      "C:\\Users\\Andy L\\anaconda3\\envs\\dev\\lib\\site-packages\\tensorflow\\python\\framework\\dtypes.py:517: FutureWarning: Passing (type, 1) or '1type' as a synonym of type is deprecated; in a future version of numpy, it will be understood as (type, (1,)) / '(1,)type'.\n",
      "  _np_quint8 = np.dtype([(\"quint8\", np.uint8, 1)])\n",
      "C:\\Users\\Andy L\\anaconda3\\envs\\dev\\lib\\site-packages\\tensorflow\\python\\framework\\dtypes.py:518: FutureWarning: Passing (type, 1) or '1type' as a synonym of type is deprecated; in a future version of numpy, it will be understood as (type, (1,)) / '(1,)type'.\n",
      "  _np_qint16 = np.dtype([(\"qint16\", np.int16, 1)])\n",
      "C:\\Users\\Andy L\\anaconda3\\envs\\dev\\lib\\site-packages\\tensorflow\\python\\framework\\dtypes.py:519: FutureWarning: Passing (type, 1) or '1type' as a synonym of type is deprecated; in a future version of numpy, it will be understood as (type, (1,)) / '(1,)type'.\n",
      "  _np_quint16 = np.dtype([(\"quint16\", np.uint16, 1)])\n",
      "C:\\Users\\Andy L\\anaconda3\\envs\\dev\\lib\\site-packages\\tensorflow\\python\\framework\\dtypes.py:520: FutureWarning: Passing (type, 1) or '1type' as a synonym of type is deprecated; in a future version of numpy, it will be understood as (type, (1,)) / '(1,)type'.\n",
      "  _np_qint32 = np.dtype([(\"qint32\", np.int32, 1)])\n",
      "C:\\Users\\Andy L\\anaconda3\\envs\\dev\\lib\\site-packages\\tensorflow\\python\\framework\\dtypes.py:525: FutureWarning: Passing (type, 1) or '1type' as a synonym of type is deprecated; in a future version of numpy, it will be understood as (type, (1,)) / '(1,)type'.\n",
      "  np_resource = np.dtype([(\"resource\", np.ubyte, 1)])\n",
      "C:\\Users\\Andy L\\anaconda3\\envs\\dev\\lib\\site-packages\\tensorboard\\compat\\tensorflow_stub\\dtypes.py:541: FutureWarning: Passing (type, 1) or '1type' as a synonym of type is deprecated; in a future version of numpy, it will be understood as (type, (1,)) / '(1,)type'.\n",
      "  _np_qint8 = np.dtype([(\"qint8\", np.int8, 1)])\n",
      "C:\\Users\\Andy L\\anaconda3\\envs\\dev\\lib\\site-packages\\tensorboard\\compat\\tensorflow_stub\\dtypes.py:542: FutureWarning: Passing (type, 1) or '1type' as a synonym of type is deprecated; in a future version of numpy, it will be understood as (type, (1,)) / '(1,)type'.\n",
      "  _np_quint8 = np.dtype([(\"quint8\", np.uint8, 1)])\n",
      "C:\\Users\\Andy L\\anaconda3\\envs\\dev\\lib\\site-packages\\tensorboard\\compat\\tensorflow_stub\\dtypes.py:543: FutureWarning: Passing (type, 1) or '1type' as a synonym of type is deprecated; in a future version of numpy, it will be understood as (type, (1,)) / '(1,)type'.\n",
      "  _np_qint16 = np.dtype([(\"qint16\", np.int16, 1)])\n",
      "C:\\Users\\Andy L\\anaconda3\\envs\\dev\\lib\\site-packages\\tensorboard\\compat\\tensorflow_stub\\dtypes.py:544: FutureWarning: Passing (type, 1) or '1type' as a synonym of type is deprecated; in a future version of numpy, it will be understood as (type, (1,)) / '(1,)type'.\n",
      "  _np_quint16 = np.dtype([(\"quint16\", np.uint16, 1)])\n",
      "C:\\Users\\Andy L\\anaconda3\\envs\\dev\\lib\\site-packages\\tensorboard\\compat\\tensorflow_stub\\dtypes.py:545: FutureWarning: Passing (type, 1) or '1type' as a synonym of type is deprecated; in a future version of numpy, it will be understood as (type, (1,)) / '(1,)type'.\n",
      "  _np_qint32 = np.dtype([(\"qint32\", np.int32, 1)])\n",
      "C:\\Users\\Andy L\\anaconda3\\envs\\dev\\lib\\site-packages\\tensorboard\\compat\\tensorflow_stub\\dtypes.py:550: FutureWarning: Passing (type, 1) or '1type' as a synonym of type is deprecated; in a future version of numpy, it will be understood as (type, (1,)) / '(1,)type'.\n",
      "  np_resource = np.dtype([(\"resource\", np.ubyte, 1)])\n"
     ]
    }
   ],
   "source": [
    "import os\n",
    "import numpy as np\n",
    "import pandas as pd\n",
    "import seaborn as sns\n",
    "import datetime\n",
    "from pathlib import Path\n",
    "import glob\n",
    "\n",
    "from sklearn.preprocessing import StandardScaler\n",
    "from sklearn.model_selection import train_test_split\n",
    "\n",
    "from tensorflow.keras.models import Sequential\n",
    "from tensorflow.keras.layers import Dense\n",
    "import tensorflow as tf\n",
    "\n",
    "\n",
    "%matplotlib inline"
   ]
  },
  {
   "cell_type": "code",
   "execution_count": 2,
   "metadata": {},
   "outputs": [],
   "source": [
    "# Import Dataset\n",
    "# file_path_21 = Path(\"Resources/batting_stats_2021.csv\")\n",
    "# file_path_20 = Path(\"Resources/batting_stats_2020.csv\")\n",
    "# file_path_19 = Path(\"Resources/batting_stats_2019.csv\")\n",
    "# file_path_18 = Path(\"Resources/batting_stats_2018.csv\")\n",
    "# file_path_17 = Path(\"Resources/batting_stats_2017.csv\")\n",
    "# file_path_16 = Path(\"Resources/batting_stats_2016.csv\")\n",
    "# file_path_15 = Path(\"Resources/batting_stats_2015.csv\")\n",
    "# file_path_14 = Path(\"Resources/batting_stats_2014.csv\")\n",
    "# file_path_13 = Path(\"Resources/batting_stats_2013.csv\")\n",
    "# file_path_12 = Path(\"Resources/batting_stats_2012.csv\")\n",
    "# file_path_11 = Path(\"Resources/batting_stats_2011.csv\")\n",
    "# file_path_10 = Path(\"Resources/batting_stats_2010.csv\")\n",
    "\n",
    "# Read into Dataset\n",
    "# stats_21_df = pd.read_csv(file_path_21, index_col = 0)\n",
    "# stats_20_df = pd.read_csv(file_path_20, index_col = 0)\n",
    "# stats_19_df = pd.read_csv(file_path_19, index_col = 0)\n",
    "# stats_18_df = pd.read_csv(file_path_18, index_col = 0)\n",
    "# stats_17_df = pd.read_csv(file_path_17, index_col = 0)\n",
    "# stats_16_df = pd.read_csv(file_path_16, index_col = 0)\n",
    "# stats_15_df = pd.read_csv(file_path_15, index_col = 0)\n",
    "# stats_14_df = pd.read_csv(file_path_14, index_col = 0)\n",
    "# stats_13_df = pd.read_csv(file_path_13, index_col = 0)\n",
    "# stats_12_df = pd.read_csv(file_path_12, index_col = 0)\n",
    "# stats_11_df = pd.read_csv(file_path_11, index_col = 0)\n",
    "# stats_10_df = pd.read_csv(file_path_10, index_col = 0)\n",
    "\n",
    "# stats_19_df.head(20)"
   ]
  },
  {
   "cell_type": "code",
   "execution_count": 3,
   "metadata": {},
   "outputs": [
    {
     "output_type": "execute_result",
     "data": {
      "text/plain": [
       "                   Year Team Pos  Age    G   AB    R    H  2B  3B  ...  CS  \\\n",
       "Player                                                             ...       \n",
       "Ichiro Suzuki      2010  SEA  OF   47  162  680   74  214  30   3  ...   9   \n",
       "Derek Jeter        2010  NYY  SS   47  157  663  111  179  30   3  ...   5   \n",
       "Michael Young      2010  TEX  3B   44  157  656   99  186  36   3  ...   2   \n",
       "Juan Pierre        2010  CWS  OF   43  160  651   96  179  18   3  ...  18   \n",
       "Rickie Weeks       2010  MIL  DH   38  160  651  112  175  32   4  ...   4   \n",
       "Marco Scutaro      2010  BOS  2B   45  150  632   92  174  38   0  ...   4   \n",
       "Nick Markakis      2010  BAL  OF   37  160  629   79  187  45   3  ...   2   \n",
       "Denard Span        2010  MIN  OF   37  153  629   85  166  24  10  ...   4   \n",
       "Brandon Phillips   2010  CIN  2B   40  155  626  100  172  33   5  ...  12   \n",
       "Robinson Cano      2010  NYY  2B   38  160  626  103  200  41   3  ...   2   \n",
       "Ryan Braun         2010  MIL  OF   37  157  619  101  188  45   1  ...   3   \n",
       "Austin Jackson     2010  DET  OF   34  151  618  103  181  34  10  ...   6   \n",
       "Howie Kendrick     2010  LAA  DH   38  158  616   67  172  41   4  ...   4   \n",
       "Hunter Pence       2010  HOU  OF   38  156  614   93  173  29   3  ...   9   \n",
       "Chase Headley      2010   SD  3B   37  161  610   77  161  29   3  ...   5   \n",
       "Casey McGehee      2010  MIL  3B   38  157  610   70  174  38   1  ...   1   \n",
       "Michael Cuddyer    2010  MIN  OF   42  157  609   93  165  37   5  ...   3   \n",
       "Carlos Lee         2010  HOU  1B   45  157  605   67  149  29   1  ...   3   \n",
       "Chone Figgins      2010  SEA  OF   43  161  602   62  156  21   2  ...  15   \n",
       "Matt Kemp          2010  LAD  DH   36  162  602   82  150  25   6  ...  15   \n",
       "Mark Teixeira      2010  NYY  1B   41  158  601  113  154  36   0  ...   1   \n",
       "Carl Crawford      2010   TB  OF   39  154  600  110  184  30  13  ...  10   \n",
       "Martin Prado       2010  ATL  3B   37  140  599  100  184  40   3  ...   3   \n",
       "Matt Holliday      2010  STL  OF   41  158  596   95  186  45   1  ...   5   \n",
       "Billy Butler       2010   KC  1B   35  158  595   77  189  45   0  ...   0   \n",
       "Jose Lopez         2010  SEA  3B   37  150  593   49  142  29   0  ...   2   \n",
       "Vladimir Guerrero  2010  TEX  DH   46  152  593   83  178  27   1  ...   5   \n",
       "Garrett Jones      2010  PIT  1B   40  158  592   64  146  34   1  ...   3   \n",
       "Adrian Gonzalez    2010   SD  1B   39  160  591   87  176  33   0  ...   0   \n",
       "Vernon Wells       2010  TOR  OF   42  157  590   79  161  44   3  ...   4   \n",
       "...                 ...  ...  ..  ...  ...  ...  ...  ...  ..  ..  ...  ..   \n",
       "Shin-Soo Choo      2010  CLE  OF   38  144  550   81  165  31   2  ...   7   \n",
       "Miguel Cabrera     2010  DET  DH   38  150  548  111  180  45   1  ...   3   \n",
       "Paul Konerko       2010  CWS  1B   45  149  548   89  171  30   1  ...   1   \n",
       "Joey Votto         2010  CIN  1B   37  150  547  106  177  36   2  ...   5   \n",
       "Hanley Ramirez     2010  FLA  DH   37  142  543   92  163  28   2  ...  10   \n",
       "Ben Zobrist        2010   TB  2B   40  151  541   77  129  28   2  ...   3   \n",
       "Johnny Damon       2010  DET  OF   47  145  539   81  146  36   5  ...   1   \n",
       "B.J. Upton         2010   TB  OF   36  154  536   89  127  38   4  ...   9   \n",
       "Michael Bourn      2010  HOU  OF   38  141  535   84  142  25   6  ...  12   \n",
       "Lyle Overbay       2010  TOR  1B   44  154  534   75  130  37   2  ...   0   \n",
       "Erick Aybar        2010  LAA  SS   37  138  534   69  135  18   4  ...   8   \n",
       "Aaron Hill         2010  TOR  2B   39  138  528   70  108  22   0  ...   2   \n",
       "Ian Desmond        2010  WAS  OF   35  154  525   59  141  27   4  ...   5   \n",
       "Ryan Zimmerman     2010  WAS  1B   36  142  525   85  161  32   0  ...   1   \n",
       "Rajai Davis        2010  OAK  OF   40  143  525   66  149  28   3  ...  11   \n",
       "Ike Davis          2010  NYM  1B   34  147  523   73  138  33   1  ...   2   \n",
       "Alex Rodriguez     2010  NYY  DH   45  137  522   74  141  29   2  ...   3   \n",
       "Juan Uribe         2010   SF  3B   42  148  521   64  129  24   2  ...   2   \n",
       "Jason Heyward      2010  ATL  OF   31  142  520   83  144  29   5  ...   6   \n",
       "Josh Hamilton      2010  TEX  OF   40  133  518   95  186  40   3  ...   1   \n",
       "Jason Kubel        2010  MIN  OF   39  143  518   68  129  23   3  ...   1   \n",
       "David Ortiz        2010  BOS  DH   45  145  518   86  140  36   1  ...   1   \n",
       "Andre Ethier       2010  LAD  OF   39  139  517   71  151  33   1  ...   1   \n",
       "Brandon Inge       2010  DET  3B   44  144  514   47  127  28   5  ...   3   \n",
       "Drew Stubbs        2010  CIN  OF   36  150  514   91  131  19   6  ...   6   \n",
       "Jeff Keppinger     2010  HOU  3B   41  137  514   62  148  34   1  ...   1   \n",
       "Jonny Gomes        2010  CIN  OF   40  148  511   77  136  24   3  ...   3   \n",
       "Joe Mauer          2010  MIN  1B   38  137  510   88  167  43   1  ...   4   \n",
       "Nyjer Morgan       2010  WAS  OF   41  136  509   60  129  17   7  ...  17   \n",
       "Jay Bruce          2010  CIN  OF   34  148  509   80  143  23   5  ...   4   \n",
       "\n",
       "                   BB   SO  SH  SF  HBP    AVG    OBP    SLG    OPS  \n",
       "Player                                                               \n",
       "Ichiro Suzuki      45   86   3   1    3  0.315  0.359  0.394  0.753  \n",
       "Derek Jeter        63  106   1   3    9  0.270  0.340  0.370  0.710  \n",
       "Michael Young      50  115   0  11    1  0.284  0.330  0.444  0.774  \n",
       "Juan Pierre        45   47  15   2   21  0.275  0.341  0.316  0.657  \n",
       "Rickie Weeks       76  184   0   2   25  0.269  0.366  0.464  0.830  \n",
       "Marco Scutaro      53   71   4   3    3  0.275  0.333  0.388  0.721  \n",
       "Nick Markakis      73   93   0   5    2  0.297  0.370  0.436  0.806  \n",
       "Denard Span        60   74  10   2    4  0.264  0.331  0.348  0.679  \n",
       "Brandon Phillips   46   83   6   1    8  0.275  0.332  0.430  0.762  \n",
       "Robinson Cano      57   77   0   5    8  0.319  0.381  0.534  0.915  \n",
       "Ryan Braun         56  105   0   3    6  0.304  0.365  0.501  0.866  \n",
       "Austin Jackson     47  170   3   3    4  0.293  0.345  0.400  0.745  \n",
       "Howie Kendrick     28   94   4   5    5  0.279  0.313  0.407  0.720  \n",
       "Hunter Pence       41  105   0   3    0  0.282  0.325  0.461  0.786  \n",
       "Chase Headley      56  139   1   4    3  0.264  0.327  0.375  0.702  \n",
       "Casey McGehee      50  102   0   8    2  0.285  0.337  0.464  0.801  \n",
       "Michael Cuddyer    58   93   0   4    4  0.271  0.336  0.417  0.753  \n",
       "Carlos Lee         37   59   0   4    3  0.246  0.291  0.417  0.708  \n",
       "Chone Figgins      74  114  17   6    3  0.259  0.340  0.306  0.646  \n",
       "Matt Kemp          53  170   0   9    4  0.249  0.310  0.450  0.760  \n",
       "Mark Teixeira      93  122   0   5   13  0.256  0.365  0.481  0.846  \n",
       "Carl Crawford      46  104   3   5    3  0.307  0.356  0.495  0.851  \n",
       "Martin Prado       40   86   3   6    3  0.307  0.350  0.459  0.809  \n",
       "Matt Holliday      69   93   0   2    8  0.312  0.390  0.532  0.922  \n",
       "Billy Butler       69   78   0   9    5  0.318  0.388  0.469  0.857  \n",
       "Jose Lopez         23   66   0   3    3  0.239  0.270  0.339  0.609  \n",
       "Vladimir Guerrero  35   60   0   6    9  0.300  0.345  0.496  0.841  \n",
       "Garrett Jones      53  123   0   8    1  0.247  0.306  0.414  0.720  \n",
       "Adrian Gonzalez    93  114   2   4    2  0.298  0.393  0.511  0.904  \n",
       "Vernon Wells       50   84   0   3    3  0.273  0.331  0.515  0.846  \n",
       "...                ..  ...  ..  ..  ...    ...    ...    ...    ...  \n",
       "Shin-Soo Choo      83  118   0   2   11  0.300  0.401  0.484  0.885  \n",
       "Miguel Cabrera     89   95   0   8    3  0.328  0.420  0.622  1.042  \n",
       "Paul Konerko       72  110   0   6    5  0.312  0.393  0.584  0.977  \n",
       "Joey Votto         91  125   0   3    7  0.324  0.424  0.600  1.024  \n",
       "Hanley Ramirez     64   93   0   5    7  0.300  0.378  0.475  0.853  \n",
       "Ben Zobrist        92  107   7  12    3  0.238  0.346  0.353  0.699  \n",
       "Johnny Damon       69   90   2   1    2  0.271  0.355  0.401  0.756  \n",
       "B.J. Upton         67  164   1   4    2  0.237  0.322  0.424  0.746  \n",
       "Michael Bourn      59  109   6   2    3  0.265  0.341  0.346  0.687  \n",
       "Lyle Overbay       67  131   0   3    3  0.243  0.329  0.433  0.762  \n",
       "Erick Aybar        35   81  11   2    7  0.253  0.306  0.330  0.636  \n",
       "Aaron Hill         41   85   1   2    8  0.205  0.271  0.394  0.665  \n",
       "Ian Desmond        28  109   9   7    5  0.269  0.308  0.392  0.700  \n",
       "Ryan Zimmerman     69   98   0   5    4  0.307  0.388  0.510  0.898  \n",
       "Rajai Davis        26   78   1   5    4  0.284  0.320  0.377  0.697  \n",
       "Ike Davis          72  138   0   5    1  0.264  0.351  0.440  0.791  \n",
       "Alex Rodriguez     59   98   0  11    3  0.270  0.341  0.506  0.847  \n",
       "Juan Uribe         45   92   0   5    4  0.248  0.310  0.440  0.750  \n",
       "Jason Heyward      91  128   0   2   10  0.277  0.393  0.456  0.849  \n",
       "Josh Hamilton      43   95   1   4    5  0.359  0.411  0.633  1.044  \n",
       "Jason Kubel        56  116   0   5    3  0.249  0.323  0.427  0.750  \n",
       "David Ortiz        82  145   0   4    2  0.270  0.370  0.529  0.899  \n",
       "Andre Ethier       59  102   0   6    3  0.292  0.364  0.493  0.857  \n",
       "Brandon Inge       54  134   0   7    5  0.247  0.321  0.397  0.718  \n",
       "Drew Stubbs        55  168   3   6    5  0.255  0.329  0.444  0.773  \n",
       "Jeff Keppinger     51   36   5   4    1  0.288  0.351  0.393  0.744  \n",
       "Jonny Gomes        39  123   0   9   12  0.266  0.327  0.431  0.758  \n",
       "Joe Mauer          65   53   0   6    3  0.327  0.402  0.469  0.871  \n",
       "Nyjer Morgan       40   88  15   3   10  0.253  0.319  0.314  0.633  \n",
       "Jay Bruce          58  136   0   5    1  0.281  0.353  0.493  0.846  \n",
       "\n",
       "[100 rows x 23 columns]"
      ],
      "text/html": "<div>\n<style scoped>\n    .dataframe tbody tr th:only-of-type {\n        vertical-align: middle;\n    }\n\n    .dataframe tbody tr th {\n        vertical-align: top;\n    }\n\n    .dataframe thead th {\n        text-align: right;\n    }\n</style>\n<table border=\"1\" class=\"dataframe\">\n  <thead>\n    <tr style=\"text-align: right;\">\n      <th></th>\n      <th>Year</th>\n      <th>Team</th>\n      <th>Pos</th>\n      <th>Age</th>\n      <th>G</th>\n      <th>AB</th>\n      <th>R</th>\n      <th>H</th>\n      <th>2B</th>\n      <th>3B</th>\n      <th>...</th>\n      <th>CS</th>\n      <th>BB</th>\n      <th>SO</th>\n      <th>SH</th>\n      <th>SF</th>\n      <th>HBP</th>\n      <th>AVG</th>\n      <th>OBP</th>\n      <th>SLG</th>\n      <th>OPS</th>\n    </tr>\n    <tr>\n      <th>Player</th>\n      <th></th>\n      <th></th>\n      <th></th>\n      <th></th>\n      <th></th>\n      <th></th>\n      <th></th>\n      <th></th>\n      <th></th>\n      <th></th>\n      <th></th>\n      <th></th>\n      <th></th>\n      <th></th>\n      <th></th>\n      <th></th>\n      <th></th>\n      <th></th>\n      <th></th>\n      <th></th>\n      <th></th>\n    </tr>\n  </thead>\n  <tbody>\n    <tr>\n      <th>Ichiro Suzuki</th>\n      <td>2010</td>\n      <td>SEA</td>\n      <td>OF</td>\n      <td>47</td>\n      <td>162</td>\n      <td>680</td>\n      <td>74</td>\n      <td>214</td>\n      <td>30</td>\n      <td>3</td>\n      <td>...</td>\n      <td>9</td>\n      <td>45</td>\n      <td>86</td>\n      <td>3</td>\n      <td>1</td>\n      <td>3</td>\n      <td>0.315</td>\n      <td>0.359</td>\n      <td>0.394</td>\n      <td>0.753</td>\n    </tr>\n    <tr>\n      <th>Derek Jeter</th>\n      <td>2010</td>\n      <td>NYY</td>\n      <td>SS</td>\n      <td>47</td>\n      <td>157</td>\n      <td>663</td>\n      <td>111</td>\n      <td>179</td>\n      <td>30</td>\n      <td>3</td>\n      <td>...</td>\n      <td>5</td>\n      <td>63</td>\n      <td>106</td>\n      <td>1</td>\n      <td>3</td>\n      <td>9</td>\n      <td>0.270</td>\n      <td>0.340</td>\n      <td>0.370</td>\n      <td>0.710</td>\n    </tr>\n    <tr>\n      <th>Michael Young</th>\n      <td>2010</td>\n      <td>TEX</td>\n      <td>3B</td>\n      <td>44</td>\n      <td>157</td>\n      <td>656</td>\n      <td>99</td>\n      <td>186</td>\n      <td>36</td>\n      <td>3</td>\n      <td>...</td>\n      <td>2</td>\n      <td>50</td>\n      <td>115</td>\n      <td>0</td>\n      <td>11</td>\n      <td>1</td>\n      <td>0.284</td>\n      <td>0.330</td>\n      <td>0.444</td>\n      <td>0.774</td>\n    </tr>\n    <tr>\n      <th>Juan Pierre</th>\n      <td>2010</td>\n      <td>CWS</td>\n      <td>OF</td>\n      <td>43</td>\n      <td>160</td>\n      <td>651</td>\n      <td>96</td>\n      <td>179</td>\n      <td>18</td>\n      <td>3</td>\n      <td>...</td>\n      <td>18</td>\n      <td>45</td>\n      <td>47</td>\n      <td>15</td>\n      <td>2</td>\n      <td>21</td>\n      <td>0.275</td>\n      <td>0.341</td>\n      <td>0.316</td>\n      <td>0.657</td>\n    </tr>\n    <tr>\n      <th>Rickie Weeks</th>\n      <td>2010</td>\n      <td>MIL</td>\n      <td>DH</td>\n      <td>38</td>\n      <td>160</td>\n      <td>651</td>\n      <td>112</td>\n      <td>175</td>\n      <td>32</td>\n      <td>4</td>\n      <td>...</td>\n      <td>4</td>\n      <td>76</td>\n      <td>184</td>\n      <td>0</td>\n      <td>2</td>\n      <td>25</td>\n      <td>0.269</td>\n      <td>0.366</td>\n      <td>0.464</td>\n      <td>0.830</td>\n    </tr>\n    <tr>\n      <th>Marco Scutaro</th>\n      <td>2010</td>\n      <td>BOS</td>\n      <td>2B</td>\n      <td>45</td>\n      <td>150</td>\n      <td>632</td>\n      <td>92</td>\n      <td>174</td>\n      <td>38</td>\n      <td>0</td>\n      <td>...</td>\n      <td>4</td>\n      <td>53</td>\n      <td>71</td>\n      <td>4</td>\n      <td>3</td>\n      <td>3</td>\n      <td>0.275</td>\n      <td>0.333</td>\n      <td>0.388</td>\n      <td>0.721</td>\n    </tr>\n    <tr>\n      <th>Nick Markakis</th>\n      <td>2010</td>\n      <td>BAL</td>\n      <td>OF</td>\n      <td>37</td>\n      <td>160</td>\n      <td>629</td>\n      <td>79</td>\n      <td>187</td>\n      <td>45</td>\n      <td>3</td>\n      <td>...</td>\n      <td>2</td>\n      <td>73</td>\n      <td>93</td>\n      <td>0</td>\n      <td>5</td>\n      <td>2</td>\n      <td>0.297</td>\n      <td>0.370</td>\n      <td>0.436</td>\n      <td>0.806</td>\n    </tr>\n    <tr>\n      <th>Denard Span</th>\n      <td>2010</td>\n      <td>MIN</td>\n      <td>OF</td>\n      <td>37</td>\n      <td>153</td>\n      <td>629</td>\n      <td>85</td>\n      <td>166</td>\n      <td>24</td>\n      <td>10</td>\n      <td>...</td>\n      <td>4</td>\n      <td>60</td>\n      <td>74</td>\n      <td>10</td>\n      <td>2</td>\n      <td>4</td>\n      <td>0.264</td>\n      <td>0.331</td>\n      <td>0.348</td>\n      <td>0.679</td>\n    </tr>\n    <tr>\n      <th>Brandon Phillips</th>\n      <td>2010</td>\n      <td>CIN</td>\n      <td>2B</td>\n      <td>40</td>\n      <td>155</td>\n      <td>626</td>\n      <td>100</td>\n      <td>172</td>\n      <td>33</td>\n      <td>5</td>\n      <td>...</td>\n      <td>12</td>\n      <td>46</td>\n      <td>83</td>\n      <td>6</td>\n      <td>1</td>\n      <td>8</td>\n      <td>0.275</td>\n      <td>0.332</td>\n      <td>0.430</td>\n      <td>0.762</td>\n    </tr>\n    <tr>\n      <th>Robinson Cano</th>\n      <td>2010</td>\n      <td>NYY</td>\n      <td>2B</td>\n      <td>38</td>\n      <td>160</td>\n      <td>626</td>\n      <td>103</td>\n      <td>200</td>\n      <td>41</td>\n      <td>3</td>\n      <td>...</td>\n      <td>2</td>\n      <td>57</td>\n      <td>77</td>\n      <td>0</td>\n      <td>5</td>\n      <td>8</td>\n      <td>0.319</td>\n      <td>0.381</td>\n      <td>0.534</td>\n      <td>0.915</td>\n    </tr>\n    <tr>\n      <th>Ryan Braun</th>\n      <td>2010</td>\n      <td>MIL</td>\n      <td>OF</td>\n      <td>37</td>\n      <td>157</td>\n      <td>619</td>\n      <td>101</td>\n      <td>188</td>\n      <td>45</td>\n      <td>1</td>\n      <td>...</td>\n      <td>3</td>\n      <td>56</td>\n      <td>105</td>\n      <td>0</td>\n      <td>3</td>\n      <td>6</td>\n      <td>0.304</td>\n      <td>0.365</td>\n      <td>0.501</td>\n      <td>0.866</td>\n    </tr>\n    <tr>\n      <th>Austin Jackson</th>\n      <td>2010</td>\n      <td>DET</td>\n      <td>OF</td>\n      <td>34</td>\n      <td>151</td>\n      <td>618</td>\n      <td>103</td>\n      <td>181</td>\n      <td>34</td>\n      <td>10</td>\n      <td>...</td>\n      <td>6</td>\n      <td>47</td>\n      <td>170</td>\n      <td>3</td>\n      <td>3</td>\n      <td>4</td>\n      <td>0.293</td>\n      <td>0.345</td>\n      <td>0.400</td>\n      <td>0.745</td>\n    </tr>\n    <tr>\n      <th>Howie Kendrick</th>\n      <td>2010</td>\n      <td>LAA</td>\n      <td>DH</td>\n      <td>38</td>\n      <td>158</td>\n      <td>616</td>\n      <td>67</td>\n      <td>172</td>\n      <td>41</td>\n      <td>4</td>\n      <td>...</td>\n      <td>4</td>\n      <td>28</td>\n      <td>94</td>\n      <td>4</td>\n      <td>5</td>\n      <td>5</td>\n      <td>0.279</td>\n      <td>0.313</td>\n      <td>0.407</td>\n      <td>0.720</td>\n    </tr>\n    <tr>\n      <th>Hunter Pence</th>\n      <td>2010</td>\n      <td>HOU</td>\n      <td>OF</td>\n      <td>38</td>\n      <td>156</td>\n      <td>614</td>\n      <td>93</td>\n      <td>173</td>\n      <td>29</td>\n      <td>3</td>\n      <td>...</td>\n      <td>9</td>\n      <td>41</td>\n      <td>105</td>\n      <td>0</td>\n      <td>3</td>\n      <td>0</td>\n      <td>0.282</td>\n      <td>0.325</td>\n      <td>0.461</td>\n      <td>0.786</td>\n    </tr>\n    <tr>\n      <th>Chase Headley</th>\n      <td>2010</td>\n      <td>SD</td>\n      <td>3B</td>\n      <td>37</td>\n      <td>161</td>\n      <td>610</td>\n      <td>77</td>\n      <td>161</td>\n      <td>29</td>\n      <td>3</td>\n      <td>...</td>\n      <td>5</td>\n      <td>56</td>\n      <td>139</td>\n      <td>1</td>\n      <td>4</td>\n      <td>3</td>\n      <td>0.264</td>\n      <td>0.327</td>\n      <td>0.375</td>\n      <td>0.702</td>\n    </tr>\n    <tr>\n      <th>Casey McGehee</th>\n      <td>2010</td>\n      <td>MIL</td>\n      <td>3B</td>\n      <td>38</td>\n      <td>157</td>\n      <td>610</td>\n      <td>70</td>\n      <td>174</td>\n      <td>38</td>\n      <td>1</td>\n      <td>...</td>\n      <td>1</td>\n      <td>50</td>\n      <td>102</td>\n      <td>0</td>\n      <td>8</td>\n      <td>2</td>\n      <td>0.285</td>\n      <td>0.337</td>\n      <td>0.464</td>\n      <td>0.801</td>\n    </tr>\n    <tr>\n      <th>Michael Cuddyer</th>\n      <td>2010</td>\n      <td>MIN</td>\n      <td>OF</td>\n      <td>42</td>\n      <td>157</td>\n      <td>609</td>\n      <td>93</td>\n      <td>165</td>\n      <td>37</td>\n      <td>5</td>\n      <td>...</td>\n      <td>3</td>\n      <td>58</td>\n      <td>93</td>\n      <td>0</td>\n      <td>4</td>\n      <td>4</td>\n      <td>0.271</td>\n      <td>0.336</td>\n      <td>0.417</td>\n      <td>0.753</td>\n    </tr>\n    <tr>\n      <th>Carlos Lee</th>\n      <td>2010</td>\n      <td>HOU</td>\n      <td>1B</td>\n      <td>45</td>\n      <td>157</td>\n      <td>605</td>\n      <td>67</td>\n      <td>149</td>\n      <td>29</td>\n      <td>1</td>\n      <td>...</td>\n      <td>3</td>\n      <td>37</td>\n      <td>59</td>\n      <td>0</td>\n      <td>4</td>\n      <td>3</td>\n      <td>0.246</td>\n      <td>0.291</td>\n      <td>0.417</td>\n      <td>0.708</td>\n    </tr>\n    <tr>\n      <th>Chone Figgins</th>\n      <td>2010</td>\n      <td>SEA</td>\n      <td>OF</td>\n      <td>43</td>\n      <td>161</td>\n      <td>602</td>\n      <td>62</td>\n      <td>156</td>\n      <td>21</td>\n      <td>2</td>\n      <td>...</td>\n      <td>15</td>\n      <td>74</td>\n      <td>114</td>\n      <td>17</td>\n      <td>6</td>\n      <td>3</td>\n      <td>0.259</td>\n      <td>0.340</td>\n      <td>0.306</td>\n      <td>0.646</td>\n    </tr>\n    <tr>\n      <th>Matt Kemp</th>\n      <td>2010</td>\n      <td>LAD</td>\n      <td>DH</td>\n      <td>36</td>\n      <td>162</td>\n      <td>602</td>\n      <td>82</td>\n      <td>150</td>\n      <td>25</td>\n      <td>6</td>\n      <td>...</td>\n      <td>15</td>\n      <td>53</td>\n      <td>170</td>\n      <td>0</td>\n      <td>9</td>\n      <td>4</td>\n      <td>0.249</td>\n      <td>0.310</td>\n      <td>0.450</td>\n      <td>0.760</td>\n    </tr>\n    <tr>\n      <th>Mark Teixeira</th>\n      <td>2010</td>\n      <td>NYY</td>\n      <td>1B</td>\n      <td>41</td>\n      <td>158</td>\n      <td>601</td>\n      <td>113</td>\n      <td>154</td>\n      <td>36</td>\n      <td>0</td>\n      <td>...</td>\n      <td>1</td>\n      <td>93</td>\n      <td>122</td>\n      <td>0</td>\n      <td>5</td>\n      <td>13</td>\n      <td>0.256</td>\n      <td>0.365</td>\n      <td>0.481</td>\n      <td>0.846</td>\n    </tr>\n    <tr>\n      <th>Carl Crawford</th>\n      <td>2010</td>\n      <td>TB</td>\n      <td>OF</td>\n      <td>39</td>\n      <td>154</td>\n      <td>600</td>\n      <td>110</td>\n      <td>184</td>\n      <td>30</td>\n      <td>13</td>\n      <td>...</td>\n      <td>10</td>\n      <td>46</td>\n      <td>104</td>\n      <td>3</td>\n      <td>5</td>\n      <td>3</td>\n      <td>0.307</td>\n      <td>0.356</td>\n      <td>0.495</td>\n      <td>0.851</td>\n    </tr>\n    <tr>\n      <th>Martin Prado</th>\n      <td>2010</td>\n      <td>ATL</td>\n      <td>3B</td>\n      <td>37</td>\n      <td>140</td>\n      <td>599</td>\n      <td>100</td>\n      <td>184</td>\n      <td>40</td>\n      <td>3</td>\n      <td>...</td>\n      <td>3</td>\n      <td>40</td>\n      <td>86</td>\n      <td>3</td>\n      <td>6</td>\n      <td>3</td>\n      <td>0.307</td>\n      <td>0.350</td>\n      <td>0.459</td>\n      <td>0.809</td>\n    </tr>\n    <tr>\n      <th>Matt Holliday</th>\n      <td>2010</td>\n      <td>STL</td>\n      <td>OF</td>\n      <td>41</td>\n      <td>158</td>\n      <td>596</td>\n      <td>95</td>\n      <td>186</td>\n      <td>45</td>\n      <td>1</td>\n      <td>...</td>\n      <td>5</td>\n      <td>69</td>\n      <td>93</td>\n      <td>0</td>\n      <td>2</td>\n      <td>8</td>\n      <td>0.312</td>\n      <td>0.390</td>\n      <td>0.532</td>\n      <td>0.922</td>\n    </tr>\n    <tr>\n      <th>Billy Butler</th>\n      <td>2010</td>\n      <td>KC</td>\n      <td>1B</td>\n      <td>35</td>\n      <td>158</td>\n      <td>595</td>\n      <td>77</td>\n      <td>189</td>\n      <td>45</td>\n      <td>0</td>\n      <td>...</td>\n      <td>0</td>\n      <td>69</td>\n      <td>78</td>\n      <td>0</td>\n      <td>9</td>\n      <td>5</td>\n      <td>0.318</td>\n      <td>0.388</td>\n      <td>0.469</td>\n      <td>0.857</td>\n    </tr>\n    <tr>\n      <th>Jose Lopez</th>\n      <td>2010</td>\n      <td>SEA</td>\n      <td>3B</td>\n      <td>37</td>\n      <td>150</td>\n      <td>593</td>\n      <td>49</td>\n      <td>142</td>\n      <td>29</td>\n      <td>0</td>\n      <td>...</td>\n      <td>2</td>\n      <td>23</td>\n      <td>66</td>\n      <td>0</td>\n      <td>3</td>\n      <td>3</td>\n      <td>0.239</td>\n      <td>0.270</td>\n      <td>0.339</td>\n      <td>0.609</td>\n    </tr>\n    <tr>\n      <th>Vladimir Guerrero</th>\n      <td>2010</td>\n      <td>TEX</td>\n      <td>DH</td>\n      <td>46</td>\n      <td>152</td>\n      <td>593</td>\n      <td>83</td>\n      <td>178</td>\n      <td>27</td>\n      <td>1</td>\n      <td>...</td>\n      <td>5</td>\n      <td>35</td>\n      <td>60</td>\n      <td>0</td>\n      <td>6</td>\n      <td>9</td>\n      <td>0.300</td>\n      <td>0.345</td>\n      <td>0.496</td>\n      <td>0.841</td>\n    </tr>\n    <tr>\n      <th>Garrett Jones</th>\n      <td>2010</td>\n      <td>PIT</td>\n      <td>1B</td>\n      <td>40</td>\n      <td>158</td>\n      <td>592</td>\n      <td>64</td>\n      <td>146</td>\n      <td>34</td>\n      <td>1</td>\n      <td>...</td>\n      <td>3</td>\n      <td>53</td>\n      <td>123</td>\n      <td>0</td>\n      <td>8</td>\n      <td>1</td>\n      <td>0.247</td>\n      <td>0.306</td>\n      <td>0.414</td>\n      <td>0.720</td>\n    </tr>\n    <tr>\n      <th>Adrian Gonzalez</th>\n      <td>2010</td>\n      <td>SD</td>\n      <td>1B</td>\n      <td>39</td>\n      <td>160</td>\n      <td>591</td>\n      <td>87</td>\n      <td>176</td>\n      <td>33</td>\n      <td>0</td>\n      <td>...</td>\n      <td>0</td>\n      <td>93</td>\n      <td>114</td>\n      <td>2</td>\n      <td>4</td>\n      <td>2</td>\n      <td>0.298</td>\n      <td>0.393</td>\n      <td>0.511</td>\n      <td>0.904</td>\n    </tr>\n    <tr>\n      <th>Vernon Wells</th>\n      <td>2010</td>\n      <td>TOR</td>\n      <td>OF</td>\n      <td>42</td>\n      <td>157</td>\n      <td>590</td>\n      <td>79</td>\n      <td>161</td>\n      <td>44</td>\n      <td>3</td>\n      <td>...</td>\n      <td>4</td>\n      <td>50</td>\n      <td>84</td>\n      <td>0</td>\n      <td>3</td>\n      <td>3</td>\n      <td>0.273</td>\n      <td>0.331</td>\n      <td>0.515</td>\n      <td>0.846</td>\n    </tr>\n    <tr>\n      <th>...</th>\n      <td>...</td>\n      <td>...</td>\n      <td>...</td>\n      <td>...</td>\n      <td>...</td>\n      <td>...</td>\n      <td>...</td>\n      <td>...</td>\n      <td>...</td>\n      <td>...</td>\n      <td>...</td>\n      <td>...</td>\n      <td>...</td>\n      <td>...</td>\n      <td>...</td>\n      <td>...</td>\n      <td>...</td>\n      <td>...</td>\n      <td>...</td>\n      <td>...</td>\n      <td>...</td>\n    </tr>\n    <tr>\n      <th>Shin-Soo Choo</th>\n      <td>2010</td>\n      <td>CLE</td>\n      <td>OF</td>\n      <td>38</td>\n      <td>144</td>\n      <td>550</td>\n      <td>81</td>\n      <td>165</td>\n      <td>31</td>\n      <td>2</td>\n      <td>...</td>\n      <td>7</td>\n      <td>83</td>\n      <td>118</td>\n      <td>0</td>\n      <td>2</td>\n      <td>11</td>\n      <td>0.300</td>\n      <td>0.401</td>\n      <td>0.484</td>\n      <td>0.885</td>\n    </tr>\n    <tr>\n      <th>Miguel Cabrera</th>\n      <td>2010</td>\n      <td>DET</td>\n      <td>DH</td>\n      <td>38</td>\n      <td>150</td>\n      <td>548</td>\n      <td>111</td>\n      <td>180</td>\n      <td>45</td>\n      <td>1</td>\n      <td>...</td>\n      <td>3</td>\n      <td>89</td>\n      <td>95</td>\n      <td>0</td>\n      <td>8</td>\n      <td>3</td>\n      <td>0.328</td>\n      <td>0.420</td>\n      <td>0.622</td>\n      <td>1.042</td>\n    </tr>\n    <tr>\n      <th>Paul Konerko</th>\n      <td>2010</td>\n      <td>CWS</td>\n      <td>1B</td>\n      <td>45</td>\n      <td>149</td>\n      <td>548</td>\n      <td>89</td>\n      <td>171</td>\n      <td>30</td>\n      <td>1</td>\n      <td>...</td>\n      <td>1</td>\n      <td>72</td>\n      <td>110</td>\n      <td>0</td>\n      <td>6</td>\n      <td>5</td>\n      <td>0.312</td>\n      <td>0.393</td>\n      <td>0.584</td>\n      <td>0.977</td>\n    </tr>\n    <tr>\n      <th>Joey Votto</th>\n      <td>2010</td>\n      <td>CIN</td>\n      <td>1B</td>\n      <td>37</td>\n      <td>150</td>\n      <td>547</td>\n      <td>106</td>\n      <td>177</td>\n      <td>36</td>\n      <td>2</td>\n      <td>...</td>\n      <td>5</td>\n      <td>91</td>\n      <td>125</td>\n      <td>0</td>\n      <td>3</td>\n      <td>7</td>\n      <td>0.324</td>\n      <td>0.424</td>\n      <td>0.600</td>\n      <td>1.024</td>\n    </tr>\n    <tr>\n      <th>Hanley Ramirez</th>\n      <td>2010</td>\n      <td>FLA</td>\n      <td>DH</td>\n      <td>37</td>\n      <td>142</td>\n      <td>543</td>\n      <td>92</td>\n      <td>163</td>\n      <td>28</td>\n      <td>2</td>\n      <td>...</td>\n      <td>10</td>\n      <td>64</td>\n      <td>93</td>\n      <td>0</td>\n      <td>5</td>\n      <td>7</td>\n      <td>0.300</td>\n      <td>0.378</td>\n      <td>0.475</td>\n      <td>0.853</td>\n    </tr>\n    <tr>\n      <th>Ben Zobrist</th>\n      <td>2010</td>\n      <td>TB</td>\n      <td>2B</td>\n      <td>40</td>\n      <td>151</td>\n      <td>541</td>\n      <td>77</td>\n      <td>129</td>\n      <td>28</td>\n      <td>2</td>\n      <td>...</td>\n      <td>3</td>\n      <td>92</td>\n      <td>107</td>\n      <td>7</td>\n      <td>12</td>\n      <td>3</td>\n      <td>0.238</td>\n      <td>0.346</td>\n      <td>0.353</td>\n      <td>0.699</td>\n    </tr>\n    <tr>\n      <th>Johnny Damon</th>\n      <td>2010</td>\n      <td>DET</td>\n      <td>OF</td>\n      <td>47</td>\n      <td>145</td>\n      <td>539</td>\n      <td>81</td>\n      <td>146</td>\n      <td>36</td>\n      <td>5</td>\n      <td>...</td>\n      <td>1</td>\n      <td>69</td>\n      <td>90</td>\n      <td>2</td>\n      <td>1</td>\n      <td>2</td>\n      <td>0.271</td>\n      <td>0.355</td>\n      <td>0.401</td>\n      <td>0.756</td>\n    </tr>\n    <tr>\n      <th>B.J. Upton</th>\n      <td>2010</td>\n      <td>TB</td>\n      <td>OF</td>\n      <td>36</td>\n      <td>154</td>\n      <td>536</td>\n      <td>89</td>\n      <td>127</td>\n      <td>38</td>\n      <td>4</td>\n      <td>...</td>\n      <td>9</td>\n      <td>67</td>\n      <td>164</td>\n      <td>1</td>\n      <td>4</td>\n      <td>2</td>\n      <td>0.237</td>\n      <td>0.322</td>\n      <td>0.424</td>\n      <td>0.746</td>\n    </tr>\n    <tr>\n      <th>Michael Bourn</th>\n      <td>2010</td>\n      <td>HOU</td>\n      <td>OF</td>\n      <td>38</td>\n      <td>141</td>\n      <td>535</td>\n      <td>84</td>\n      <td>142</td>\n      <td>25</td>\n      <td>6</td>\n      <td>...</td>\n      <td>12</td>\n      <td>59</td>\n      <td>109</td>\n      <td>6</td>\n      <td>2</td>\n      <td>3</td>\n      <td>0.265</td>\n      <td>0.341</td>\n      <td>0.346</td>\n      <td>0.687</td>\n    </tr>\n    <tr>\n      <th>Lyle Overbay</th>\n      <td>2010</td>\n      <td>TOR</td>\n      <td>1B</td>\n      <td>44</td>\n      <td>154</td>\n      <td>534</td>\n      <td>75</td>\n      <td>130</td>\n      <td>37</td>\n      <td>2</td>\n      <td>...</td>\n      <td>0</td>\n      <td>67</td>\n      <td>131</td>\n      <td>0</td>\n      <td>3</td>\n      <td>3</td>\n      <td>0.243</td>\n      <td>0.329</td>\n      <td>0.433</td>\n      <td>0.762</td>\n    </tr>\n    <tr>\n      <th>Erick Aybar</th>\n      <td>2010</td>\n      <td>LAA</td>\n      <td>SS</td>\n      <td>37</td>\n      <td>138</td>\n      <td>534</td>\n      <td>69</td>\n      <td>135</td>\n      <td>18</td>\n      <td>4</td>\n      <td>...</td>\n      <td>8</td>\n      <td>35</td>\n      <td>81</td>\n      <td>11</td>\n      <td>2</td>\n      <td>7</td>\n      <td>0.253</td>\n      <td>0.306</td>\n      <td>0.330</td>\n      <td>0.636</td>\n    </tr>\n    <tr>\n      <th>Aaron Hill</th>\n      <td>2010</td>\n      <td>TOR</td>\n      <td>2B</td>\n      <td>39</td>\n      <td>138</td>\n      <td>528</td>\n      <td>70</td>\n      <td>108</td>\n      <td>22</td>\n      <td>0</td>\n      <td>...</td>\n      <td>2</td>\n      <td>41</td>\n      <td>85</td>\n      <td>1</td>\n      <td>2</td>\n      <td>8</td>\n      <td>0.205</td>\n      <td>0.271</td>\n      <td>0.394</td>\n      <td>0.665</td>\n    </tr>\n    <tr>\n      <th>Ian Desmond</th>\n      <td>2010</td>\n      <td>WAS</td>\n      <td>OF</td>\n      <td>35</td>\n      <td>154</td>\n      <td>525</td>\n      <td>59</td>\n      <td>141</td>\n      <td>27</td>\n      <td>4</td>\n      <td>...</td>\n      <td>5</td>\n      <td>28</td>\n      <td>109</td>\n      <td>9</td>\n      <td>7</td>\n      <td>5</td>\n      <td>0.269</td>\n      <td>0.308</td>\n      <td>0.392</td>\n      <td>0.700</td>\n    </tr>\n    <tr>\n      <th>Ryan Zimmerman</th>\n      <td>2010</td>\n      <td>WAS</td>\n      <td>1B</td>\n      <td>36</td>\n      <td>142</td>\n      <td>525</td>\n      <td>85</td>\n      <td>161</td>\n      <td>32</td>\n      <td>0</td>\n      <td>...</td>\n      <td>1</td>\n      <td>69</td>\n      <td>98</td>\n      <td>0</td>\n      <td>5</td>\n      <td>4</td>\n      <td>0.307</td>\n      <td>0.388</td>\n      <td>0.510</td>\n      <td>0.898</td>\n    </tr>\n    <tr>\n      <th>Rajai Davis</th>\n      <td>2010</td>\n      <td>OAK</td>\n      <td>OF</td>\n      <td>40</td>\n      <td>143</td>\n      <td>525</td>\n      <td>66</td>\n      <td>149</td>\n      <td>28</td>\n      <td>3</td>\n      <td>...</td>\n      <td>11</td>\n      <td>26</td>\n      <td>78</td>\n      <td>1</td>\n      <td>5</td>\n      <td>4</td>\n      <td>0.284</td>\n      <td>0.320</td>\n      <td>0.377</td>\n      <td>0.697</td>\n    </tr>\n    <tr>\n      <th>Ike Davis</th>\n      <td>2010</td>\n      <td>NYM</td>\n      <td>1B</td>\n      <td>34</td>\n      <td>147</td>\n      <td>523</td>\n      <td>73</td>\n      <td>138</td>\n      <td>33</td>\n      <td>1</td>\n      <td>...</td>\n      <td>2</td>\n      <td>72</td>\n      <td>138</td>\n      <td>0</td>\n      <td>5</td>\n      <td>1</td>\n      <td>0.264</td>\n      <td>0.351</td>\n      <td>0.440</td>\n      <td>0.791</td>\n    </tr>\n    <tr>\n      <th>Alex Rodriguez</th>\n      <td>2010</td>\n      <td>NYY</td>\n      <td>DH</td>\n      <td>45</td>\n      <td>137</td>\n      <td>522</td>\n      <td>74</td>\n      <td>141</td>\n      <td>29</td>\n      <td>2</td>\n      <td>...</td>\n      <td>3</td>\n      <td>59</td>\n      <td>98</td>\n      <td>0</td>\n      <td>11</td>\n      <td>3</td>\n      <td>0.270</td>\n      <td>0.341</td>\n      <td>0.506</td>\n      <td>0.847</td>\n    </tr>\n    <tr>\n      <th>Juan Uribe</th>\n      <td>2010</td>\n      <td>SF</td>\n      <td>3B</td>\n      <td>42</td>\n      <td>148</td>\n      <td>521</td>\n      <td>64</td>\n      <td>129</td>\n      <td>24</td>\n      <td>2</td>\n      <td>...</td>\n      <td>2</td>\n      <td>45</td>\n      <td>92</td>\n      <td>0</td>\n      <td>5</td>\n      <td>4</td>\n      <td>0.248</td>\n      <td>0.310</td>\n      <td>0.440</td>\n      <td>0.750</td>\n    </tr>\n    <tr>\n      <th>Jason Heyward</th>\n      <td>2010</td>\n      <td>ATL</td>\n      <td>OF</td>\n      <td>31</td>\n      <td>142</td>\n      <td>520</td>\n      <td>83</td>\n      <td>144</td>\n      <td>29</td>\n      <td>5</td>\n      <td>...</td>\n      <td>6</td>\n      <td>91</td>\n      <td>128</td>\n      <td>0</td>\n      <td>2</td>\n      <td>10</td>\n      <td>0.277</td>\n      <td>0.393</td>\n      <td>0.456</td>\n      <td>0.849</td>\n    </tr>\n    <tr>\n      <th>Josh Hamilton</th>\n      <td>2010</td>\n      <td>TEX</td>\n      <td>OF</td>\n      <td>40</td>\n      <td>133</td>\n      <td>518</td>\n      <td>95</td>\n      <td>186</td>\n      <td>40</td>\n      <td>3</td>\n      <td>...</td>\n      <td>1</td>\n      <td>43</td>\n      <td>95</td>\n      <td>1</td>\n      <td>4</td>\n      <td>5</td>\n      <td>0.359</td>\n      <td>0.411</td>\n      <td>0.633</td>\n      <td>1.044</td>\n    </tr>\n    <tr>\n      <th>Jason Kubel</th>\n      <td>2010</td>\n      <td>MIN</td>\n      <td>OF</td>\n      <td>39</td>\n      <td>143</td>\n      <td>518</td>\n      <td>68</td>\n      <td>129</td>\n      <td>23</td>\n      <td>3</td>\n      <td>...</td>\n      <td>1</td>\n      <td>56</td>\n      <td>116</td>\n      <td>0</td>\n      <td>5</td>\n      <td>3</td>\n      <td>0.249</td>\n      <td>0.323</td>\n      <td>0.427</td>\n      <td>0.750</td>\n    </tr>\n    <tr>\n      <th>David Ortiz</th>\n      <td>2010</td>\n      <td>BOS</td>\n      <td>DH</td>\n      <td>45</td>\n      <td>145</td>\n      <td>518</td>\n      <td>86</td>\n      <td>140</td>\n      <td>36</td>\n      <td>1</td>\n      <td>...</td>\n      <td>1</td>\n      <td>82</td>\n      <td>145</td>\n      <td>0</td>\n      <td>4</td>\n      <td>2</td>\n      <td>0.270</td>\n      <td>0.370</td>\n      <td>0.529</td>\n      <td>0.899</td>\n    </tr>\n    <tr>\n      <th>Andre Ethier</th>\n      <td>2010</td>\n      <td>LAD</td>\n      <td>OF</td>\n      <td>39</td>\n      <td>139</td>\n      <td>517</td>\n      <td>71</td>\n      <td>151</td>\n      <td>33</td>\n      <td>1</td>\n      <td>...</td>\n      <td>1</td>\n      <td>59</td>\n      <td>102</td>\n      <td>0</td>\n      <td>6</td>\n      <td>3</td>\n      <td>0.292</td>\n      <td>0.364</td>\n      <td>0.493</td>\n      <td>0.857</td>\n    </tr>\n    <tr>\n      <th>Brandon Inge</th>\n      <td>2010</td>\n      <td>DET</td>\n      <td>3B</td>\n      <td>44</td>\n      <td>144</td>\n      <td>514</td>\n      <td>47</td>\n      <td>127</td>\n      <td>28</td>\n      <td>5</td>\n      <td>...</td>\n      <td>3</td>\n      <td>54</td>\n      <td>134</td>\n      <td>0</td>\n      <td>7</td>\n      <td>5</td>\n      <td>0.247</td>\n      <td>0.321</td>\n      <td>0.397</td>\n      <td>0.718</td>\n    </tr>\n    <tr>\n      <th>Drew Stubbs</th>\n      <td>2010</td>\n      <td>CIN</td>\n      <td>OF</td>\n      <td>36</td>\n      <td>150</td>\n      <td>514</td>\n      <td>91</td>\n      <td>131</td>\n      <td>19</td>\n      <td>6</td>\n      <td>...</td>\n      <td>6</td>\n      <td>55</td>\n      <td>168</td>\n      <td>3</td>\n      <td>6</td>\n      <td>5</td>\n      <td>0.255</td>\n      <td>0.329</td>\n      <td>0.444</td>\n      <td>0.773</td>\n    </tr>\n    <tr>\n      <th>Jeff Keppinger</th>\n      <td>2010</td>\n      <td>HOU</td>\n      <td>3B</td>\n      <td>41</td>\n      <td>137</td>\n      <td>514</td>\n      <td>62</td>\n      <td>148</td>\n      <td>34</td>\n      <td>1</td>\n      <td>...</td>\n      <td>1</td>\n      <td>51</td>\n      <td>36</td>\n      <td>5</td>\n      <td>4</td>\n      <td>1</td>\n      <td>0.288</td>\n      <td>0.351</td>\n      <td>0.393</td>\n      <td>0.744</td>\n    </tr>\n    <tr>\n      <th>Jonny Gomes</th>\n      <td>2010</td>\n      <td>CIN</td>\n      <td>OF</td>\n      <td>40</td>\n      <td>148</td>\n      <td>511</td>\n      <td>77</td>\n      <td>136</td>\n      <td>24</td>\n      <td>3</td>\n      <td>...</td>\n      <td>3</td>\n      <td>39</td>\n      <td>123</td>\n      <td>0</td>\n      <td>9</td>\n      <td>12</td>\n      <td>0.266</td>\n      <td>0.327</td>\n      <td>0.431</td>\n      <td>0.758</td>\n    </tr>\n    <tr>\n      <th>Joe Mauer</th>\n      <td>2010</td>\n      <td>MIN</td>\n      <td>1B</td>\n      <td>38</td>\n      <td>137</td>\n      <td>510</td>\n      <td>88</td>\n      <td>167</td>\n      <td>43</td>\n      <td>1</td>\n      <td>...</td>\n      <td>4</td>\n      <td>65</td>\n      <td>53</td>\n      <td>0</td>\n      <td>6</td>\n      <td>3</td>\n      <td>0.327</td>\n      <td>0.402</td>\n      <td>0.469</td>\n      <td>0.871</td>\n    </tr>\n    <tr>\n      <th>Nyjer Morgan</th>\n      <td>2010</td>\n      <td>WAS</td>\n      <td>OF</td>\n      <td>41</td>\n      <td>136</td>\n      <td>509</td>\n      <td>60</td>\n      <td>129</td>\n      <td>17</td>\n      <td>7</td>\n      <td>...</td>\n      <td>17</td>\n      <td>40</td>\n      <td>88</td>\n      <td>15</td>\n      <td>3</td>\n      <td>10</td>\n      <td>0.253</td>\n      <td>0.319</td>\n      <td>0.314</td>\n      <td>0.633</td>\n    </tr>\n    <tr>\n      <th>Jay Bruce</th>\n      <td>2010</td>\n      <td>CIN</td>\n      <td>OF</td>\n      <td>34</td>\n      <td>148</td>\n      <td>509</td>\n      <td>80</td>\n      <td>143</td>\n      <td>23</td>\n      <td>5</td>\n      <td>...</td>\n      <td>4</td>\n      <td>58</td>\n      <td>136</td>\n      <td>0</td>\n      <td>5</td>\n      <td>1</td>\n      <td>0.281</td>\n      <td>0.353</td>\n      <td>0.493</td>\n      <td>0.846</td>\n    </tr>\n  </tbody>\n</table>\n<p>100 rows × 23 columns</p>\n</div>"
     },
     "metadata": {},
     "execution_count": 3
    }
   ],
   "source": [
    "# Import dataset\n",
    "path = \"Resources/batting_stats_*.csv\"\n",
    "all_files = glob.glob(path)\n",
    "all_files\n",
    "\n",
    "# Read & combine into dataframe\n",
    "data = []\n",
    "\n",
    "for file in all_files:\n",
    "    df = pd.read_csv(file, index_col=None, header=0)    \n",
    "    year = file[-8:-4]\n",
    "    df['Year'] = year\n",
    "    data.append(df)\n",
    "\n",
    "stats_df = pd.concat(data, axis=0, ignore_index=True)\n",
    "stats_df = stats_df[['Year', 'Player', 'Team', 'Pos', 'Age', 'G', 'AB', 'R', 'H', '2B', '3B', 'HR','RBI', \n",
    "             'SB', 'CS', 'BB', 'SO', 'SH', 'SF', 'HBP', 'AVG', 'OBP', 'SLG','OPS']]\n",
    "\n",
    "# Drop player with 0 OPS\n",
    "stats_df = stats_df[stats_df.OPS !=0].set_index('Player')\n",
    "\n",
    "stats_df.head(100)"
   ]
  },
  {
   "cell_type": "code",
   "execution_count": 4,
   "metadata": {},
   "outputs": [],
   "source": [
    "# Creating X & y variables\n",
    "X = stats_df.iloc[:, 4:-2]\n",
    "y = stats_df[\"OPS\"].values"
   ]
  },
  {
   "cell_type": "code",
   "execution_count": 5,
   "metadata": {},
   "outputs": [
    {
     "output_type": "execute_result",
     "data": {
      "text/plain": [
       "(5914, 17)"
      ]
     },
     "metadata": {},
     "execution_count": 5
    }
   ],
   "source": [
    "# Creating training, validation, and testing sets\n",
    "from sklearn.model_selection import train_test_split\n",
    "\n",
    "X_train, X_test, y_train, y_test = train_test_split(X, y, random_state=78)\n",
    "\n",
    "X_train.shape"
   ]
  },
  {
   "cell_type": "code",
   "execution_count": 6,
   "metadata": {},
   "outputs": [],
   "source": [
    "# Scale the data\n",
    "scaler = StandardScaler().fit(X)\n",
    "X = scaler.transform(X)\n",
    "\n",
    "y = y.reshape(-1, 1)\n",
    "scaler_y = StandardScaler().fit(y)\n",
    "y = scaler_y.transform(y)"
   ]
  },
  {
   "cell_type": "code",
   "execution_count": 7,
   "metadata": {},
   "outputs": [
    {
     "output_type": "execute_result",
     "data": {
      "text/plain": [
       "(5914,)"
      ]
     },
     "metadata": {},
     "execution_count": 7
    }
   ],
   "source": [
    "y_train.shape"
   ]
  },
  {
   "cell_type": "code",
   "execution_count": 8,
   "metadata": {},
   "outputs": [],
   "source": [
    "#X_train = X_train.reshape((X_train.shape[0], X_train.shape[1], 1))\n",
    "#X_test = X_test.reshape((X_test.shape[0], X_test.shape[1], 1))"
   ]
  },
  {
   "cell_type": "code",
   "execution_count": 9,
   "metadata": {},
   "outputs": [],
   "source": [
    "# Model set-up\r\n",
    "number_input_features = 77\r\n",
    "hidden_nodes_layer1 = 34\r\n",
    "hidden_nodes_layer2 = 5"
   ]
  },
  {
   "cell_type": "code",
   "execution_count": 10,
   "metadata": {},
   "outputs": [
    {
     "output_type": "stream",
     "name": "stdout",
     "text": [
      "WARNING:tensorflow:From C:\\Users\\Andy L\\anaconda3\\envs\\dev\\lib\\site-packages\\tensorflow\\python\\ops\\init_ops.py:1251: calling VarianceScaling.__init__ (from tensorflow.python.ops.init_ops) with dtype is deprecated and will be removed in a future version.\nInstructions for updating:\nCall initializer instance with the dtype argument instead of passing it to the constructor\n"
     ]
    }
   ],
   "source": [
    "# Define the LSTM RNN model\n",
    "model = Sequential()\n",
    "\n",
    "# Layer 1\n",
    "model.add(\n",
    "    Dense(units=hidden_nodes_layer1, input_dim=number_input_features, activation=\"relu\")\n",
    ")\n",
    "\n",
    "# Layer 2\n",
    "model.add(Dense(units=hidden_nodes_layer2, activation=\"relu\"))\n",
    "\n",
    "# Output layer\n",
    "model.add(Dense(1, activation=\"sigmoid\"))"
   ]
  },
  {
   "cell_type": "code",
   "execution_count": 11,
   "metadata": {},
   "outputs": [
    {
     "output_type": "stream",
     "name": "stdout",
     "text": [
      "WARNING:tensorflow:From C:\\Users\\Andy L\\anaconda3\\envs\\dev\\lib\\site-packages\\tensorflow\\python\\ops\\nn_impl.py:180: add_dispatch_support.<locals>.wrapper (from tensorflow.python.ops.array_ops) is deprecated and will be removed in a future version.\nInstructions for updating:\nUse tf.where in 2.0, which has the same broadcast rule as np.where\n"
     ]
    }
   ],
   "source": [
    "# Compile the model\n",
    "model.compile(\n",
    "    loss=\"binary_crossentropy\",\n",
    "    optimizer=\"adam\",\n",
    "    metrics=[\n",
    "        \"accuracy\",\n",
    "        tf.keras.metrics.TruePositives(name=\"tp\"),\n",
    "        tf.keras.metrics.TrueNegatives(name=\"tn\"),\n",
    "        tf.keras.metrics.FalsePositives(name=\"fp\"),\n",
    "        tf.keras.metrics.FalseNegatives(name=\"fn\"),\n",
    "        tf.keras.metrics.Precision(name=\"precision\"),\n",
    "        tf.keras.metrics.Recall(name=\"recall\"),\n",
    "        tf.keras.metrics.AUC(name=\"auc\"),\n",
    "    ],\n",
    ")"
   ]
  },
  {
   "cell_type": "code",
   "execution_count": 12,
   "metadata": {},
   "outputs": [
    {
     "output_type": "stream",
     "name": "stdout",
     "text": [
      "Epoch 1/50\n",
      "5914/5914 [==============================] - 0s 24us/sample - loss: 21.3979 - acc: 0.0034 - tp: 5914.0000 - tn: 0.0000e+00 - fp: 0.0000e+00 - fn: 0.0000e+00 - precision: 1.0000 - recall: 1.0000 - auc: 0.0000e+00\n",
      "Epoch 2/50\n",
      "5914/5914 [==============================] - 0s 2us/sample - loss: 18.5577 - acc: 0.0034 - tp: 5914.0000 - tn: 0.0000e+00 - fp: 0.0000e+00 - fn: 0.0000e+00 - precision: 1.0000 - recall: 1.0000 - auc: 0.0000e+00\n",
      "Epoch 3/50\n",
      "5914/5914 [==============================] - 0s 2us/sample - loss: 15.8953 - acc: 0.0034 - tp: 5914.0000 - tn: 0.0000e+00 - fp: 0.0000e+00 - fn: 0.0000e+00 - precision: 1.0000 - recall: 1.0000 - auc: 0.0000e+00\n",
      "Epoch 4/50\n",
      "5914/5914 [==============================] - 0s 3us/sample - loss: 13.3533 - acc: 0.0034 - tp: 5914.0000 - tn: 0.0000e+00 - fp: 0.0000e+00 - fn: 0.0000e+00 - precision: 1.0000 - recall: 1.0000 - auc: 0.0000e+00\n",
      "Epoch 5/50\n",
      "5914/5914 [==============================] - 0s 3us/sample - loss: 10.8820 - acc: 0.0034 - tp: 5914.0000 - tn: 0.0000e+00 - fp: 0.0000e+00 - fn: 0.0000e+00 - precision: 1.0000 - recall: 1.0000 - auc: 0.0000e+00\n",
      "Epoch 6/50\n",
      "5914/5914 [==============================] - 0s 3us/sample - loss: 8.4504 - acc: 0.0034 - tp: 5914.0000 - tn: 0.0000e+00 - fp: 0.0000e+00 - fn: 0.0000e+00 - precision: 1.0000 - recall: 1.0000 - auc: 0.0000e+00\n",
      "Epoch 7/50\n",
      "5914/5914 [==============================] - 0s 2us/sample - loss: 6.0737 - acc: 0.0034 - tp: 5914.0000 - tn: 0.0000e+00 - fp: 0.0000e+00 - fn: 0.0000e+00 - precision: 1.0000 - recall: 1.0000 - auc: 0.0000e+00\n",
      "Epoch 8/50\n",
      "5914/5914 [==============================] - 0s 3us/sample - loss: 3.7730 - acc: 0.0032 - tp: 5911.0000 - tn: 0.0000e+00 - fp: 0.0000e+00 - fn: 3.0000 - precision: 1.0000 - recall: 0.9995 - auc: 0.0000e+00\n",
      "Epoch 9/50\n",
      "5914/5914 [==============================] - 0s 2us/sample - loss: 1.7006 - acc: 0.0027 - tp: 5879.0000 - tn: 0.0000e+00 - fp: 0.0000e+00 - fn: 35.0000 - precision: 1.0000 - recall: 0.9941 - auc: 0.0000e+00\n",
      "Epoch 10/50\n",
      "5914/5914 [==============================] - 0s 3us/sample - loss: 0.6933 - acc: 0.0020 - tp: 5738.0000 - tn: 0.0000e+00 - fp: 0.0000e+00 - fn: 176.0000 - precision: 1.0000 - recall: 0.9702 - auc: 0.0000e+00\n",
      "Epoch 11/50\n",
      "5914/5914 [==============================] - 0s 2us/sample - loss: 0.6275 - acc: 0.0017 - tp: 5575.0000 - tn: 0.0000e+00 - fp: 0.0000e+00 - fn: 339.0000 - precision: 1.0000 - recall: 0.9427 - auc: 0.0000e+00\n",
      "Epoch 12/50\n",
      "5914/5914 [==============================] - 0s 3us/sample - loss: 0.6250 - acc: 0.0014 - tp: 5383.0000 - tn: 0.0000e+00 - fp: 0.0000e+00 - fn: 531.0000 - precision: 1.0000 - recall: 0.9102 - auc: 0.0000e+00\n",
      "Epoch 13/50\n",
      "5914/5914 [==============================] - 0s 2us/sample - loss: 0.6274 - acc: 0.0014 - tp: 5306.0000 - tn: 0.0000e+00 - fp: 0.0000e+00 - fn: 608.0000 - precision: 1.0000 - recall: 0.8972 - auc: 0.0000e+00\n",
      "Epoch 14/50\n",
      "5914/5914 [==============================] - 0s 2us/sample - loss: 0.6262 - acc: 0.0014 - tp: 5342.0000 - tn: 0.0000e+00 - fp: 0.0000e+00 - fn: 572.0000 - precision: 1.0000 - recall: 0.9033 - auc: 0.0000e+00\n",
      "Epoch 15/50\n",
      "5914/5914 [==============================] - 0s 2us/sample - loss: 0.6235 - acc: 0.0015 - tp: 5414.0000 - tn: 0.0000e+00 - fp: 0.0000e+00 - fn: 500.0000 - precision: 1.0000 - recall: 0.9155 - auc: 0.0000e+00\n",
      "Epoch 16/50\n",
      "5914/5914 [==============================] - 0s 2us/sample - loss: 0.6217 - acc: 0.0015 - tp: 5496.0000 - tn: 0.0000e+00 - fp: 0.0000e+00 - fn: 418.0000 - precision: 1.0000 - recall: 0.9293 - auc: 0.0000e+00\n",
      "Epoch 17/50\n",
      "5914/5914 [==============================] - 0s 2us/sample - loss: 0.6213 - acc: 0.0019 - tp: 5559.0000 - tn: 0.0000e+00 - fp: 0.0000e+00 - fn: 355.0000 - precision: 1.0000 - recall: 0.9400 - auc: 0.0000e+00\n",
      "Epoch 18/50\n",
      "5914/5914 [==============================] - 0s 2us/sample - loss: 0.6212 - acc: 0.0020 - tp: 5591.0000 - tn: 0.0000e+00 - fp: 0.0000e+00 - fn: 323.0000 - precision: 1.0000 - recall: 0.9454 - auc: 0.0000e+00\n",
      "Epoch 19/50\n",
      "5914/5914 [==============================] - 0s 2us/sample - loss: 0.6212 - acc: 0.0022 - tp: 5613.0000 - tn: 0.0000e+00 - fp: 0.0000e+00 - fn: 301.0000 - precision: 1.0000 - recall: 0.9491 - auc: 0.0000e+00\n",
      "Epoch 20/50\n",
      "5914/5914 [==============================] - 0s 2us/sample - loss: 0.6210 - acc: 0.0022 - tp: 5619.0000 - tn: 0.0000e+00 - fp: 0.0000e+00 - fn: 295.0000 - precision: 1.0000 - recall: 0.9501 - auc: 0.0000e+00\n",
      "Epoch 21/50\n",
      "5914/5914 [==============================] - 0s 2us/sample - loss: 0.6209 - acc: 0.0024 - tp: 5622.0000 - tn: 0.0000e+00 - fp: 0.0000e+00 - fn: 292.0000 - precision: 1.0000 - recall: 0.9506 - auc: 0.0000e+00\n",
      "Epoch 22/50\n",
      "5914/5914 [==============================] - 0s 2us/sample - loss: 0.6207 - acc: 0.0025 - tp: 5628.0000 - tn: 0.0000e+00 - fp: 0.0000e+00 - fn: 286.0000 - precision: 1.0000 - recall: 0.9516 - auc: 0.0000e+00\n",
      "Epoch 23/50\n",
      "5914/5914 [==============================] - 0s 2us/sample - loss: 0.6206 - acc: 0.0027 - tp: 5632.0000 - tn: 0.0000e+00 - fp: 0.0000e+00 - fn: 282.0000 - precision: 1.0000 - recall: 0.9523 - auc: 0.0000e+00\n",
      "Epoch 24/50\n",
      "5914/5914 [==============================] - 0s 3us/sample - loss: 0.6204 - acc: 0.0027 - tp: 5649.0000 - tn: 0.0000e+00 - fp: 0.0000e+00 - fn: 265.0000 - precision: 1.0000 - recall: 0.9552 - auc: 0.0000e+00\n",
      "Epoch 25/50\n",
      "5914/5914 [==============================] - 0s 2us/sample - loss: 0.6202 - acc: 0.0029 - tp: 5665.0000 - tn: 0.0000e+00 - fp: 0.0000e+00 - fn: 249.0000 - precision: 1.0000 - recall: 0.9579 - auc: 0.0000e+00\n",
      "Epoch 26/50\n",
      "5914/5914 [==============================] - 0s 2us/sample - loss: 0.6200 - acc: 0.0030 - tp: 5687.0000 - tn: 0.0000e+00 - fp: 0.0000e+00 - fn: 227.0000 - precision: 1.0000 - recall: 0.9616 - auc: 0.0000e+00\n",
      "Epoch 27/50\n",
      "5914/5914 [==============================] - 0s 2us/sample - loss: 0.6198 - acc: 0.0032 - tp: 5711.0000 - tn: 0.0000e+00 - fp: 0.0000e+00 - fn: 203.0000 - precision: 1.0000 - recall: 0.9657 - auc: 0.0000e+00\n",
      "Epoch 28/50\n",
      "5914/5914 [==============================] - 0s 2us/sample - loss: 0.6194 - acc: 0.0032 - tp: 5729.0000 - tn: 0.0000e+00 - fp: 0.0000e+00 - fn: 185.0000 - precision: 1.0000 - recall: 0.9687 - auc: 0.0000e+00\n",
      "Epoch 29/50\n",
      "5914/5914 [==============================] - 0s 3us/sample - loss: 0.6188 - acc: 0.0032 - tp: 5746.0000 - tn: 0.0000e+00 - fp: 0.0000e+00 - fn: 168.0000 - precision: 1.0000 - recall: 0.9716 - auc: 0.0000e+00\n",
      "Epoch 30/50\n",
      "5914/5914 [==============================] - 0s 2us/sample - loss: 0.6180 - acc: 0.0032 - tp: 5768.0000 - tn: 0.0000e+00 - fp: 0.0000e+00 - fn: 146.0000 - precision: 1.0000 - recall: 0.9753 - auc: 0.0000e+00\n",
      "Epoch 31/50\n",
      "5914/5914 [==============================] - 0s 3us/sample - loss: 0.6172 - acc: 0.0032 - tp: 5788.0000 - tn: 0.0000e+00 - fp: 0.0000e+00 - fn: 126.0000 - precision: 1.0000 - recall: 0.9787 - auc: 0.0000e+00\n",
      "Epoch 32/50\n",
      "5914/5914 [==============================] - 0s 3us/sample - loss: 0.6158 - acc: 0.0034 - tp: 5806.0000 - tn: 0.0000e+00 - fp: 0.0000e+00 - fn: 108.0000 - precision: 1.0000 - recall: 0.9817 - auc: 0.0000e+00\n",
      "Epoch 33/50\n",
      "5914/5914 [==============================] - 0s 3us/sample - loss: 0.6131 - acc: 0.0034 - tp: 5835.0000 - tn: 0.0000e+00 - fp: 0.0000e+00 - fn: 79.0000 - precision: 1.0000 - recall: 0.9866 - auc: 0.0000e+00\n",
      "Epoch 34/50\n",
      "5914/5914 [==============================] - 0s 3us/sample - loss: 0.6090 - acc: 0.0034 - tp: 5852.0000 - tn: 0.0000e+00 - fp: 0.0000e+00 - fn: 62.0000 - precision: 1.0000 - recall: 0.9895 - auc: 0.0000e+00\n",
      "Epoch 35/50\n",
      "5914/5914 [==============================] - 0s 3us/sample - loss: 0.6060 - acc: 0.0034 - tp: 5864.0000 - tn: 0.0000e+00 - fp: 0.0000e+00 - fn: 50.0000 - precision: 1.0000 - recall: 0.9915 - auc: 0.0000e+00\n",
      "Epoch 36/50\n",
      "5914/5914 [==============================] - 0s 3us/sample - loss: 0.6020 - acc: 0.0034 - tp: 5858.0000 - tn: 0.0000e+00 - fp: 0.0000e+00 - fn: 56.0000 - precision: 1.0000 - recall: 0.9905 - auc: 0.0000e+00\n",
      "Epoch 37/50\n",
      "5914/5914 [==============================] - 0s 3us/sample - loss: 0.6002 - acc: 0.0034 - tp: 5855.0000 - tn: 0.0000e+00 - fp: 0.0000e+00 - fn: 59.0000 - precision: 1.0000 - recall: 0.9900 - auc: 0.0000e+00\n",
      "Epoch 38/50\n",
      "5914/5914 [==============================] - 0s 3us/sample - loss: 0.5975 - acc: 0.0034 - tp: 5853.0000 - tn: 0.0000e+00 - fp: 0.0000e+00 - fn: 61.0000 - precision: 1.0000 - recall: 0.9897 - auc: 0.0000e+00\n",
      "Epoch 39/50\n",
      "5914/5914 [==============================] - 0s 2us/sample - loss: 0.5954 - acc: 0.0034 - tp: 5854.0000 - tn: 0.0000e+00 - fp: 0.0000e+00 - fn: 60.0000 - precision: 1.0000 - recall: 0.9899 - auc: 0.0000e+00\n",
      "Epoch 40/50\n",
      "5914/5914 [==============================] - 0s 3us/sample - loss: 0.5942 - acc: 0.0034 - tp: 5851.0000 - tn: 0.0000e+00 - fp: 0.0000e+00 - fn: 63.0000 - precision: 1.0000 - recall: 0.9893 - auc: 0.0000e+00\n",
      "Epoch 41/50\n",
      "5914/5914 [==============================] - 0s 2us/sample - loss: 0.5929 - acc: 0.0034 - tp: 5856.0000 - tn: 0.0000e+00 - fp: 0.0000e+00 - fn: 58.0000 - precision: 1.0000 - recall: 0.9902 - auc: 0.0000e+00\n",
      "Epoch 42/50\n",
      "5914/5914 [==============================] - 0s 2us/sample - loss: 0.5921 - acc: 0.0034 - tp: 5859.0000 - tn: 0.0000e+00 - fp: 0.0000e+00 - fn: 55.0000 - precision: 1.0000 - recall: 0.9907 - auc: 0.0000e+00\n",
      "Epoch 43/50\n",
      "5914/5914 [==============================] - 0s 3us/sample - loss: 0.5911 - acc: 0.0034 - tp: 5871.0000 - tn: 0.0000e+00 - fp: 0.0000e+00 - fn: 43.0000 - precision: 1.0000 - recall: 0.9927 - auc: 0.0000e+00\n",
      "Epoch 44/50\n",
      "5914/5914 [==============================] - 0s 3us/sample - loss: 0.5901 - acc: 0.0034 - tp: 5871.0000 - tn: 0.0000e+00 - fp: 0.0000e+00 - fn: 43.0000 - precision: 1.0000 - recall: 0.9927 - auc: 0.0000e+00\n",
      "Epoch 45/50\n",
      "5914/5914 [==============================] - 0s 2us/sample - loss: 0.5890 - acc: 0.0034 - tp: 5873.0000 - tn: 0.0000e+00 - fp: 0.0000e+00 - fn: 41.0000 - precision: 1.0000 - recall: 0.9931 - auc: 0.0000e+00\n",
      "Epoch 46/50\n",
      "5914/5914 [==============================] - 0s 2us/sample - loss: 0.5881 - acc: 0.0034 - tp: 5874.0000 - tn: 0.0000e+00 - fp: 0.0000e+00 - fn: 40.0000 - precision: 1.0000 - recall: 0.9932 - auc: 0.0000e+00\n",
      "Epoch 47/50\n",
      "5914/5914 [==============================] - 0s 2us/sample - loss: 0.5872 - acc: 0.0034 - tp: 5876.0000 - tn: 0.0000e+00 - fp: 0.0000e+00 - fn: 38.0000 - precision: 1.0000 - recall: 0.9936 - auc: 0.0000e+00\n",
      "Epoch 48/50\n",
      "5914/5914 [==============================] - 0s 2us/sample - loss: 0.5863 - acc: 0.0034 - tp: 5879.0000 - tn: 0.0000e+00 - fp: 0.0000e+00 - fn: 35.0000 - precision: 1.0000 - recall: 0.9941 - auc: 0.0000e+00\n",
      "Epoch 49/50\n",
      "5914/5914 [==============================] - 0s 3us/sample - loss: 0.5856 - acc: 0.0034 - tp: 5881.0000 - tn: 0.0000e+00 - fp: 0.0000e+00 - fn: 33.0000 - precision: 1.0000 - recall: 0.9944 - auc: 0.0000e+00\n",
      "Epoch 50/50\n",
      "5914/5914 [==============================] - 0s 6us/sample - loss: 0.5848 - acc: 0.0034 - tp: 5883.0000 - tn: 0.0000e+00 - fp: 0.0000e+00 - fn: 31.0000 - precision: 1.0000 - recall: 0.9948 - auc: 0.0000e+00\n"
     ]
    }
   ],
   "source": [
    "# Training the model\n",
    "batch_size = 1000\n",
    "epochs = 50\n",
    "training_history = model.fit(\n",
    "    X_train,\n",
    "    y_train,\n",
    "    #validation_data=(X_val, y_val),\n",
    "    epochs=epochs,\n",
    "    batch_size=batch_size,\n",
    "    verbose=1,\n",
    ")"
   ]
  },
  {
   "cell_type": "code",
   "execution_count": 13,
   "metadata": {},
   "outputs": [
    {
     "output_type": "stream",
     "name": "stdout",
     "text": [
      "1972/1972 [==============================] - 0s 46us/sample - loss: 0.5720 - acc: 0.0056 - tp: 1968.0000 - tn: 0.0000e+00 - fp: 0.0000e+00 - fn: 4.0000 - precision: 1.0000 - recall: 0.9980 - auc: 0.0000e+00\n"
     ]
    },
    {
     "output_type": "execute_result",
     "data": {
      "text/plain": [
       "[0.5720295413996095, 0.005578093, 1968.0, 0.0, 0.0, 4.0, 1.0, 0.9979716, 0.0]"
      ]
     },
     "metadata": {},
     "execution_count": 13
    }
   ],
   "source": [
    "# Make predictions using the testing data X_test\n",
    "predicted = model.predict(X_test)\n",
    "\n",
    "# Evaluate the model\n",
    "model.evaluate(X_test, y_test)"
   ]
  },
  {
   "cell_type": "code",
   "execution_count": 14,
   "metadata": {},
   "outputs": [],
   "source": [
    "predicted_OPS = scaler_y.inverse_transform(predicted)"
   ]
  },
  {
   "cell_type": "code",
   "execution_count": 15,
   "metadata": {},
   "outputs": [
    {
     "output_type": "execute_result",
     "data": {
      "text/plain": [
       "                   Real  Predicted\n",
       "Player                            \n",
       "Jacob Nottingham  0.950   0.816808\n",
       "Taylor Motter     0.651   0.797225\n",
       "Ildemaro Vargas   0.616   0.808865\n",
       "Adam Rosales      0.614   0.771530\n",
       "Brandon Barnes    0.661   0.789293\n",
       "Anthony Alford    0.646   0.791086\n",
       "Luis Sardinas     1.185   0.858469\n",
       "Matt den Dekker   0.419   0.779953\n",
       "Corban Joseph     0.486   0.793946\n",
       "Gabriel Guerrero  0.444   0.767848\n",
       "Gift Ngoepe       0.666   0.792504\n",
       "Adam Moore        0.790   0.822574\n",
       "Lucas Duda        0.607   0.795081\n",
       "Braxton Lee       0.665   0.782968\n",
       "Adolis Garcia     2.334   0.856439\n",
       "Mitch Walding     0.807   0.834746\n",
       "Eric Haase        0.671   0.806543\n",
       "Miguel Gomez      0.634   0.787660\n",
       "Taylor Motter     0.731   0.807457\n",
       "Jon Berti         0.671   0.780311"
      ],
      "text/html": "<div>\n<style scoped>\n    .dataframe tbody tr th:only-of-type {\n        vertical-align: middle;\n    }\n\n    .dataframe tbody tr th {\n        vertical-align: top;\n    }\n\n    .dataframe thead th {\n        text-align: right;\n    }\n</style>\n<table border=\"1\" class=\"dataframe\">\n  <thead>\n    <tr style=\"text-align: right;\">\n      <th></th>\n      <th>Real</th>\n      <th>Predicted</th>\n    </tr>\n    <tr>\n      <th>Player</th>\n      <th></th>\n      <th></th>\n    </tr>\n  </thead>\n  <tbody>\n    <tr>\n      <th>Jacob Nottingham</th>\n      <td>0.950</td>\n      <td>0.816808</td>\n    </tr>\n    <tr>\n      <th>Taylor Motter</th>\n      <td>0.651</td>\n      <td>0.797225</td>\n    </tr>\n    <tr>\n      <th>Ildemaro Vargas</th>\n      <td>0.616</td>\n      <td>0.808865</td>\n    </tr>\n    <tr>\n      <th>Adam Rosales</th>\n      <td>0.614</td>\n      <td>0.771530</td>\n    </tr>\n    <tr>\n      <th>Brandon Barnes</th>\n      <td>0.661</td>\n      <td>0.789293</td>\n    </tr>\n    <tr>\n      <th>Anthony Alford</th>\n      <td>0.646</td>\n      <td>0.791086</td>\n    </tr>\n    <tr>\n      <th>Luis Sardinas</th>\n      <td>1.185</td>\n      <td>0.858469</td>\n    </tr>\n    <tr>\n      <th>Matt den Dekker</th>\n      <td>0.419</td>\n      <td>0.779953</td>\n    </tr>\n    <tr>\n      <th>Corban Joseph</th>\n      <td>0.486</td>\n      <td>0.793946</td>\n    </tr>\n    <tr>\n      <th>Gabriel Guerrero</th>\n      <td>0.444</td>\n      <td>0.767848</td>\n    </tr>\n    <tr>\n      <th>Gift Ngoepe</th>\n      <td>0.666</td>\n      <td>0.792504</td>\n    </tr>\n    <tr>\n      <th>Adam Moore</th>\n      <td>0.790</td>\n      <td>0.822574</td>\n    </tr>\n    <tr>\n      <th>Lucas Duda</th>\n      <td>0.607</td>\n      <td>0.795081</td>\n    </tr>\n    <tr>\n      <th>Braxton Lee</th>\n      <td>0.665</td>\n      <td>0.782968</td>\n    </tr>\n    <tr>\n      <th>Adolis Garcia</th>\n      <td>2.334</td>\n      <td>0.856439</td>\n    </tr>\n    <tr>\n      <th>Mitch Walding</th>\n      <td>0.807</td>\n      <td>0.834746</td>\n    </tr>\n    <tr>\n      <th>Eric Haase</th>\n      <td>0.671</td>\n      <td>0.806543</td>\n    </tr>\n    <tr>\n      <th>Miguel Gomez</th>\n      <td>0.634</td>\n      <td>0.787660</td>\n    </tr>\n    <tr>\n      <th>Taylor Motter</th>\n      <td>0.731</td>\n      <td>0.807457</td>\n    </tr>\n    <tr>\n      <th>Jon Berti</th>\n      <td>0.671</td>\n      <td>0.780311</td>\n    </tr>\n  </tbody>\n</table>\n</div>"
     },
     "metadata": {},
     "execution_count": 15
    }
   ],
   "source": [
    "moneyball = pd.DataFrame({\n",
    "    \"Real\": y_test.ravel(),\n",
    "    \"Predicted\": predicted_OPS.ravel()\n",
    "    }, index = stats_df.index[-len(predicted_OPS): ])\n",
    "moneyball.head(20)"
   ]
  },
  {
   "cell_type": "code",
   "execution_count": null,
   "metadata": {},
   "outputs": [],
   "source": []
  }
 ]
}