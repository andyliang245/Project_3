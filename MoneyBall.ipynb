{
 "metadata": {
  "language_info": {
   "codemirror_mode": {
    "name": "ipython",
    "version": 3
   },
   "file_extension": ".py",
   "mimetype": "text/x-python",
   "name": "python",
   "nbconvert_exporter": "python",
   "pygments_lexer": "ipython3",
   "version": "3.7.10"
  },
  "orig_nbformat": 4,
  "kernelspec": {
   "name": "python3",
   "display_name": "Python 3.7.10 64-bit ('dev': conda)"
  },
  "interpreter": {
   "hash": "38e719a702c56ff7695290ab132eef83c1b4d5a17b776384c2f7168698ff0a3a"
  }
 },
 "nbformat": 4,
 "nbformat_minor": 2,
 "cells": [
  {
   "cell_type": "code",
   "execution_count": 1,
   "metadata": {},
   "outputs": [
    {
     "output_type": "stream",
     "name": "stderr",
     "text": [
      "\n",
      "Bad key \"text.kerning_factor\" on line 4 in\n",
      "C:\\Users\\Andy L\\anaconda3\\envs\\dev\\lib\\site-packages\\matplotlib\\mpl-data\\stylelib\\_classic_test_patch.mplstyle.\n",
      "You probably need to get an updated matplotlibrc file from\n",
      "http://github.com/matplotlib/matplotlib/blob/master/matplotlibrc.template\n",
      "or from the matplotlib source distribution\n",
      "C:\\Users\\Andy L\\anaconda3\\envs\\dev\\lib\\site-packages\\tensorflow\\python\\framework\\dtypes.py:516: FutureWarning: Passing (type, 1) or '1type' as a synonym of type is deprecated; in a future version of numpy, it will be understood as (type, (1,)) / '(1,)type'.\n",
      "  _np_qint8 = np.dtype([(\"qint8\", np.int8, 1)])\n",
      "C:\\Users\\Andy L\\anaconda3\\envs\\dev\\lib\\site-packages\\tensorflow\\python\\framework\\dtypes.py:517: FutureWarning: Passing (type, 1) or '1type' as a synonym of type is deprecated; in a future version of numpy, it will be understood as (type, (1,)) / '(1,)type'.\n",
      "  _np_quint8 = np.dtype([(\"quint8\", np.uint8, 1)])\n",
      "C:\\Users\\Andy L\\anaconda3\\envs\\dev\\lib\\site-packages\\tensorflow\\python\\framework\\dtypes.py:518: FutureWarning: Passing (type, 1) or '1type' as a synonym of type is deprecated; in a future version of numpy, it will be understood as (type, (1,)) / '(1,)type'.\n",
      "  _np_qint16 = np.dtype([(\"qint16\", np.int16, 1)])\n",
      "C:\\Users\\Andy L\\anaconda3\\envs\\dev\\lib\\site-packages\\tensorflow\\python\\framework\\dtypes.py:519: FutureWarning: Passing (type, 1) or '1type' as a synonym of type is deprecated; in a future version of numpy, it will be understood as (type, (1,)) / '(1,)type'.\n",
      "  _np_quint16 = np.dtype([(\"quint16\", np.uint16, 1)])\n",
      "C:\\Users\\Andy L\\anaconda3\\envs\\dev\\lib\\site-packages\\tensorflow\\python\\framework\\dtypes.py:520: FutureWarning: Passing (type, 1) or '1type' as a synonym of type is deprecated; in a future version of numpy, it will be understood as (type, (1,)) / '(1,)type'.\n",
      "  _np_qint32 = np.dtype([(\"qint32\", np.int32, 1)])\n",
      "C:\\Users\\Andy L\\anaconda3\\envs\\dev\\lib\\site-packages\\tensorflow\\python\\framework\\dtypes.py:525: FutureWarning: Passing (type, 1) or '1type' as a synonym of type is deprecated; in a future version of numpy, it will be understood as (type, (1,)) / '(1,)type'.\n",
      "  np_resource = np.dtype([(\"resource\", np.ubyte, 1)])\n",
      "C:\\Users\\Andy L\\anaconda3\\envs\\dev\\lib\\site-packages\\tensorboard\\compat\\tensorflow_stub\\dtypes.py:541: FutureWarning: Passing (type, 1) or '1type' as a synonym of type is deprecated; in a future version of numpy, it will be understood as (type, (1,)) / '(1,)type'.\n",
      "  _np_qint8 = np.dtype([(\"qint8\", np.int8, 1)])\n",
      "C:\\Users\\Andy L\\anaconda3\\envs\\dev\\lib\\site-packages\\tensorboard\\compat\\tensorflow_stub\\dtypes.py:542: FutureWarning: Passing (type, 1) or '1type' as a synonym of type is deprecated; in a future version of numpy, it will be understood as (type, (1,)) / '(1,)type'.\n",
      "  _np_quint8 = np.dtype([(\"quint8\", np.uint8, 1)])\n",
      "C:\\Users\\Andy L\\anaconda3\\envs\\dev\\lib\\site-packages\\tensorboard\\compat\\tensorflow_stub\\dtypes.py:543: FutureWarning: Passing (type, 1) or '1type' as a synonym of type is deprecated; in a future version of numpy, it will be understood as (type, (1,)) / '(1,)type'.\n",
      "  _np_qint16 = np.dtype([(\"qint16\", np.int16, 1)])\n",
      "C:\\Users\\Andy L\\anaconda3\\envs\\dev\\lib\\site-packages\\tensorboard\\compat\\tensorflow_stub\\dtypes.py:544: FutureWarning: Passing (type, 1) or '1type' as a synonym of type is deprecated; in a future version of numpy, it will be understood as (type, (1,)) / '(1,)type'.\n",
      "  _np_quint16 = np.dtype([(\"quint16\", np.uint16, 1)])\n",
      "C:\\Users\\Andy L\\anaconda3\\envs\\dev\\lib\\site-packages\\tensorboard\\compat\\tensorflow_stub\\dtypes.py:545: FutureWarning: Passing (type, 1) or '1type' as a synonym of type is deprecated; in a future version of numpy, it will be understood as (type, (1,)) / '(1,)type'.\n",
      "  _np_qint32 = np.dtype([(\"qint32\", np.int32, 1)])\n",
      "C:\\Users\\Andy L\\anaconda3\\envs\\dev\\lib\\site-packages\\tensorboard\\compat\\tensorflow_stub\\dtypes.py:550: FutureWarning: Passing (type, 1) or '1type' as a synonym of type is deprecated; in a future version of numpy, it will be understood as (type, (1,)) / '(1,)type'.\n",
      "  np_resource = np.dtype([(\"resource\", np.ubyte, 1)])\n"
     ]
    }
   ],
   "source": [
    "import os\n",
    "import numpy as np\n",
    "import pandas as pd\n",
    "import seaborn as sns\n",
    "import datetime\n",
    "from pathlib import Path\n",
    "import glob\n",
    "\n",
    "from sklearn.preprocessing import StandardScaler\n",
    "from sklearn.model_selection import train_test_split\n",
    "\n",
    "from tensorflow.keras.models import Sequential\n",
    "from tensorflow.keras.layers import Dense\n",
    "import tensorflow as tf\n",
    "\n",
    "%matplotlib inline"
   ]
  },
  {
   "cell_type": "code",
   "execution_count": 2,
   "metadata": {},
   "outputs": [],
   "source": [
    "# Import Dataset\n",
    "# file_path_21 = Path(\"Resources/batting_stats_2021.csv\")\n",
    "# file_path_20 = Path(\"Resources/batting_stats_2020.csv\")\n",
    "# file_path_19 = Path(\"Resources/batting_stats_2019.csv\")\n",
    "# file_path_18 = Path(\"Resources/batting_stats_2018.csv\")\n",
    "# file_path_17 = Path(\"Resources/batting_stats_2017.csv\")\n",
    "# file_path_16 = Path(\"Resources/batting_stats_2016.csv\")\n",
    "# file_path_15 = Path(\"Resources/batting_stats_2015.csv\")\n",
    "# file_path_14 = Path(\"Resources/batting_stats_2014.csv\")\n",
    "# file_path_13 = Path(\"Resources/batting_stats_2013.csv\")\n",
    "# file_path_12 = Path(\"Resources/batting_stats_2012.csv\")\n",
    "# file_path_11 = Path(\"Resources/batting_stats_2011.csv\")\n",
    "# file_path_10 = Path(\"Resources/batting_stats_2010.csv\")\n",
    "\n",
    "# Read into Dataset\n",
    "# stats_21_df = pd.read_csv(file_path_21, index_col = 0)\n",
    "# stats_20_df = pd.read_csv(file_path_20, index_col = 0)\n",
    "# stats_19_df = pd.read_csv(file_path_19, index_col = 0)\n",
    "# stats_18_df = pd.read_csv(file_path_18, index_col = 0)\n",
    "# stats_17_df = pd.read_csv(file_path_17, index_col = 0)\n",
    "# stats_16_df = pd.read_csv(file_path_16, index_col = 0)\n",
    "# stats_15_df = pd.read_csv(file_path_15, index_col = 0)\n",
    "# stats_14_df = pd.read_csv(file_path_14, index_col = 0)\n",
    "# stats_13_df = pd.read_csv(file_path_13, index_col = 0)\n",
    "# stats_12_df = pd.read_csv(file_path_12, index_col = 0)\n",
    "# stats_11_df = pd.read_csv(file_path_11, index_col = 0)\n",
    "# stats_10_df = pd.read_csv(file_path_10, index_col = 0)\n",
    "\n",
    "# stats_19_df.head(20)"
   ]
  },
  {
   "cell_type": "code",
   "execution_count": 3,
   "metadata": {},
   "outputs": [
    {
     "output_type": "execute_result",
     "data": {
      "text/plain": [
       "   Year         Player Team Pos  Age    G   AB    R    H  2B  ...  CS  BB  \\\n",
       "0  2010  Ichiro Suzuki  SEA  OF   47  162  680   74  214  30  ...   9  45   \n",
       "1  2010    Derek Jeter  NYY  SS   47  157  663  111  179  30  ...   5  63   \n",
       "2  2010  Michael Young  TEX  3B   44  157  656   99  186  36  ...   2  50   \n",
       "3  2010    Juan Pierre  CWS  OF   43  160  651   96  179  18  ...  18  45   \n",
       "4  2010   Rickie Weeks  MIL  DH   38  160  651  112  175  32  ...   4  76   \n",
       "\n",
       "    SO  SH  SF  HBP    AVG    OBP    SLG    OPS  \n",
       "0   86   3   1    3  0.315  0.359  0.394  0.753  \n",
       "1  106   1   3    9  0.270  0.340  0.370  0.710  \n",
       "2  115   0  11    1  0.284  0.330  0.444  0.774  \n",
       "3   47  15   2   21  0.275  0.341  0.316  0.657  \n",
       "4  184   0   2   25  0.269  0.366  0.464  0.830  \n",
       "\n",
       "[5 rows x 24 columns]"
      ],
      "text/html": "<div>\n<style scoped>\n    .dataframe tbody tr th:only-of-type {\n        vertical-align: middle;\n    }\n\n    .dataframe tbody tr th {\n        vertical-align: top;\n    }\n\n    .dataframe thead th {\n        text-align: right;\n    }\n</style>\n<table border=\"1\" class=\"dataframe\">\n  <thead>\n    <tr style=\"text-align: right;\">\n      <th></th>\n      <th>Year</th>\n      <th>Player</th>\n      <th>Team</th>\n      <th>Pos</th>\n      <th>Age</th>\n      <th>G</th>\n      <th>AB</th>\n      <th>R</th>\n      <th>H</th>\n      <th>2B</th>\n      <th>...</th>\n      <th>CS</th>\n      <th>BB</th>\n      <th>SO</th>\n      <th>SH</th>\n      <th>SF</th>\n      <th>HBP</th>\n      <th>AVG</th>\n      <th>OBP</th>\n      <th>SLG</th>\n      <th>OPS</th>\n    </tr>\n  </thead>\n  <tbody>\n    <tr>\n      <th>0</th>\n      <td>2010</td>\n      <td>Ichiro Suzuki</td>\n      <td>SEA</td>\n      <td>OF</td>\n      <td>47</td>\n      <td>162</td>\n      <td>680</td>\n      <td>74</td>\n      <td>214</td>\n      <td>30</td>\n      <td>...</td>\n      <td>9</td>\n      <td>45</td>\n      <td>86</td>\n      <td>3</td>\n      <td>1</td>\n      <td>3</td>\n      <td>0.315</td>\n      <td>0.359</td>\n      <td>0.394</td>\n      <td>0.753</td>\n    </tr>\n    <tr>\n      <th>1</th>\n      <td>2010</td>\n      <td>Derek Jeter</td>\n      <td>NYY</td>\n      <td>SS</td>\n      <td>47</td>\n      <td>157</td>\n      <td>663</td>\n      <td>111</td>\n      <td>179</td>\n      <td>30</td>\n      <td>...</td>\n      <td>5</td>\n      <td>63</td>\n      <td>106</td>\n      <td>1</td>\n      <td>3</td>\n      <td>9</td>\n      <td>0.270</td>\n      <td>0.340</td>\n      <td>0.370</td>\n      <td>0.710</td>\n    </tr>\n    <tr>\n      <th>2</th>\n      <td>2010</td>\n      <td>Michael Young</td>\n      <td>TEX</td>\n      <td>3B</td>\n      <td>44</td>\n      <td>157</td>\n      <td>656</td>\n      <td>99</td>\n      <td>186</td>\n      <td>36</td>\n      <td>...</td>\n      <td>2</td>\n      <td>50</td>\n      <td>115</td>\n      <td>0</td>\n      <td>11</td>\n      <td>1</td>\n      <td>0.284</td>\n      <td>0.330</td>\n      <td>0.444</td>\n      <td>0.774</td>\n    </tr>\n    <tr>\n      <th>3</th>\n      <td>2010</td>\n      <td>Juan Pierre</td>\n      <td>CWS</td>\n      <td>OF</td>\n      <td>43</td>\n      <td>160</td>\n      <td>651</td>\n      <td>96</td>\n      <td>179</td>\n      <td>18</td>\n      <td>...</td>\n      <td>18</td>\n      <td>45</td>\n      <td>47</td>\n      <td>15</td>\n      <td>2</td>\n      <td>21</td>\n      <td>0.275</td>\n      <td>0.341</td>\n      <td>0.316</td>\n      <td>0.657</td>\n    </tr>\n    <tr>\n      <th>4</th>\n      <td>2010</td>\n      <td>Rickie Weeks</td>\n      <td>MIL</td>\n      <td>DH</td>\n      <td>38</td>\n      <td>160</td>\n      <td>651</td>\n      <td>112</td>\n      <td>175</td>\n      <td>32</td>\n      <td>...</td>\n      <td>4</td>\n      <td>76</td>\n      <td>184</td>\n      <td>0</td>\n      <td>2</td>\n      <td>25</td>\n      <td>0.269</td>\n      <td>0.366</td>\n      <td>0.464</td>\n      <td>0.830</td>\n    </tr>\n  </tbody>\n</table>\n<p>5 rows × 24 columns</p>\n</div>"
     },
     "metadata": {},
     "execution_count": 3
    }
   ],
   "source": [
    "path = 'Resources/batting_stats_*.csv' # use your path\n",
    "all_files = glob.glob(path)\n",
    "all_files\n",
    "\n",
    "data = []\n",
    "\n",
    "for file in all_files:\n",
    "    df = pd.read_csv(file, index_col=None, header=0)    \n",
    "    year = file[-8:-4]\n",
    "    df['Year'] = year\n",
    "    data.append(df)\n",
    "\n",
    "stats_df = pd.concat(data, axis=0, ignore_index=True)\n",
    "stats_df = stats_df[['Year', 'Player', 'Team', 'Pos', 'Age', 'G', 'AB', 'R', 'H', '2B', '3B', 'HR','RBI', \n",
    "             'SB', 'CS', 'BB', 'SO', 'SH', 'SF', 'HBP', 'AVG', 'OBP', 'SLG','OPS']]\n",
    "\n",
    "stats_df.head()"
   ]
  },
  {
   "cell_type": "code",
   "execution_count": 4,
   "metadata": {},
   "outputs": [],
   "source": [
    "# Creating X & y variables\n",
    "X = stats_df.iloc[:, 4:-2]\n",
    "y = stats_df[\"OPS\"].values"
   ]
  },
  {
   "cell_type": "code",
   "execution_count": 5,
   "metadata": {},
   "outputs": [],
   "source": [
    "# Scale the data\n",
    "scaler = StandardScaler().fit(X)\n",
    "X = scaler.transform(X)"
   ]
  },
  {
   "cell_type": "code",
   "execution_count": 6,
   "metadata": {},
   "outputs": [
    {
     "output_type": "execute_result",
     "data": {
      "text/plain": [
       "(6069, 18)"
      ]
     },
     "metadata": {},
     "execution_count": 6
    }
   ],
   "source": [
    "# Creating training, validation, and testing sets\n",
    "from sklearn.model_selection import train_test_split\n",
    "\n",
    "X_train, X_test, y_train, y_test = train_test_split(X, y, random_state=78)\n",
    "\n",
    "X_train.shape"
   ]
  },
  {
   "cell_type": "code",
   "execution_count": 7,
   "metadata": {},
   "outputs": [],
   "source": [
    "#X_train = X_train.reshape((X_train.shape[0], X_train.shape[1], 1))\n",
    "#X_test = X_test.reshape((X_test.shape[0], X_test.shape[1], 1))"
   ]
  },
  {
   "cell_type": "code",
   "execution_count": 12,
   "metadata": {},
   "outputs": [],
   "source": [
    "# Model set-up\r\n",
    "number_input_features = 87\r\n",
    "hidden_nodes_layer1 = 34\r\n",
    "hidden_nodes_layer2 = 5"
   ]
  },
  {
   "cell_type": "code",
   "execution_count": 13,
   "metadata": {},
   "outputs": [],
   "source": [
    "# Define the LSTM RNN model\n",
    "model = Sequential()\n",
    "\n",
    "# Layer 1\n",
    "model.add(\n",
    "    Dense(units=hidden_nodes_layer1, input_dim=number_input_features, activation=\"relu\")\n",
    ")\n",
    "\n",
    "# Layer 2\n",
    "model.add(Dense(units=hidden_nodes_layer2, activation=\"relu\"))\n",
    "\n",
    "# Output layer\n",
    "model.add(Dense(1, activation=\"sigmoid\"))"
   ]
  },
  {
   "cell_type": "code",
   "execution_count": 14,
   "metadata": {},
   "outputs": [],
   "source": [
    "# Compile the model\n",
    "model.compile(\n",
    "    loss=\"binary_crossentropy\",\n",
    "    optimizer=\"adam\",\n",
    "    metrics=[\n",
    "        \"accuracy\",\n",
    "        tf.keras.metrics.TruePositives(name=\"tp\"),\n",
    "        tf.keras.metrics.TrueNegatives(name=\"tn\"),\n",
    "        tf.keras.metrics.FalsePositives(name=\"fp\"),\n",
    "        tf.keras.metrics.FalseNegatives(name=\"fn\"),\n",
    "        tf.keras.metrics.Precision(name=\"precision\"),\n",
    "        tf.keras.metrics.Recall(name=\"recall\"),\n",
    "        tf.keras.metrics.AUC(name=\"auc\"),\n",
    "    ],\n",
    ")"
   ]
  },
  {
   "cell_type": "code",
   "execution_count": 15,
   "metadata": {},
   "outputs": [
    {
     "output_type": "stream",
     "name": "stdout",
     "text": [
      "Epoch 1/50\n",
      "6069/6069 [==============================] - 0s 29us/sample - loss: 0.8018 - acc: 0.0260 - tp: 569.0000 - tn: 156.0000 - fp: 0.0000e+00 - fn: 5344.0000 - precision: 1.0000 - recall: 0.0962 - auc: 0.5853\n",
      "Epoch 2/50\n",
      "6069/6069 [==============================] - 0s 3us/sample - loss: 0.7349 - acc: 0.0260 - tp: 1718.0000 - tn: 156.0000 - fp: 0.0000e+00 - fn: 4195.0000 - precision: 1.0000 - recall: 0.2905 - auc: 0.7109\n",
      "Epoch 3/50\n",
      "6069/6069 [==============================] - 0s 3us/sample - loss: 0.7022 - acc: 0.0255 - tp: 3010.0000 - tn: 151.0000 - fp: 5.0000 - fn: 2903.0000 - precision: 0.9983 - recall: 0.5090 - auc: 0.8204\n",
      "Epoch 4/50\n",
      "6069/6069 [==============================] - 0s 3us/sample - loss: 0.6872 - acc: 0.0278 - tp: 3872.0000 - tn: 153.0000 - fp: 3.0000 - fn: 2041.0000 - precision: 0.9992 - recall: 0.6548 - auc: 0.9103\n",
      "Epoch 5/50\n",
      "6069/6069 [==============================] - 0s 3us/sample - loss: 0.6778 - acc: 0.0285 - tp: 4204.0000 - tn: 156.0000 - fp: 0.0000e+00 - fn: 1709.0000 - precision: 1.0000 - recall: 0.7110 - auc: 0.9646\n",
      "Epoch 6/50\n",
      "6069/6069 [==============================] - 0s 3us/sample - loss: 0.6694 - acc: 0.0288 - tp: 4313.0000 - tn: 156.0000 - fp: 0.0000e+00 - fn: 1600.0000 - precision: 1.0000 - recall: 0.7294 - auc: 0.9884\n",
      "Epoch 7/50\n",
      "6069/6069 [==============================] - 0s 3us/sample - loss: 0.6620 - acc: 0.0290 - tp: 4330.0000 - tn: 156.0000 - fp: 0.0000e+00 - fn: 1583.0000 - precision: 1.0000 - recall: 0.7323 - auc: 0.9952\n",
      "Epoch 8/50\n",
      "6069/6069 [==============================] - 0s 3us/sample - loss: 0.6554 - acc: 0.0290 - tp: 4388.0000 - tn: 156.0000 - fp: 0.0000e+00 - fn: 1525.0000 - precision: 1.0000 - recall: 0.7421 - auc: 0.9973\n",
      "Epoch 9/50\n",
      "6069/6069 [==============================] - 0s 3us/sample - loss: 0.6491 - acc: 0.0290 - tp: 4451.0000 - tn: 156.0000 - fp: 0.0000e+00 - fn: 1462.0000 - precision: 1.0000 - recall: 0.7527 - auc: 0.9984\n",
      "Epoch 10/50\n",
      "6069/6069 [==============================] - 0s 3us/sample - loss: 0.6429 - acc: 0.0290 - tp: 4577.0000 - tn: 156.0000 - fp: 0.0000e+00 - fn: 1336.0000 - precision: 1.0000 - recall: 0.7741 - auc: 0.9992\n",
      "Epoch 11/50\n",
      "6069/6069 [==============================] - 0s 3us/sample - loss: 0.6368 - acc: 0.0290 - tp: 4695.0000 - tn: 156.0000 - fp: 0.0000e+00 - fn: 1218.0000 - precision: 1.0000 - recall: 0.7940 - auc: 0.9996\n",
      "Epoch 12/50\n",
      "6069/6069 [==============================] - 0s 3us/sample - loss: 0.6308 - acc: 0.0290 - tp: 4805.0000 - tn: 156.0000 - fp: 0.0000e+00 - fn: 1108.0000 - precision: 1.0000 - recall: 0.8126 - auc: 0.9999\n",
      "Epoch 13/50\n",
      "6069/6069 [==============================] - 0s 2us/sample - loss: 0.6249 - acc: 0.0290 - tp: 4887.0000 - tn: 156.0000 - fp: 0.0000e+00 - fn: 1026.0000 - precision: 1.0000 - recall: 0.8265 - auc: 0.9999\n",
      "Epoch 14/50\n",
      "6069/6069 [==============================] - 0s 2us/sample - loss: 0.6188 - acc: 0.0290 - tp: 4939.0000 - tn: 156.0000 - fp: 0.0000e+00 - fn: 974.0000 - precision: 1.0000 - recall: 0.8353 - auc: 1.0000\n",
      "Epoch 15/50\n",
      "6069/6069 [==============================] - 0s 3us/sample - loss: 0.6131 - acc: 0.0290 - tp: 4971.0000 - tn: 156.0000 - fp: 0.0000e+00 - fn: 942.0000 - precision: 1.0000 - recall: 0.8407 - auc: 1.0000\n",
      "Epoch 16/50\n",
      "6069/6069 [==============================] - 0s 3us/sample - loss: 0.6076 - acc: 0.0290 - tp: 5011.0000 - tn: 156.0000 - fp: 0.0000e+00 - fn: 902.0000 - precision: 1.0000 - recall: 0.8475 - auc: 1.0000\n",
      "Epoch 17/50\n",
      "6069/6069 [==============================] - 0s 3us/sample - loss: 0.6024 - acc: 0.0290 - tp: 5037.0000 - tn: 156.0000 - fp: 0.0000e+00 - fn: 876.0000 - precision: 1.0000 - recall: 0.8519 - auc: 1.0000\n",
      "Epoch 18/50\n",
      "6069/6069 [==============================] - 0s 2us/sample - loss: 0.5978 - acc: 0.0290 - tp: 5058.0000 - tn: 156.0000 - fp: 0.0000e+00 - fn: 855.0000 - precision: 1.0000 - recall: 0.8554 - auc: 1.0000\n",
      "Epoch 19/50\n",
      "6069/6069 [==============================] - 0s 2us/sample - loss: 0.5936 - acc: 0.0290 - tp: 5094.0000 - tn: 156.0000 - fp: 0.0000e+00 - fn: 819.0000 - precision: 1.0000 - recall: 0.8615 - auc: 1.0000\n",
      "Epoch 20/50\n",
      "6069/6069 [==============================] - 0s 2us/sample - loss: 0.5899 - acc: 0.0290 - tp: 5126.0000 - tn: 156.0000 - fp: 0.0000e+00 - fn: 787.0000 - precision: 1.0000 - recall: 0.8669 - auc: 1.0000\n",
      "Epoch 21/50\n",
      "6069/6069 [==============================] - 0s 2us/sample - loss: 0.5867 - acc: 0.0290 - tp: 5112.0000 - tn: 156.0000 - fp: 0.0000e+00 - fn: 801.0000 - precision: 1.0000 - recall: 0.8645 - auc: 1.0000\n",
      "Epoch 22/50\n",
      "6069/6069 [==============================] - 0s 2us/sample - loss: 0.5839 - acc: 0.0290 - tp: 5113.0000 - tn: 156.0000 - fp: 0.0000e+00 - fn: 800.0000 - precision: 1.0000 - recall: 0.8647 - auc: 1.0000\n",
      "Epoch 23/50\n",
      "6069/6069 [==============================] - 0s 2us/sample - loss: 0.5815 - acc: 0.0290 - tp: 5143.0000 - tn: 156.0000 - fp: 0.0000e+00 - fn: 770.0000 - precision: 1.0000 - recall: 0.8698 - auc: 1.0000\n",
      "Epoch 24/50\n",
      "6069/6069 [==============================] - 0s 2us/sample - loss: 0.5793 - acc: 0.0290 - tp: 5145.0000 - tn: 156.0000 - fp: 0.0000e+00 - fn: 768.0000 - precision: 1.0000 - recall: 0.8701 - auc: 1.0000\n",
      "Epoch 25/50\n",
      "6069/6069 [==============================] - 0s 3us/sample - loss: 0.5773 - acc: 0.0290 - tp: 5125.0000 - tn: 156.0000 - fp: 0.0000e+00 - fn: 788.0000 - precision: 1.0000 - recall: 0.8667 - auc: 1.0000\n",
      "Epoch 26/50\n",
      "6069/6069 [==============================] - 0s 3us/sample - loss: 0.5754 - acc: 0.0290 - tp: 5124.0000 - tn: 156.0000 - fp: 0.0000e+00 - fn: 789.0000 - precision: 1.0000 - recall: 0.8666 - auc: 1.0000\n",
      "Epoch 27/50\n",
      "6069/6069 [==============================] - 0s 3us/sample - loss: 0.5736 - acc: 0.0290 - tp: 5125.0000 - tn: 156.0000 - fp: 0.0000e+00 - fn: 788.0000 - precision: 1.0000 - recall: 0.8667 - auc: 1.0000\n",
      "Epoch 28/50\n",
      "6069/6069 [==============================] - 0s 3us/sample - loss: 0.5720 - acc: 0.0290 - tp: 5123.0000 - tn: 156.0000 - fp: 0.0000e+00 - fn: 790.0000 - precision: 1.0000 - recall: 0.8664 - auc: 1.0000\n",
      "Epoch 29/50\n",
      "6069/6069 [==============================] - 0s 2us/sample - loss: 0.5705 - acc: 0.0290 - tp: 5128.0000 - tn: 156.0000 - fp: 0.0000e+00 - fn: 785.0000 - precision: 1.0000 - recall: 0.8672 - auc: 1.0000\n",
      "Epoch 30/50\n",
      "6069/6069 [==============================] - 0s 2us/sample - loss: 0.5690 - acc: 0.0290 - tp: 5137.0000 - tn: 156.0000 - fp: 0.0000e+00 - fn: 776.0000 - precision: 1.0000 - recall: 0.8688 - auc: 1.0000\n",
      "Epoch 31/50\n",
      "6069/6069 [==============================] - 0s 4us/sample - loss: 0.5677 - acc: 0.0290 - tp: 5129.0000 - tn: 156.0000 - fp: 0.0000e+00 - fn: 784.0000 - precision: 1.0000 - recall: 0.8674 - auc: 1.0000\n",
      "Epoch 32/50\n",
      "6069/6069 [==============================] - 0s 2us/sample - loss: 0.5664 - acc: 0.0290 - tp: 5099.0000 - tn: 156.0000 - fp: 0.0000e+00 - fn: 814.0000 - precision: 1.0000 - recall: 0.8623 - auc: 1.0000\n",
      "Epoch 33/50\n",
      "6069/6069 [==============================] - 0s 2us/sample - loss: 0.5651 - acc: 0.0290 - tp: 5086.0000 - tn: 156.0000 - fp: 0.0000e+00 - fn: 827.0000 - precision: 1.0000 - recall: 0.8601 - auc: 1.0000\n",
      "Epoch 34/50\n",
      "6069/6069 [==============================] - 0s 2us/sample - loss: 0.5639 - acc: 0.0290 - tp: 5110.0000 - tn: 156.0000 - fp: 0.0000e+00 - fn: 803.0000 - precision: 1.0000 - recall: 0.8642 - auc: 1.0000\n",
      "Epoch 35/50\n",
      "6069/6069 [==============================] - 0s 2us/sample - loss: 0.5628 - acc: 0.0290 - tp: 5122.0000 - tn: 156.0000 - fp: 0.0000e+00 - fn: 791.0000 - precision: 1.0000 - recall: 0.8662 - auc: 1.0000\n",
      "Epoch 36/50\n",
      "6069/6069 [==============================] - 0s 2us/sample - loss: 0.5617 - acc: 0.0290 - tp: 5092.0000 - tn: 156.0000 - fp: 0.0000e+00 - fn: 821.0000 - precision: 1.0000 - recall: 0.8612 - auc: 1.0000\n",
      "Epoch 37/50\n",
      "6069/6069 [==============================] - 0s 2us/sample - loss: 0.5606 - acc: 0.0290 - tp: 5104.0000 - tn: 156.0000 - fp: 0.0000e+00 - fn: 809.0000 - precision: 1.0000 - recall: 0.8632 - auc: 1.0000\n",
      "Epoch 38/50\n",
      "6069/6069 [==============================] - 0s 3us/sample - loss: 0.5596 - acc: 0.0290 - tp: 5126.0000 - tn: 156.0000 - fp: 0.0000e+00 - fn: 787.0000 - precision: 1.0000 - recall: 0.8669 - auc: 1.0000\n",
      "Epoch 39/50\n",
      "6069/6069 [==============================] - 0s 3us/sample - loss: 0.5586 - acc: 0.0290 - tp: 5069.0000 - tn: 156.0000 - fp: 0.0000e+00 - fn: 844.0000 - precision: 1.0000 - recall: 0.8573 - auc: 1.0000\n",
      "Epoch 40/50\n",
      "6069/6069 [==============================] - 0s 2us/sample - loss: 0.5576 - acc: 0.0290 - tp: 5107.0000 - tn: 156.0000 - fp: 0.0000e+00 - fn: 806.0000 - precision: 1.0000 - recall: 0.8637 - auc: 1.0000\n",
      "Epoch 41/50\n",
      "6069/6069 [==============================] - 0s 2us/sample - loss: 0.5566 - acc: 0.0290 - tp: 5120.0000 - tn: 156.0000 - fp: 0.0000e+00 - fn: 793.0000 - precision: 1.0000 - recall: 0.8659 - auc: 1.0000\n",
      "Epoch 42/50\n",
      "6069/6069 [==============================] - 0s 3us/sample - loss: 0.5557 - acc: 0.0290 - tp: 5102.0000 - tn: 156.0000 - fp: 0.0000e+00 - fn: 811.0000 - precision: 1.0000 - recall: 0.8628 - auc: 1.0000\n",
      "Epoch 43/50\n",
      "6069/6069 [==============================] - 0s 2us/sample - loss: 0.5549 - acc: 0.0290 - tp: 5104.0000 - tn: 156.0000 - fp: 0.0000e+00 - fn: 809.0000 - precision: 1.0000 - recall: 0.8632 - auc: 1.0000\n",
      "Epoch 44/50\n",
      "6069/6069 [==============================] - 0s 2us/sample - loss: 0.5541 - acc: 0.0290 - tp: 5066.0000 - tn: 156.0000 - fp: 0.0000e+00 - fn: 847.0000 - precision: 1.0000 - recall: 0.8568 - auc: 1.0000\n",
      "Epoch 45/50\n",
      "6069/6069 [==============================] - 0s 3us/sample - loss: 0.5534 - acc: 0.0290 - tp: 5109.0000 - tn: 156.0000 - fp: 0.0000e+00 - fn: 804.0000 - precision: 1.0000 - recall: 0.8640 - auc: 1.0000\n",
      "Epoch 46/50\n",
      "6069/6069 [==============================] - 0s 3us/sample - loss: 0.5526 - acc: 0.0290 - tp: 5081.0000 - tn: 156.0000 - fp: 0.0000e+00 - fn: 832.0000 - precision: 1.0000 - recall: 0.8593 - auc: 1.0000\n",
      "Epoch 47/50\n",
      "6069/6069 [==============================] - 0s 3us/sample - loss: 0.5520 - acc: 0.0290 - tp: 5047.0000 - tn: 156.0000 - fp: 0.0000e+00 - fn: 866.0000 - precision: 1.0000 - recall: 0.8535 - auc: 1.0000\n",
      "Epoch 48/50\n",
      "6069/6069 [==============================] - 0s 3us/sample - loss: 0.5513 - acc: 0.0290 - tp: 5123.0000 - tn: 156.0000 - fp: 0.0000e+00 - fn: 790.0000 - precision: 1.0000 - recall: 0.8664 - auc: 1.0000\n",
      "Epoch 49/50\n",
      "6069/6069 [==============================] - 0s 2us/sample - loss: 0.5506 - acc: 0.0290 - tp: 5071.0000 - tn: 156.0000 - fp: 0.0000e+00 - fn: 842.0000 - precision: 1.0000 - recall: 0.8576 - auc: 1.0000\n",
      "Epoch 50/50\n",
      "6069/6069 [==============================] - 0s 3us/sample - loss: 0.5500 - acc: 0.0290 - tp: 5077.0000 - tn: 156.0000 - fp: 0.0000e+00 - fn: 836.0000 - precision: 1.0000 - recall: 0.8586 - auc: 1.0000\n"
     ]
    }
   ],
   "source": [
    "# Training the model\n",
    "batch_size = 1000\n",
    "epochs = 50\n",
    "training_history = model.fit(\n",
    "    X_train,\n",
    "    y_train,\n",
    "    #validation_data=(X_val, y_val),\n",
    "    epochs=epochs,\n",
    "    batch_size=batch_size,\n",
    "    verbose=1,\n",
    ")"
   ]
  },
  {
   "cell_type": "code",
   "execution_count": 16,
   "metadata": {},
   "outputs": [
    {
     "output_type": "stream",
     "name": "stdout",
     "text": [
      "2023/2023 [==============================] - 0s 46us/sample - loss: 0.5489 - acc: 0.0302 - tp: 1696.0000 - tn: 50.0000 - fp: 0.0000e+00 - fn: 277.0000 - precision: 1.0000 - recall: 0.8596 - auc: 1.0000\n"
     ]
    },
    {
     "output_type": "execute_result",
     "data": {
      "text/plain": [
       "[0.5489245710311641,\n",
       " 0.030153237,\n",
       " 1696.0,\n",
       " 50.0,\n",
       " 0.0,\n",
       " 277.0,\n",
       " 1.0,\n",
       " 0.85960466,\n",
       " 1.0]"
      ]
     },
     "metadata": {},
     "execution_count": 16
    }
   ],
   "source": [
    "# Make predictions using the testing data X_test\n",
    "predicted = model.predict(X_test)\n",
    "\n",
    "# Evaluate the model\n",
    "model.evaluate(X_test, y_test)"
   ]
  },
  {
   "cell_type": "code",
   "execution_count": 17,
   "metadata": {},
   "outputs": [],
   "source": [
    "real_OPS = stats_df[\"OPS\"]"
   ]
  },
  {
   "cell_type": "code",
   "execution_count": 18,
   "metadata": {},
   "outputs": [
    {
     "output_type": "error",
     "ename": "ValueError",
     "evalue": "Shape of passed values is (2023, 2), indices imply (8092, 2)",
     "traceback": [
      "\u001b[1;31m---------------------------------------------------------------------------\u001b[0m",
      "\u001b[1;31mValueError\u001b[0m                                Traceback (most recent call last)",
      "\u001b[1;32m<ipython-input-18-5ef24c6aa3f7>\u001b[0m in \u001b[0;36m<module>\u001b[1;34m\u001b[0m\n\u001b[0;32m      2\u001b[0m     \u001b[1;34m\"Real\"\u001b[0m\u001b[1;33m:\u001b[0m \u001b[0mreal_OPS\u001b[0m\u001b[1;33m.\u001b[0m\u001b[0mravel\u001b[0m\u001b[1;33m(\u001b[0m\u001b[1;33m)\u001b[0m\u001b[1;33m,\u001b[0m\u001b[1;33m\u001b[0m\u001b[1;33m\u001b[0m\u001b[0m\n\u001b[0;32m      3\u001b[0m     \u001b[1;34m\"Predicted\"\u001b[0m\u001b[1;33m:\u001b[0m \u001b[0mpredicted\u001b[0m\u001b[1;33m.\u001b[0m\u001b[0mravel\u001b[0m\u001b[1;33m(\u001b[0m\u001b[1;33m)\u001b[0m\u001b[1;33m\u001b[0m\u001b[1;33m\u001b[0m\u001b[0m\n\u001b[1;32m----> 4\u001b[1;33m     }, index = stats_df.index[-len(real_OPS): ])\n\u001b[0m\u001b[0;32m      5\u001b[0m \u001b[0mmoneyball\u001b[0m\u001b[1;33m.\u001b[0m\u001b[0mhead\u001b[0m\u001b[1;33m(\u001b[0m\u001b[1;33m)\u001b[0m\u001b[1;33m\u001b[0m\u001b[1;33m\u001b[0m\u001b[0m\n",
      "\u001b[1;32m~\\anaconda3\\envs\\dev\\lib\\site-packages\\pandas\\core\\frame.py\u001b[0m in \u001b[0;36m__init__\u001b[1;34m(self, data, index, columns, dtype, copy)\u001b[0m\n\u001b[0;32m    390\u001b[0m                                  dtype=dtype, copy=copy)\n\u001b[0;32m    391\u001b[0m         \u001b[1;32melif\u001b[0m \u001b[0misinstance\u001b[0m\u001b[1;33m(\u001b[0m\u001b[0mdata\u001b[0m\u001b[1;33m,\u001b[0m \u001b[0mdict\u001b[0m\u001b[1;33m)\u001b[0m\u001b[1;33m:\u001b[0m\u001b[1;33m\u001b[0m\u001b[1;33m\u001b[0m\u001b[0m\n\u001b[1;32m--> 392\u001b[1;33m             \u001b[0mmgr\u001b[0m \u001b[1;33m=\u001b[0m \u001b[0minit_dict\u001b[0m\u001b[1;33m(\u001b[0m\u001b[0mdata\u001b[0m\u001b[1;33m,\u001b[0m \u001b[0mindex\u001b[0m\u001b[1;33m,\u001b[0m \u001b[0mcolumns\u001b[0m\u001b[1;33m,\u001b[0m \u001b[0mdtype\u001b[0m\u001b[1;33m=\u001b[0m\u001b[0mdtype\u001b[0m\u001b[1;33m)\u001b[0m\u001b[1;33m\u001b[0m\u001b[1;33m\u001b[0m\u001b[0m\n\u001b[0m\u001b[0;32m    393\u001b[0m         \u001b[1;32melif\u001b[0m \u001b[0misinstance\u001b[0m\u001b[1;33m(\u001b[0m\u001b[0mdata\u001b[0m\u001b[1;33m,\u001b[0m \u001b[0mma\u001b[0m\u001b[1;33m.\u001b[0m\u001b[0mMaskedArray\u001b[0m\u001b[1;33m)\u001b[0m\u001b[1;33m:\u001b[0m\u001b[1;33m\u001b[0m\u001b[1;33m\u001b[0m\u001b[0m\n\u001b[0;32m    394\u001b[0m             \u001b[1;32mimport\u001b[0m \u001b[0mnumpy\u001b[0m\u001b[1;33m.\u001b[0m\u001b[0mma\u001b[0m\u001b[1;33m.\u001b[0m\u001b[0mmrecords\u001b[0m \u001b[1;32mas\u001b[0m \u001b[0mmrecords\u001b[0m\u001b[1;33m\u001b[0m\u001b[1;33m\u001b[0m\u001b[0m\n",
      "\u001b[1;32m~\\anaconda3\\envs\\dev\\lib\\site-packages\\pandas\\core\\internals\\construction.py\u001b[0m in \u001b[0;36minit_dict\u001b[1;34m(data, index, columns, dtype)\u001b[0m\n\u001b[0;32m    210\u001b[0m         \u001b[0marrays\u001b[0m \u001b[1;33m=\u001b[0m \u001b[1;33m[\u001b[0m\u001b[0mdata\u001b[0m\u001b[1;33m[\u001b[0m\u001b[0mk\u001b[0m\u001b[1;33m]\u001b[0m \u001b[1;32mfor\u001b[0m \u001b[0mk\u001b[0m \u001b[1;32min\u001b[0m \u001b[0mkeys\u001b[0m\u001b[1;33m]\u001b[0m\u001b[1;33m\u001b[0m\u001b[1;33m\u001b[0m\u001b[0m\n\u001b[0;32m    211\u001b[0m \u001b[1;33m\u001b[0m\u001b[0m\n\u001b[1;32m--> 212\u001b[1;33m     \u001b[1;32mreturn\u001b[0m \u001b[0marrays_to_mgr\u001b[0m\u001b[1;33m(\u001b[0m\u001b[0marrays\u001b[0m\u001b[1;33m,\u001b[0m \u001b[0mdata_names\u001b[0m\u001b[1;33m,\u001b[0m \u001b[0mindex\u001b[0m\u001b[1;33m,\u001b[0m \u001b[0mcolumns\u001b[0m\u001b[1;33m,\u001b[0m \u001b[0mdtype\u001b[0m\u001b[1;33m=\u001b[0m\u001b[0mdtype\u001b[0m\u001b[1;33m)\u001b[0m\u001b[1;33m\u001b[0m\u001b[1;33m\u001b[0m\u001b[0m\n\u001b[0m\u001b[0;32m    213\u001b[0m \u001b[1;33m\u001b[0m\u001b[0m\n\u001b[0;32m    214\u001b[0m \u001b[1;33m\u001b[0m\u001b[0m\n",
      "\u001b[1;32m~\\anaconda3\\envs\\dev\\lib\\site-packages\\pandas\\core\\internals\\construction.py\u001b[0m in \u001b[0;36marrays_to_mgr\u001b[1;34m(arrays, arr_names, index, columns, dtype)\u001b[0m\n\u001b[0;32m     59\u001b[0m     \u001b[0maxes\u001b[0m \u001b[1;33m=\u001b[0m \u001b[1;33m[\u001b[0m\u001b[0mensure_index\u001b[0m\u001b[1;33m(\u001b[0m\u001b[0mcolumns\u001b[0m\u001b[1;33m)\u001b[0m\u001b[1;33m,\u001b[0m \u001b[0mindex\u001b[0m\u001b[1;33m]\u001b[0m\u001b[1;33m\u001b[0m\u001b[1;33m\u001b[0m\u001b[0m\n\u001b[0;32m     60\u001b[0m \u001b[1;33m\u001b[0m\u001b[0m\n\u001b[1;32m---> 61\u001b[1;33m     \u001b[1;32mreturn\u001b[0m \u001b[0mcreate_block_manager_from_arrays\u001b[0m\u001b[1;33m(\u001b[0m\u001b[0marrays\u001b[0m\u001b[1;33m,\u001b[0m \u001b[0marr_names\u001b[0m\u001b[1;33m,\u001b[0m \u001b[0maxes\u001b[0m\u001b[1;33m)\u001b[0m\u001b[1;33m\u001b[0m\u001b[1;33m\u001b[0m\u001b[0m\n\u001b[0m\u001b[0;32m     62\u001b[0m \u001b[1;33m\u001b[0m\u001b[0m\n\u001b[0;32m     63\u001b[0m \u001b[1;33m\u001b[0m\u001b[0m\n",
      "\u001b[1;32m~\\anaconda3\\envs\\dev\\lib\\site-packages\\pandas\\core\\internals\\managers.py\u001b[0m in \u001b[0;36mcreate_block_manager_from_arrays\u001b[1;34m(arrays, names, axes)\u001b[0m\n\u001b[0;32m   1669\u001b[0m         \u001b[1;32mreturn\u001b[0m \u001b[0mmgr\u001b[0m\u001b[1;33m\u001b[0m\u001b[1;33m\u001b[0m\u001b[0m\n\u001b[0;32m   1670\u001b[0m     \u001b[1;32mexcept\u001b[0m \u001b[0mValueError\u001b[0m \u001b[1;32mas\u001b[0m \u001b[0me\u001b[0m\u001b[1;33m:\u001b[0m\u001b[1;33m\u001b[0m\u001b[1;33m\u001b[0m\u001b[0m\n\u001b[1;32m-> 1671\u001b[1;33m         \u001b[0mconstruction_error\u001b[0m\u001b[1;33m(\u001b[0m\u001b[0mlen\u001b[0m\u001b[1;33m(\u001b[0m\u001b[0marrays\u001b[0m\u001b[1;33m)\u001b[0m\u001b[1;33m,\u001b[0m \u001b[0marrays\u001b[0m\u001b[1;33m[\u001b[0m\u001b[1;36m0\u001b[0m\u001b[1;33m]\u001b[0m\u001b[1;33m.\u001b[0m\u001b[0mshape\u001b[0m\u001b[1;33m,\u001b[0m \u001b[0maxes\u001b[0m\u001b[1;33m,\u001b[0m \u001b[0me\u001b[0m\u001b[1;33m)\u001b[0m\u001b[1;33m\u001b[0m\u001b[1;33m\u001b[0m\u001b[0m\n\u001b[0m\u001b[0;32m   1672\u001b[0m \u001b[1;33m\u001b[0m\u001b[0m\n\u001b[0;32m   1673\u001b[0m \u001b[1;33m\u001b[0m\u001b[0m\n",
      "\u001b[1;32m~\\anaconda3\\envs\\dev\\lib\\site-packages\\pandas\\core\\internals\\managers.py\u001b[0m in \u001b[0;36mconstruction_error\u001b[1;34m(tot_items, block_shape, axes, e)\u001b[0m\n\u001b[0;32m   1685\u001b[0m \u001b[1;33m\u001b[0m\u001b[0m\n\u001b[0;32m   1686\u001b[0m     \u001b[1;32mif\u001b[0m \u001b[0mpassed\u001b[0m \u001b[1;33m==\u001b[0m \u001b[0mimplied\u001b[0m \u001b[1;32mand\u001b[0m \u001b[0me\u001b[0m \u001b[1;32mis\u001b[0m \u001b[1;32mnot\u001b[0m \u001b[1;32mNone\u001b[0m\u001b[1;33m:\u001b[0m\u001b[1;33m\u001b[0m\u001b[1;33m\u001b[0m\u001b[0m\n\u001b[1;32m-> 1687\u001b[1;33m         \u001b[1;32mraise\u001b[0m \u001b[0me\u001b[0m\u001b[1;33m\u001b[0m\u001b[1;33m\u001b[0m\u001b[0m\n\u001b[0m\u001b[0;32m   1688\u001b[0m     \u001b[1;32mif\u001b[0m \u001b[0mblock_shape\u001b[0m\u001b[1;33m[\u001b[0m\u001b[1;36m0\u001b[0m\u001b[1;33m]\u001b[0m \u001b[1;33m==\u001b[0m \u001b[1;36m0\u001b[0m\u001b[1;33m:\u001b[0m\u001b[1;33m\u001b[0m\u001b[1;33m\u001b[0m\u001b[0m\n\u001b[0;32m   1689\u001b[0m         \u001b[1;32mraise\u001b[0m \u001b[0mValueError\u001b[0m\u001b[1;33m(\u001b[0m\u001b[1;34m\"Empty data passed with indices specified.\"\u001b[0m\u001b[1;33m)\u001b[0m\u001b[1;33m\u001b[0m\u001b[1;33m\u001b[0m\u001b[0m\n",
      "\u001b[1;32m~\\anaconda3\\envs\\dev\\lib\\site-packages\\pandas\\core\\internals\\managers.py\u001b[0m in \u001b[0;36mcreate_block_manager_from_arrays\u001b[1;34m(arrays, names, axes)\u001b[0m\n\u001b[0;32m   1665\u001b[0m     \u001b[1;32mtry\u001b[0m\u001b[1;33m:\u001b[0m\u001b[1;33m\u001b[0m\u001b[1;33m\u001b[0m\u001b[0m\n\u001b[0;32m   1666\u001b[0m         \u001b[0mblocks\u001b[0m \u001b[1;33m=\u001b[0m \u001b[0mform_blocks\u001b[0m\u001b[1;33m(\u001b[0m\u001b[0marrays\u001b[0m\u001b[1;33m,\u001b[0m \u001b[0mnames\u001b[0m\u001b[1;33m,\u001b[0m \u001b[0maxes\u001b[0m\u001b[1;33m)\u001b[0m\u001b[1;33m\u001b[0m\u001b[1;33m\u001b[0m\u001b[0m\n\u001b[1;32m-> 1667\u001b[1;33m         \u001b[0mmgr\u001b[0m \u001b[1;33m=\u001b[0m \u001b[0mBlockManager\u001b[0m\u001b[1;33m(\u001b[0m\u001b[0mblocks\u001b[0m\u001b[1;33m,\u001b[0m \u001b[0maxes\u001b[0m\u001b[1;33m)\u001b[0m\u001b[1;33m\u001b[0m\u001b[1;33m\u001b[0m\u001b[0m\n\u001b[0m\u001b[0;32m   1668\u001b[0m         \u001b[0mmgr\u001b[0m\u001b[1;33m.\u001b[0m\u001b[0m_consolidate_inplace\u001b[0m\u001b[1;33m(\u001b[0m\u001b[1;33m)\u001b[0m\u001b[1;33m\u001b[0m\u001b[1;33m\u001b[0m\u001b[0m\n\u001b[0;32m   1669\u001b[0m         \u001b[1;32mreturn\u001b[0m \u001b[0mmgr\u001b[0m\u001b[1;33m\u001b[0m\u001b[1;33m\u001b[0m\u001b[0m\n",
      "\u001b[1;32m~\\anaconda3\\envs\\dev\\lib\\site-packages\\pandas\\core\\internals\\managers.py\u001b[0m in \u001b[0;36m__init__\u001b[1;34m(self, blocks, axes, do_integrity_check)\u001b[0m\n\u001b[0;32m    112\u001b[0m \u001b[1;33m\u001b[0m\u001b[0m\n\u001b[0;32m    113\u001b[0m         \u001b[1;32mif\u001b[0m \u001b[0mdo_integrity_check\u001b[0m\u001b[1;33m:\u001b[0m\u001b[1;33m\u001b[0m\u001b[1;33m\u001b[0m\u001b[0m\n\u001b[1;32m--> 114\u001b[1;33m             \u001b[0mself\u001b[0m\u001b[1;33m.\u001b[0m\u001b[0m_verify_integrity\u001b[0m\u001b[1;33m(\u001b[0m\u001b[1;33m)\u001b[0m\u001b[1;33m\u001b[0m\u001b[1;33m\u001b[0m\u001b[0m\n\u001b[0m\u001b[0;32m    115\u001b[0m \u001b[1;33m\u001b[0m\u001b[0m\n\u001b[0;32m    116\u001b[0m         \u001b[0mself\u001b[0m\u001b[1;33m.\u001b[0m\u001b[0m_consolidate_check\u001b[0m\u001b[1;33m(\u001b[0m\u001b[1;33m)\u001b[0m\u001b[1;33m\u001b[0m\u001b[1;33m\u001b[0m\u001b[0m\n",
      "\u001b[1;32m~\\anaconda3\\envs\\dev\\lib\\site-packages\\pandas\\core\\internals\\managers.py\u001b[0m in \u001b[0;36m_verify_integrity\u001b[1;34m(self)\u001b[0m\n\u001b[0;32m    309\u001b[0m         \u001b[1;32mfor\u001b[0m \u001b[0mblock\u001b[0m \u001b[1;32min\u001b[0m \u001b[0mself\u001b[0m\u001b[1;33m.\u001b[0m\u001b[0mblocks\u001b[0m\u001b[1;33m:\u001b[0m\u001b[1;33m\u001b[0m\u001b[1;33m\u001b[0m\u001b[0m\n\u001b[0;32m    310\u001b[0m             \u001b[1;32mif\u001b[0m \u001b[0mblock\u001b[0m\u001b[1;33m.\u001b[0m\u001b[0m_verify_integrity\u001b[0m \u001b[1;32mand\u001b[0m \u001b[0mblock\u001b[0m\u001b[1;33m.\u001b[0m\u001b[0mshape\u001b[0m\u001b[1;33m[\u001b[0m\u001b[1;36m1\u001b[0m\u001b[1;33m:\u001b[0m\u001b[1;33m]\u001b[0m \u001b[1;33m!=\u001b[0m \u001b[0mmgr_shape\u001b[0m\u001b[1;33m[\u001b[0m\u001b[1;36m1\u001b[0m\u001b[1;33m:\u001b[0m\u001b[1;33m]\u001b[0m\u001b[1;33m:\u001b[0m\u001b[1;33m\u001b[0m\u001b[1;33m\u001b[0m\u001b[0m\n\u001b[1;32m--> 311\u001b[1;33m                 \u001b[0mconstruction_error\u001b[0m\u001b[1;33m(\u001b[0m\u001b[0mtot_items\u001b[0m\u001b[1;33m,\u001b[0m \u001b[0mblock\u001b[0m\u001b[1;33m.\u001b[0m\u001b[0mshape\u001b[0m\u001b[1;33m[\u001b[0m\u001b[1;36m1\u001b[0m\u001b[1;33m:\u001b[0m\u001b[1;33m]\u001b[0m\u001b[1;33m,\u001b[0m \u001b[0mself\u001b[0m\u001b[1;33m.\u001b[0m\u001b[0maxes\u001b[0m\u001b[1;33m)\u001b[0m\u001b[1;33m\u001b[0m\u001b[1;33m\u001b[0m\u001b[0m\n\u001b[0m\u001b[0;32m    312\u001b[0m         \u001b[1;32mif\u001b[0m \u001b[0mlen\u001b[0m\u001b[1;33m(\u001b[0m\u001b[0mself\u001b[0m\u001b[1;33m.\u001b[0m\u001b[0mitems\u001b[0m\u001b[1;33m)\u001b[0m \u001b[1;33m!=\u001b[0m \u001b[0mtot_items\u001b[0m\u001b[1;33m:\u001b[0m\u001b[1;33m\u001b[0m\u001b[1;33m\u001b[0m\u001b[0m\n\u001b[0;32m    313\u001b[0m             raise AssertionError('Number of manager items must equal union of '\n",
      "\u001b[1;32m~\\anaconda3\\envs\\dev\\lib\\site-packages\\pandas\\core\\internals\\managers.py\u001b[0m in \u001b[0;36mconstruction_error\u001b[1;34m(tot_items, block_shape, axes, e)\u001b[0m\n\u001b[0;32m   1689\u001b[0m         \u001b[1;32mraise\u001b[0m \u001b[0mValueError\u001b[0m\u001b[1;33m(\u001b[0m\u001b[1;34m\"Empty data passed with indices specified.\"\u001b[0m\u001b[1;33m)\u001b[0m\u001b[1;33m\u001b[0m\u001b[1;33m\u001b[0m\u001b[0m\n\u001b[0;32m   1690\u001b[0m     raise ValueError(\"Shape of passed values is {0}, indices imply {1}\".format(\n\u001b[1;32m-> 1691\u001b[1;33m         passed, implied))\n\u001b[0m\u001b[0;32m   1692\u001b[0m \u001b[1;33m\u001b[0m\u001b[0m\n\u001b[0;32m   1693\u001b[0m \u001b[1;33m\u001b[0m\u001b[0m\n",
      "\u001b[1;31mValueError\u001b[0m: Shape of passed values is (2023, 2), indices imply (8092, 2)"
     ]
    }
   ],
   "source": [
    "moneyball = pd.DataFrame({\n",
    "    \"Real\": real_OPS.ravel(),\n",
    "    \"Predicted\": predicted.ravel()\n",
    "    }, index = stats_df.index[-len(real_OPS): ])\n",
    "moneyball.head()"
   ]
  },
  {
   "cell_type": "code",
   "execution_count": null,
   "metadata": {},
   "outputs": [],
   "source": []
  }
 ]
}