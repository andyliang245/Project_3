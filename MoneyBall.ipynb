{
 "metadata": {
  "language_info": {
   "codemirror_mode": {
    "name": "ipython",
    "version": 3
   },
   "file_extension": ".py",
   "mimetype": "text/x-python",
   "name": "python",
   "nbconvert_exporter": "python",
   "pygments_lexer": "ipython3",
   "version": "3.7.10"
  },
  "orig_nbformat": 4,
  "kernelspec": {
   "name": "python3",
   "display_name": "Python 3.7.10 64-bit ('dev': conda)"
  },
  "interpreter": {
   "hash": "38e719a702c56ff7695290ab132eef83c1b4d5a17b776384c2f7168698ff0a3a"
  }
 },
 "nbformat": 4,
 "nbformat_minor": 2,
 "cells": [
  {
   "cell_type": "code",
   "execution_count": 1,
   "metadata": {},
   "outputs": [
    {
     "output_type": "stream",
     "name": "stderr",
     "text": [
      "\n",
      "Bad key \"text.kerning_factor\" on line 4 in\n",
      "C:\\Users\\Andy L\\anaconda3\\envs\\dev\\lib\\site-packages\\matplotlib\\mpl-data\\stylelib\\_classic_test_patch.mplstyle.\n",
      "You probably need to get an updated matplotlibrc file from\n",
      "http://github.com/matplotlib/matplotlib/blob/master/matplotlibrc.template\n",
      "or from the matplotlib source distribution\n",
      "C:\\Users\\Andy L\\anaconda3\\envs\\dev\\lib\\site-packages\\tensorflow\\python\\framework\\dtypes.py:516: FutureWarning: Passing (type, 1) or '1type' as a synonym of type is deprecated; in a future version of numpy, it will be understood as (type, (1,)) / '(1,)type'.\n",
      "  _np_qint8 = np.dtype([(\"qint8\", np.int8, 1)])\n",
      "C:\\Users\\Andy L\\anaconda3\\envs\\dev\\lib\\site-packages\\tensorflow\\python\\framework\\dtypes.py:517: FutureWarning: Passing (type, 1) or '1type' as a synonym of type is deprecated; in a future version of numpy, it will be understood as (type, (1,)) / '(1,)type'.\n",
      "  _np_quint8 = np.dtype([(\"quint8\", np.uint8, 1)])\n",
      "C:\\Users\\Andy L\\anaconda3\\envs\\dev\\lib\\site-packages\\tensorflow\\python\\framework\\dtypes.py:518: FutureWarning: Passing (type, 1) or '1type' as a synonym of type is deprecated; in a future version of numpy, it will be understood as (type, (1,)) / '(1,)type'.\n",
      "  _np_qint16 = np.dtype([(\"qint16\", np.int16, 1)])\n",
      "C:\\Users\\Andy L\\anaconda3\\envs\\dev\\lib\\site-packages\\tensorflow\\python\\framework\\dtypes.py:519: FutureWarning: Passing (type, 1) or '1type' as a synonym of type is deprecated; in a future version of numpy, it will be understood as (type, (1,)) / '(1,)type'.\n",
      "  _np_quint16 = np.dtype([(\"quint16\", np.uint16, 1)])\n",
      "C:\\Users\\Andy L\\anaconda3\\envs\\dev\\lib\\site-packages\\tensorflow\\python\\framework\\dtypes.py:520: FutureWarning: Passing (type, 1) or '1type' as a synonym of type is deprecated; in a future version of numpy, it will be understood as (type, (1,)) / '(1,)type'.\n",
      "  _np_qint32 = np.dtype([(\"qint32\", np.int32, 1)])\n",
      "C:\\Users\\Andy L\\anaconda3\\envs\\dev\\lib\\site-packages\\tensorflow\\python\\framework\\dtypes.py:525: FutureWarning: Passing (type, 1) or '1type' as a synonym of type is deprecated; in a future version of numpy, it will be understood as (type, (1,)) / '(1,)type'.\n",
      "  np_resource = np.dtype([(\"resource\", np.ubyte, 1)])\n",
      "C:\\Users\\Andy L\\anaconda3\\envs\\dev\\lib\\site-packages\\tensorboard\\compat\\tensorflow_stub\\dtypes.py:541: FutureWarning: Passing (type, 1) or '1type' as a synonym of type is deprecated; in a future version of numpy, it will be understood as (type, (1,)) / '(1,)type'.\n",
      "  _np_qint8 = np.dtype([(\"qint8\", np.int8, 1)])\n",
      "C:\\Users\\Andy L\\anaconda3\\envs\\dev\\lib\\site-packages\\tensorboard\\compat\\tensorflow_stub\\dtypes.py:542: FutureWarning: Passing (type, 1) or '1type' as a synonym of type is deprecated; in a future version of numpy, it will be understood as (type, (1,)) / '(1,)type'.\n",
      "  _np_quint8 = np.dtype([(\"quint8\", np.uint8, 1)])\n",
      "C:\\Users\\Andy L\\anaconda3\\envs\\dev\\lib\\site-packages\\tensorboard\\compat\\tensorflow_stub\\dtypes.py:543: FutureWarning: Passing (type, 1) or '1type' as a synonym of type is deprecated; in a future version of numpy, it will be understood as (type, (1,)) / '(1,)type'.\n",
      "  _np_qint16 = np.dtype([(\"qint16\", np.int16, 1)])\n",
      "C:\\Users\\Andy L\\anaconda3\\envs\\dev\\lib\\site-packages\\tensorboard\\compat\\tensorflow_stub\\dtypes.py:544: FutureWarning: Passing (type, 1) or '1type' as a synonym of type is deprecated; in a future version of numpy, it will be understood as (type, (1,)) / '(1,)type'.\n",
      "  _np_quint16 = np.dtype([(\"quint16\", np.uint16, 1)])\n",
      "C:\\Users\\Andy L\\anaconda3\\envs\\dev\\lib\\site-packages\\tensorboard\\compat\\tensorflow_stub\\dtypes.py:545: FutureWarning: Passing (type, 1) or '1type' as a synonym of type is deprecated; in a future version of numpy, it will be understood as (type, (1,)) / '(1,)type'.\n",
      "  _np_qint32 = np.dtype([(\"qint32\", np.int32, 1)])\n",
      "C:\\Users\\Andy L\\anaconda3\\envs\\dev\\lib\\site-packages\\tensorboard\\compat\\tensorflow_stub\\dtypes.py:550: FutureWarning: Passing (type, 1) or '1type' as a synonym of type is deprecated; in a future version of numpy, it will be understood as (type, (1,)) / '(1,)type'.\n",
      "  np_resource = np.dtype([(\"resource\", np.ubyte, 1)])\n"
     ]
    }
   ],
   "source": [
    "import os\n",
    "import numpy as np\n",
    "import pandas as pd\n",
    "import seaborn as sns\n",
    "import datetime\n",
    "from pathlib import Path\n",
    "\n",
    "from sklearn.preprocessing import StandardScaler\n",
    "from sklearn.model_selection import train_test_split\n",
    "\n",
    "from tensorflow.keras.models import Sequential\n",
    "from tensorflow.keras.layers import Dense\n",
    "import tensorflow as tf\n",
    "\n",
    "%matplotlib inline"
   ]
  },
  {
   "cell_type": "code",
   "execution_count": 12,
   "metadata": {},
   "outputs": [
    {
     "output_type": "execute_result",
     "data": {
      "text/plain": [
       "                 Team Pos  Age    G   AB    R    H  2B  3B  HR  ...  CS  BB  \\\n",
       "Player                                                          ...           \n",
       "Whit Merrifield    KC  2B   32  162  681  105  206  41  10  16  ...  10  45   \n",
       "Marcus Semien     OAK  SS   30  162  657  123  187  43   7  33  ...   8  87   \n",
       "Rafael Devers     BOS  3B   24  156  647  129  201  54   4  32  ...   8  48   \n",
       "Jonathan Villar   BAL  2B   30  162  642  111  176  33   5  24  ...   9  61   \n",
       "Ozzie Albies      ATL  2B   24  160  640  102  189  43   8  24  ...   4  54   \n",
       "Eduardo Escobar   ARI  3B   32  158  636   94  171  29  10  35  ...   1  50   \n",
       "Starlin Castro    MIA  2B   31  162  636   68  172  31   4  22  ...   2  28   \n",
       "Jose Abreu        CWS  1B   34  159  634   85  180  38   1  33  ...   2  36   \n",
       "Jorge Polanco     MIN  SS   28  153  631  107  186  40   7  22  ...   3  60   \n",
       "Ronald Acuna      ATL  OF   23  156  626  127  175  22   2  41  ...   9  76   \n",
       "Eric Hosmer        SD  1B   31  160  619   72  164  29   2  22  ...   3  40   \n",
       "Amed Rosario      NYM  SS   25  157  616   75  177  30   7  15  ...  10  31   \n",
       "Xander Bogaerts   BOS  SS   28  155  614  110  190  52   0  33  ...   2  76   \n",
       "Cesar Hernandez   PHI  2B   31  161  612   77  171  31   3  14  ...   2  45   \n",
       "DJ LeMahieu       NYY  2B   33  145  602  109  197  33   2  26  ...   2  46   \n",
       "Trey Mancini      BAL  1B   29  154  602  106  175  38   2  35  ...   0  63   \n",
       "Elvis Andrus      TEX  SS   32  147  600   81  165  27   4  12  ...   8  34   \n",
       "Francisco Lindor  CLE  SS   27  143  598  101  170  40   2  32  ...   5  46   \n",
       "Paul Goldschmidt  STL  1B   33  161  597   97  155  25   1  34  ...   1  78   \n",
       "Pete Alonso       NYM  1B   26  161  597  103  155  30   2  53  ...   0  72   \n",
       "\n",
       "                   SO  SH  SF  HBP    AVG    OBP    SLG    OPS  \n",
       "Player                                                          \n",
       "Whit Merrifield   126   0   4    5  0.302  0.348  0.463  0.811  \n",
       "Marcus Semien     102   0   1    2  0.285  0.369  0.522  0.891  \n",
       "Rafael Devers     119   1   2    4  0.311  0.361  0.555  0.916  \n",
       "Jonathan Villar   176   2   4    4  0.274  0.339  0.453  0.792  \n",
       "Ozzie Albies      112   0   4    4  0.295  0.352  0.500  0.852  \n",
       "Eduardo Escobar   130   0  10    3  0.269  0.320  0.511  0.831  \n",
       "Starlin Castro    111   0   9    3  0.270  0.300  0.436  0.736  \n",
       "Jose Abreu        152   0  10   13  0.284  0.330  0.503  0.833  \n",
       "Jorge Polanco     116   2   7    4  0.295  0.356  0.485  0.841  \n",
       "Ronald Acuna      188   0   1    9  0.280  0.365  0.518  0.883  \n",
       "Eric Hosmer       163   0   5    3  0.265  0.310  0.425  0.735  \n",
       "Amed Rosario      124   2   3    3  0.287  0.323  0.432  0.755  \n",
       "Xander Bogaerts   122   0   6    2  0.309  0.384  0.555  0.939  \n",
       "Cesar Hernandez   100   0   4    6  0.279  0.333  0.408  0.741  \n",
       "DJ LeMahieu        90   1   4    2  0.327  0.375  0.518  0.893  \n",
       "Trey Mancini      143   0   5    9  0.291  0.364  0.535  0.899  \n",
       "Elvis Andrus       96   0  10    4  0.275  0.313  0.393  0.706  \n",
       "Francisco Lindor   98   1   6    3  0.284  0.335  0.518  0.853  \n",
       "Paul Goldschmidt  166   0   3    2  0.260  0.346  0.476  0.822  \n",
       "Pete Alonso       183   0   3   21  0.260  0.358  0.583  0.941  \n",
       "\n",
       "[20 rows x 22 columns]"
      ],
      "text/html": "<div>\n<style scoped>\n    .dataframe tbody tr th:only-of-type {\n        vertical-align: middle;\n    }\n\n    .dataframe tbody tr th {\n        vertical-align: top;\n    }\n\n    .dataframe thead th {\n        text-align: right;\n    }\n</style>\n<table border=\"1\" class=\"dataframe\">\n  <thead>\n    <tr style=\"text-align: right;\">\n      <th></th>\n      <th>Team</th>\n      <th>Pos</th>\n      <th>Age</th>\n      <th>G</th>\n      <th>AB</th>\n      <th>R</th>\n      <th>H</th>\n      <th>2B</th>\n      <th>3B</th>\n      <th>HR</th>\n      <th>...</th>\n      <th>CS</th>\n      <th>BB</th>\n      <th>SO</th>\n      <th>SH</th>\n      <th>SF</th>\n      <th>HBP</th>\n      <th>AVG</th>\n      <th>OBP</th>\n      <th>SLG</th>\n      <th>OPS</th>\n    </tr>\n    <tr>\n      <th>Player</th>\n      <th></th>\n      <th></th>\n      <th></th>\n      <th></th>\n      <th></th>\n      <th></th>\n      <th></th>\n      <th></th>\n      <th></th>\n      <th></th>\n      <th></th>\n      <th></th>\n      <th></th>\n      <th></th>\n      <th></th>\n      <th></th>\n      <th></th>\n      <th></th>\n      <th></th>\n      <th></th>\n      <th></th>\n    </tr>\n  </thead>\n  <tbody>\n    <tr>\n      <th>Whit Merrifield</th>\n      <td>KC</td>\n      <td>2B</td>\n      <td>32</td>\n      <td>162</td>\n      <td>681</td>\n      <td>105</td>\n      <td>206</td>\n      <td>41</td>\n      <td>10</td>\n      <td>16</td>\n      <td>...</td>\n      <td>10</td>\n      <td>45</td>\n      <td>126</td>\n      <td>0</td>\n      <td>4</td>\n      <td>5</td>\n      <td>0.302</td>\n      <td>0.348</td>\n      <td>0.463</td>\n      <td>0.811</td>\n    </tr>\n    <tr>\n      <th>Marcus Semien</th>\n      <td>OAK</td>\n      <td>SS</td>\n      <td>30</td>\n      <td>162</td>\n      <td>657</td>\n      <td>123</td>\n      <td>187</td>\n      <td>43</td>\n      <td>7</td>\n      <td>33</td>\n      <td>...</td>\n      <td>8</td>\n      <td>87</td>\n      <td>102</td>\n      <td>0</td>\n      <td>1</td>\n      <td>2</td>\n      <td>0.285</td>\n      <td>0.369</td>\n      <td>0.522</td>\n      <td>0.891</td>\n    </tr>\n    <tr>\n      <th>Rafael Devers</th>\n      <td>BOS</td>\n      <td>3B</td>\n      <td>24</td>\n      <td>156</td>\n      <td>647</td>\n      <td>129</td>\n      <td>201</td>\n      <td>54</td>\n      <td>4</td>\n      <td>32</td>\n      <td>...</td>\n      <td>8</td>\n      <td>48</td>\n      <td>119</td>\n      <td>1</td>\n      <td>2</td>\n      <td>4</td>\n      <td>0.311</td>\n      <td>0.361</td>\n      <td>0.555</td>\n      <td>0.916</td>\n    </tr>\n    <tr>\n      <th>Jonathan Villar</th>\n      <td>BAL</td>\n      <td>2B</td>\n      <td>30</td>\n      <td>162</td>\n      <td>642</td>\n      <td>111</td>\n      <td>176</td>\n      <td>33</td>\n      <td>5</td>\n      <td>24</td>\n      <td>...</td>\n      <td>9</td>\n      <td>61</td>\n      <td>176</td>\n      <td>2</td>\n      <td>4</td>\n      <td>4</td>\n      <td>0.274</td>\n      <td>0.339</td>\n      <td>0.453</td>\n      <td>0.792</td>\n    </tr>\n    <tr>\n      <th>Ozzie Albies</th>\n      <td>ATL</td>\n      <td>2B</td>\n      <td>24</td>\n      <td>160</td>\n      <td>640</td>\n      <td>102</td>\n      <td>189</td>\n      <td>43</td>\n      <td>8</td>\n      <td>24</td>\n      <td>...</td>\n      <td>4</td>\n      <td>54</td>\n      <td>112</td>\n      <td>0</td>\n      <td>4</td>\n      <td>4</td>\n      <td>0.295</td>\n      <td>0.352</td>\n      <td>0.500</td>\n      <td>0.852</td>\n    </tr>\n    <tr>\n      <th>Eduardo Escobar</th>\n      <td>ARI</td>\n      <td>3B</td>\n      <td>32</td>\n      <td>158</td>\n      <td>636</td>\n      <td>94</td>\n      <td>171</td>\n      <td>29</td>\n      <td>10</td>\n      <td>35</td>\n      <td>...</td>\n      <td>1</td>\n      <td>50</td>\n      <td>130</td>\n      <td>0</td>\n      <td>10</td>\n      <td>3</td>\n      <td>0.269</td>\n      <td>0.320</td>\n      <td>0.511</td>\n      <td>0.831</td>\n    </tr>\n    <tr>\n      <th>Starlin Castro</th>\n      <td>MIA</td>\n      <td>2B</td>\n      <td>31</td>\n      <td>162</td>\n      <td>636</td>\n      <td>68</td>\n      <td>172</td>\n      <td>31</td>\n      <td>4</td>\n      <td>22</td>\n      <td>...</td>\n      <td>2</td>\n      <td>28</td>\n      <td>111</td>\n      <td>0</td>\n      <td>9</td>\n      <td>3</td>\n      <td>0.270</td>\n      <td>0.300</td>\n      <td>0.436</td>\n      <td>0.736</td>\n    </tr>\n    <tr>\n      <th>Jose Abreu</th>\n      <td>CWS</td>\n      <td>1B</td>\n      <td>34</td>\n      <td>159</td>\n      <td>634</td>\n      <td>85</td>\n      <td>180</td>\n      <td>38</td>\n      <td>1</td>\n      <td>33</td>\n      <td>...</td>\n      <td>2</td>\n      <td>36</td>\n      <td>152</td>\n      <td>0</td>\n      <td>10</td>\n      <td>13</td>\n      <td>0.284</td>\n      <td>0.330</td>\n      <td>0.503</td>\n      <td>0.833</td>\n    </tr>\n    <tr>\n      <th>Jorge Polanco</th>\n      <td>MIN</td>\n      <td>SS</td>\n      <td>28</td>\n      <td>153</td>\n      <td>631</td>\n      <td>107</td>\n      <td>186</td>\n      <td>40</td>\n      <td>7</td>\n      <td>22</td>\n      <td>...</td>\n      <td>3</td>\n      <td>60</td>\n      <td>116</td>\n      <td>2</td>\n      <td>7</td>\n      <td>4</td>\n      <td>0.295</td>\n      <td>0.356</td>\n      <td>0.485</td>\n      <td>0.841</td>\n    </tr>\n    <tr>\n      <th>Ronald Acuna</th>\n      <td>ATL</td>\n      <td>OF</td>\n      <td>23</td>\n      <td>156</td>\n      <td>626</td>\n      <td>127</td>\n      <td>175</td>\n      <td>22</td>\n      <td>2</td>\n      <td>41</td>\n      <td>...</td>\n      <td>9</td>\n      <td>76</td>\n      <td>188</td>\n      <td>0</td>\n      <td>1</td>\n      <td>9</td>\n      <td>0.280</td>\n      <td>0.365</td>\n      <td>0.518</td>\n      <td>0.883</td>\n    </tr>\n    <tr>\n      <th>Eric Hosmer</th>\n      <td>SD</td>\n      <td>1B</td>\n      <td>31</td>\n      <td>160</td>\n      <td>619</td>\n      <td>72</td>\n      <td>164</td>\n      <td>29</td>\n      <td>2</td>\n      <td>22</td>\n      <td>...</td>\n      <td>3</td>\n      <td>40</td>\n      <td>163</td>\n      <td>0</td>\n      <td>5</td>\n      <td>3</td>\n      <td>0.265</td>\n      <td>0.310</td>\n      <td>0.425</td>\n      <td>0.735</td>\n    </tr>\n    <tr>\n      <th>Amed Rosario</th>\n      <td>NYM</td>\n      <td>SS</td>\n      <td>25</td>\n      <td>157</td>\n      <td>616</td>\n      <td>75</td>\n      <td>177</td>\n      <td>30</td>\n      <td>7</td>\n      <td>15</td>\n      <td>...</td>\n      <td>10</td>\n      <td>31</td>\n      <td>124</td>\n      <td>2</td>\n      <td>3</td>\n      <td>3</td>\n      <td>0.287</td>\n      <td>0.323</td>\n      <td>0.432</td>\n      <td>0.755</td>\n    </tr>\n    <tr>\n      <th>Xander Bogaerts</th>\n      <td>BOS</td>\n      <td>SS</td>\n      <td>28</td>\n      <td>155</td>\n      <td>614</td>\n      <td>110</td>\n      <td>190</td>\n      <td>52</td>\n      <td>0</td>\n      <td>33</td>\n      <td>...</td>\n      <td>2</td>\n      <td>76</td>\n      <td>122</td>\n      <td>0</td>\n      <td>6</td>\n      <td>2</td>\n      <td>0.309</td>\n      <td>0.384</td>\n      <td>0.555</td>\n      <td>0.939</td>\n    </tr>\n    <tr>\n      <th>Cesar Hernandez</th>\n      <td>PHI</td>\n      <td>2B</td>\n      <td>31</td>\n      <td>161</td>\n      <td>612</td>\n      <td>77</td>\n      <td>171</td>\n      <td>31</td>\n      <td>3</td>\n      <td>14</td>\n      <td>...</td>\n      <td>2</td>\n      <td>45</td>\n      <td>100</td>\n      <td>0</td>\n      <td>4</td>\n      <td>6</td>\n      <td>0.279</td>\n      <td>0.333</td>\n      <td>0.408</td>\n      <td>0.741</td>\n    </tr>\n    <tr>\n      <th>DJ LeMahieu</th>\n      <td>NYY</td>\n      <td>2B</td>\n      <td>33</td>\n      <td>145</td>\n      <td>602</td>\n      <td>109</td>\n      <td>197</td>\n      <td>33</td>\n      <td>2</td>\n      <td>26</td>\n      <td>...</td>\n      <td>2</td>\n      <td>46</td>\n      <td>90</td>\n      <td>1</td>\n      <td>4</td>\n      <td>2</td>\n      <td>0.327</td>\n      <td>0.375</td>\n      <td>0.518</td>\n      <td>0.893</td>\n    </tr>\n    <tr>\n      <th>Trey Mancini</th>\n      <td>BAL</td>\n      <td>1B</td>\n      <td>29</td>\n      <td>154</td>\n      <td>602</td>\n      <td>106</td>\n      <td>175</td>\n      <td>38</td>\n      <td>2</td>\n      <td>35</td>\n      <td>...</td>\n      <td>0</td>\n      <td>63</td>\n      <td>143</td>\n      <td>0</td>\n      <td>5</td>\n      <td>9</td>\n      <td>0.291</td>\n      <td>0.364</td>\n      <td>0.535</td>\n      <td>0.899</td>\n    </tr>\n    <tr>\n      <th>Elvis Andrus</th>\n      <td>TEX</td>\n      <td>SS</td>\n      <td>32</td>\n      <td>147</td>\n      <td>600</td>\n      <td>81</td>\n      <td>165</td>\n      <td>27</td>\n      <td>4</td>\n      <td>12</td>\n      <td>...</td>\n      <td>8</td>\n      <td>34</td>\n      <td>96</td>\n      <td>0</td>\n      <td>10</td>\n      <td>4</td>\n      <td>0.275</td>\n      <td>0.313</td>\n      <td>0.393</td>\n      <td>0.706</td>\n    </tr>\n    <tr>\n      <th>Francisco Lindor</th>\n      <td>CLE</td>\n      <td>SS</td>\n      <td>27</td>\n      <td>143</td>\n      <td>598</td>\n      <td>101</td>\n      <td>170</td>\n      <td>40</td>\n      <td>2</td>\n      <td>32</td>\n      <td>...</td>\n      <td>5</td>\n      <td>46</td>\n      <td>98</td>\n      <td>1</td>\n      <td>6</td>\n      <td>3</td>\n      <td>0.284</td>\n      <td>0.335</td>\n      <td>0.518</td>\n      <td>0.853</td>\n    </tr>\n    <tr>\n      <th>Paul Goldschmidt</th>\n      <td>STL</td>\n      <td>1B</td>\n      <td>33</td>\n      <td>161</td>\n      <td>597</td>\n      <td>97</td>\n      <td>155</td>\n      <td>25</td>\n      <td>1</td>\n      <td>34</td>\n      <td>...</td>\n      <td>1</td>\n      <td>78</td>\n      <td>166</td>\n      <td>0</td>\n      <td>3</td>\n      <td>2</td>\n      <td>0.260</td>\n      <td>0.346</td>\n      <td>0.476</td>\n      <td>0.822</td>\n    </tr>\n    <tr>\n      <th>Pete Alonso</th>\n      <td>NYM</td>\n      <td>1B</td>\n      <td>26</td>\n      <td>161</td>\n      <td>597</td>\n      <td>103</td>\n      <td>155</td>\n      <td>30</td>\n      <td>2</td>\n      <td>53</td>\n      <td>...</td>\n      <td>0</td>\n      <td>72</td>\n      <td>183</td>\n      <td>0</td>\n      <td>3</td>\n      <td>21</td>\n      <td>0.260</td>\n      <td>0.358</td>\n      <td>0.583</td>\n      <td>0.941</td>\n    </tr>\n  </tbody>\n</table>\n<p>20 rows × 22 columns</p>\n</div>"
     },
     "metadata": {},
     "execution_count": 12
    }
   ],
   "source": [
    "# Import Dataset\n",
    "file_path_21 = Path(\"Resources/batting_stats_2021.csv\")\n",
    "file_path_20 = Path(\"Resources/batting_stats_2020.csv\")\n",
    "file_path_19 = Path(\"Resources/batting_stats_2019.csv\")\n",
    "file_path_18 = Path(\"Resources/batting_stats_2018.csv\")\n",
    "file_path_17 = Path(\"Resources/batting_stats_2017.csv\")\n",
    "file_path_16 = Path(\"Resources/batting_stats_2016.csv\")\n",
    "file_path_15 = Path(\"Resources/batting_stats_2015.csv\")\n",
    "file_path_14 = Path(\"Resources/batting_stats_2014.csv\")\n",
    "file_path_13 = Path(\"Resources/batting_stats_2013.csv\")\n",
    "file_path_12 = Path(\"Resources/batting_stats_2012.csv\")\n",
    "file_path_11 = Path(\"Resources/batting_stats_2011.csv\")\n",
    "file_path_10 = Path(\"Resources/batting_stats_2010.csv\")\n",
    "\n",
    "# Read into Dataset\n",
    "stats_21_df = pd.read_csv(file_path_21, index_col = 0)\n",
    "stats_20_df = pd.read_csv(file_path_20, index_col = 0)\n",
    "stats_19_df = pd.read_csv(file_path_19, index_col = 0)\n",
    "stats_18_df = pd.read_csv(file_path_18, index_col = 0)\n",
    "stats_17_df = pd.read_csv(file_path_17, index_col = 0)\n",
    "stats_16_df = pd.read_csv(file_path_16, index_col = 0)\n",
    "stats_15_df = pd.read_csv(file_path_15, index_col = 0)\n",
    "stats_14_df = pd.read_csv(file_path_14, index_col = 0)\n",
    "stats_13_df = pd.read_csv(file_path_13, index_col = 0)\n",
    "stats_12_df = pd.read_csv(file_path_12, index_col = 0)\n",
    "stats_11_df = pd.read_csv(file_path_11, index_col = 0)\n",
    "stats_10_df = pd.read_csv(file_path_10, index_col = 0)\n",
    "\n",
    "stats_19_df.head(20)"
   ]
  },
  {
   "cell_type": "code",
   "execution_count": 3,
   "metadata": {},
   "outputs": [],
   "source": [
    "# Creating X & y variables\n",
    "X = stats_21_df.iloc[:, 3:-2]\n",
    "y = stats_21_df[\"OPS\"].values"
   ]
  },
  {
   "cell_type": "code",
   "execution_count": 4,
   "metadata": {},
   "outputs": [],
   "source": [
    "# Scale the data\n",
    "scaler = StandardScaler().fit(X)\n",
    "X = scaler.transform(X)"
   ]
  },
  {
   "cell_type": "code",
   "execution_count": 5,
   "metadata": {},
   "outputs": [
    {
     "output_type": "execute_result",
     "data": {
      "text/plain": [
       "(478, 17)"
      ]
     },
     "metadata": {},
     "execution_count": 5
    }
   ],
   "source": [
    "# Creating training, validation, and testing sets\n",
    "from sklearn.model_selection import train_test_split\n",
    "\n",
    "X_train, X_test, y_train, y_test = train_test_split(X, y, random_state=78)\n",
    "\n",
    "X_train.shape"
   ]
  },
  {
   "cell_type": "code",
   "execution_count": 6,
   "metadata": {},
   "outputs": [],
   "source": [
    "#X_train = X_train.reshape((X_train.shape[0], X_train.shape[1], 1))\n",
    "#X_test = X_test.reshape((X_test.shape[0], X_test.shape[1], 1))"
   ]
  },
  {
   "cell_type": "code",
   "execution_count": 7,
   "metadata": {},
   "outputs": [],
   "source": [
    "# Model set-up\r\n",
    "number_input_features = 17\r\n",
    "hidden_nodes_layer1 = 34\r\n",
    "hidden_nodes_layer2 = 5"
   ]
  },
  {
   "cell_type": "code",
   "execution_count": 8,
   "metadata": {},
   "outputs": [
    {
     "output_type": "stream",
     "name": "stdout",
     "text": [
      "WARNING:tensorflow:From C:\\Users\\Andy L\\anaconda3\\envs\\dev\\lib\\site-packages\\tensorflow\\python\\ops\\init_ops.py:1251: calling VarianceScaling.__init__ (from tensorflow.python.ops.init_ops) with dtype is deprecated and will be removed in a future version.\nInstructions for updating:\nCall initializer instance with the dtype argument instead of passing it to the constructor\n"
     ]
    }
   ],
   "source": [
    "# Define the LSTM RNN model\n",
    "model = Sequential()\n",
    "\n",
    "# Layer 1\n",
    "model.add(\n",
    "    Dense(units=hidden_nodes_layer1, input_dim=number_input_features, activation=\"relu\")\n",
    ")\n",
    "\n",
    "# Layer 2\n",
    "model.add(Dense(units=hidden_nodes_layer2, activation=\"relu\"))\n",
    "\n",
    "# Output layer\n",
    "model.add(Dense(1, activation=\"sigmoid\"))"
   ]
  },
  {
   "cell_type": "code",
   "execution_count": 9,
   "metadata": {},
   "outputs": [
    {
     "output_type": "stream",
     "name": "stdout",
     "text": [
      "WARNING:tensorflow:From C:\\Users\\Andy L\\anaconda3\\envs\\dev\\lib\\site-packages\\tensorflow\\python\\ops\\nn_impl.py:180: add_dispatch_support.<locals>.wrapper (from tensorflow.python.ops.array_ops) is deprecated and will be removed in a future version.\nInstructions for updating:\nUse tf.where in 2.0, which has the same broadcast rule as np.where\n"
     ]
    }
   ],
   "source": [
    "# Compile the model\n",
    "model.compile(\n",
    "    loss=\"binary_crossentropy\",\n",
    "    optimizer=\"adam\",\n",
    "    metrics=[\n",
    "        \"accuracy\",\n",
    "        tf.keras.metrics.TruePositives(name=\"tp\"),\n",
    "        tf.keras.metrics.TrueNegatives(name=\"tn\"),\n",
    "        tf.keras.metrics.FalsePositives(name=\"fp\"),\n",
    "        tf.keras.metrics.FalseNegatives(name=\"fn\"),\n",
    "        tf.keras.metrics.Precision(name=\"precision\"),\n",
    "        tf.keras.metrics.Recall(name=\"recall\"),\n",
    "        tf.keras.metrics.AUC(name=\"auc\"),\n",
    "    ],\n",
    ")"
   ]
  },
  {
   "cell_type": "code",
   "execution_count": 10,
   "metadata": {},
   "outputs": [
    {
     "output_type": "stream",
     "name": "stdout",
     "text": [
      "Epoch 1/50\n",
      "478/478 [==============================] - 0s 276us/sample - loss: 0.7901 - acc: 0.0209 - tp: 34.0000 - tn: 10.0000 - fp: 0.0000e+00 - fn: 434.0000 - precision: 1.0000 - recall: 0.0726 - auc: 0.1783\n",
      "Epoch 2/50\n",
      "478/478 [==============================] - 0s 2us/sample - loss: 0.7828 - acc: 0.0209 - tp: 77.0000 - tn: 10.0000 - fp: 0.0000e+00 - fn: 391.0000 - precision: 1.0000 - recall: 0.1645 - auc: 0.1936\n",
      "Epoch 3/50\n",
      "478/478 [==============================] - 0s 4us/sample - loss: 0.7758 - acc: 0.0209 - tp: 89.0000 - tn: 10.0000 - fp: 0.0000e+00 - fn: 379.0000 - precision: 1.0000 - recall: 0.1902 - auc: 0.1959\n",
      "Epoch 4/50\n",
      "478/478 [==============================] - 0s 4us/sample - loss: 0.7691 - acc: 0.0188 - tp: 95.0000 - tn: 9.0000 - fp: 1.0000 - fn: 373.0000 - precision: 0.9896 - recall: 0.2030 - auc: 0.1814\n",
      "Epoch 5/50\n",
      "478/478 [==============================] - 0s 4us/sample - loss: 0.7626 - acc: 0.0167 - tp: 99.0000 - tn: 8.0000 - fp: 2.0000 - fn: 369.0000 - precision: 0.9802 - recall: 0.2115 - auc: 0.1810\n",
      "Epoch 6/50\n",
      "478/478 [==============================] - 0s 2us/sample - loss: 0.7563 - acc: 0.0126 - tp: 108.0000 - tn: 6.0000 - fp: 4.0000 - fn: 360.0000 - precision: 0.9643 - recall: 0.2308 - auc: 0.1944\n",
      "Epoch 7/50\n",
      "478/478 [==============================] - 0s 4us/sample - loss: 0.7502 - acc: 0.0084 - tp: 113.0000 - tn: 4.0000 - fp: 6.0000 - fn: 355.0000 - precision: 0.9496 - recall: 0.2415 - auc: 0.1967\n",
      "Epoch 8/50\n",
      "478/478 [==============================] - 0s 2us/sample - loss: 0.7444 - acc: 0.0084 - tp: 115.0000 - tn: 4.0000 - fp: 6.0000 - fn: 353.0000 - precision: 0.9504 - recall: 0.2457 - auc: 0.2056\n",
      "Epoch 9/50\n",
      "478/478 [==============================] - 0s 4us/sample - loss: 0.7387 - acc: 0.0084 - tp: 120.0000 - tn: 4.0000 - fp: 6.0000 - fn: 348.0000 - precision: 0.9524 - recall: 0.2564 - auc: 0.2190\n",
      "Epoch 10/50\n",
      "478/478 [==============================] - 0s 4us/sample - loss: 0.7333 - acc: 0.0084 - tp: 127.0000 - tn: 4.0000 - fp: 6.0000 - fn: 341.0000 - precision: 0.9549 - recall: 0.2714 - auc: 0.2321\n",
      "Epoch 11/50\n",
      "478/478 [==============================] - 0s 2us/sample - loss: 0.7281 - acc: 0.0126 - tp: 130.0000 - tn: 6.0000 - fp: 4.0000 - fn: 338.0000 - precision: 0.9701 - recall: 0.2778 - auc: 0.2504\n",
      "Epoch 12/50\n",
      "478/478 [==============================] - 0s 4us/sample - loss: 0.7230 - acc: 0.0188 - tp: 136.0000 - tn: 9.0000 - fp: 1.0000 - fn: 332.0000 - precision: 0.9927 - recall: 0.2906 - auc: 0.2999\n",
      "Epoch 13/50\n",
      "478/478 [==============================] - 0s 4us/sample - loss: 0.7182 - acc: 0.0188 - tp: 143.0000 - tn: 9.0000 - fp: 1.0000 - fn: 325.0000 - precision: 0.9931 - recall: 0.3056 - auc: 0.3284\n",
      "Epoch 14/50\n",
      "478/478 [==============================] - 0s 2us/sample - loss: 0.7135 - acc: 0.0188 - tp: 147.0000 - tn: 9.0000 - fp: 1.0000 - fn: 321.0000 - precision: 0.9932 - recall: 0.3141 - auc: 0.3476\n",
      "Epoch 15/50\n",
      "478/478 [==============================] - 0s 2us/sample - loss: 0.7090 - acc: 0.0209 - tp: 153.0000 - tn: 10.0000 - fp: 0.0000e+00 - fn: 315.0000 - precision: 1.0000 - recall: 0.3269 - auc: 0.3708\n",
      "Epoch 16/50\n",
      "478/478 [==============================] - 0s 2us/sample - loss: 0.7046 - acc: 0.0209 - tp: 155.0000 - tn: 10.0000 - fp: 0.0000e+00 - fn: 313.0000 - precision: 1.0000 - recall: 0.3312 - auc: 0.4120\n",
      "Epoch 17/50\n",
      "478/478 [==============================] - 0s 2us/sample - loss: 0.7005 - acc: 0.0209 - tp: 164.0000 - tn: 10.0000 - fp: 0.0000e+00 - fn: 304.0000 - precision: 1.0000 - recall: 0.3504 - auc: 0.4342\n",
      "Epoch 18/50\n",
      "478/478 [==============================] - 0s 2us/sample - loss: 0.6965 - acc: 0.0209 - tp: 167.0000 - tn: 10.0000 - fp: 0.0000e+00 - fn: 301.0000 - precision: 1.0000 - recall: 0.3568 - auc: 0.4692\n",
      "Epoch 19/50\n",
      "478/478 [==============================] - 0s 4us/sample - loss: 0.6926 - acc: 0.0209 - tp: 173.0000 - tn: 10.0000 - fp: 0.0000e+00 - fn: 295.0000 - precision: 1.0000 - recall: 0.3697 - auc: 0.5169\n",
      "Epoch 20/50\n",
      "478/478 [==============================] - 0s 4us/sample - loss: 0.6888 - acc: 0.0209 - tp: 178.0000 - tn: 10.0000 - fp: 0.0000e+00 - fn: 290.0000 - precision: 1.0000 - recall: 0.3803 - auc: 0.5402\n",
      "Epoch 21/50\n",
      "478/478 [==============================] - 0s 2us/sample - loss: 0.6853 - acc: 0.0209 - tp: 183.0000 - tn: 10.0000 - fp: 0.0000e+00 - fn: 285.0000 - precision: 1.0000 - recall: 0.3910 - auc: 0.5969\n",
      "Epoch 22/50\n",
      "478/478 [==============================] - 0s 4us/sample - loss: 0.6819 - acc: 0.0209 - tp: 187.0000 - tn: 10.0000 - fp: 0.0000e+00 - fn: 281.0000 - precision: 1.0000 - recall: 0.3996 - auc: 0.6166\n",
      "Epoch 23/50\n",
      "478/478 [==============================] - 0s 4us/sample - loss: 0.6787 - acc: 0.0209 - tp: 197.0000 - tn: 10.0000 - fp: 0.0000e+00 - fn: 271.0000 - precision: 1.0000 - recall: 0.4209 - auc: 0.6714\n",
      "Epoch 24/50\n",
      "478/478 [==============================] - 0s 4us/sample - loss: 0.6756 - acc: 0.0209 - tp: 201.0000 - tn: 10.0000 - fp: 0.0000e+00 - fn: 267.0000 - precision: 1.0000 - recall: 0.4295 - auc: 0.7026\n",
      "Epoch 25/50\n",
      "478/478 [==============================] - 0s 2us/sample - loss: 0.6726 - acc: 0.0209 - tp: 208.0000 - tn: 10.0000 - fp: 0.0000e+00 - fn: 260.0000 - precision: 1.0000 - recall: 0.4444 - auc: 0.7423\n",
      "Epoch 26/50\n",
      "478/478 [==============================] - 0s 2us/sample - loss: 0.6698 - acc: 0.0209 - tp: 214.0000 - tn: 10.0000 - fp: 0.0000e+00 - fn: 254.0000 - precision: 1.0000 - recall: 0.4573 - auc: 0.7801\n",
      "Epoch 27/50\n",
      "478/478 [==============================] - 0s 4us/sample - loss: 0.6671 - acc: 0.0209 - tp: 217.0000 - tn: 10.0000 - fp: 0.0000e+00 - fn: 251.0000 - precision: 1.0000 - recall: 0.4637 - auc: 0.8214\n",
      "Epoch 28/50\n",
      "478/478 [==============================] - 0s 2us/sample - loss: 0.6644 - acc: 0.0209 - tp: 223.0000 - tn: 10.0000 - fp: 0.0000e+00 - fn: 245.0000 - precision: 1.0000 - recall: 0.4765 - auc: 0.8540\n",
      "Epoch 29/50\n",
      "478/478 [==============================] - 0s 2us/sample - loss: 0.6619 - acc: 0.0209 - tp: 231.0000 - tn: 10.0000 - fp: 0.0000e+00 - fn: 237.0000 - precision: 1.0000 - recall: 0.4936 - auc: 0.8769\n",
      "Epoch 30/50\n",
      "478/478 [==============================] - 0s 2us/sample - loss: 0.6595 - acc: 0.0230 - tp: 238.0000 - tn: 10.0000 - fp: 0.0000e+00 - fn: 230.0000 - precision: 1.0000 - recall: 0.5085 - auc: 0.8982\n",
      "Epoch 31/50\n",
      "478/478 [==============================] - 0s 2us/sample - loss: 0.6573 - acc: 0.0230 - tp: 243.0000 - tn: 10.0000 - fp: 0.0000e+00 - fn: 225.0000 - precision: 1.0000 - recall: 0.5192 - auc: 0.9174\n",
      "Epoch 32/50\n",
      "478/478 [==============================] - 0s 4us/sample - loss: 0.6553 - acc: 0.0230 - tp: 244.0000 - tn: 10.0000 - fp: 0.0000e+00 - fn: 224.0000 - precision: 1.0000 - recall: 0.5214 - auc: 0.9382\n",
      "Epoch 33/50\n",
      "478/478 [==============================] - 0s 4us/sample - loss: 0.6534 - acc: 0.0230 - tp: 245.0000 - tn: 10.0000 - fp: 0.0000e+00 - fn: 223.0000 - precision: 1.0000 - recall: 0.5235 - auc: 0.9525\n",
      "Epoch 34/50\n",
      "478/478 [==============================] - 0s 2us/sample - loss: 0.6517 - acc: 0.0230 - tp: 250.0000 - tn: 10.0000 - fp: 0.0000e+00 - fn: 218.0000 - precision: 1.0000 - recall: 0.5342 - auc: 0.9632\n",
      "Epoch 35/50\n",
      "478/478 [==============================] - 0s 2us/sample - loss: 0.6500 - acc: 0.0230 - tp: 252.0000 - tn: 10.0000 - fp: 0.0000e+00 - fn: 216.0000 - precision: 1.0000 - recall: 0.5385 - auc: 0.9721\n",
      "Epoch 36/50\n",
      "478/478 [==============================] - 0s 4us/sample - loss: 0.6485 - acc: 0.0230 - tp: 257.0000 - tn: 10.0000 - fp: 0.0000e+00 - fn: 211.0000 - precision: 1.0000 - recall: 0.5491 - auc: 0.9763\n",
      "Epoch 37/50\n",
      "478/478 [==============================] - 0s 2us/sample - loss: 0.6471 - acc: 0.0230 - tp: 258.0000 - tn: 10.0000 - fp: 0.0000e+00 - fn: 210.0000 - precision: 1.0000 - recall: 0.5513 - auc: 0.9787\n",
      "Epoch 38/50\n",
      "478/478 [==============================] - 0s 2us/sample - loss: 0.6459 - acc: 0.0230 - tp: 260.0000 - tn: 10.0000 - fp: 0.0000e+00 - fn: 208.0000 - precision: 1.0000 - recall: 0.5556 - auc: 0.9834\n",
      "Epoch 39/50\n",
      "478/478 [==============================] - 0s 2us/sample - loss: 0.6446 - acc: 0.0230 - tp: 264.0000 - tn: 10.0000 - fp: 0.0000e+00 - fn: 204.0000 - precision: 1.0000 - recall: 0.5641 - auc: 0.9854\n",
      "Epoch 40/50\n",
      "478/478 [==============================] - 0s 2us/sample - loss: 0.6435 - acc: 0.0230 - tp: 265.0000 - tn: 10.0000 - fp: 0.0000e+00 - fn: 203.0000 - precision: 1.0000 - recall: 0.5662 - auc: 0.9903\n",
      "Epoch 41/50\n",
      "478/478 [==============================] - 0s 4us/sample - loss: 0.6423 - acc: 0.0230 - tp: 266.0000 - tn: 10.0000 - fp: 0.0000e+00 - fn: 202.0000 - precision: 1.0000 - recall: 0.5684 - auc: 0.9924\n",
      "Epoch 42/50\n",
      "478/478 [==============================] - 0s 2us/sample - loss: 0.6413 - acc: 0.0230 - tp: 270.0000 - tn: 10.0000 - fp: 0.0000e+00 - fn: 198.0000 - precision: 1.0000 - recall: 0.5769 - auc: 0.9935\n",
      "Epoch 43/50\n",
      "478/478 [==============================] - 0s 2us/sample - loss: 0.6403 - acc: 0.0230 - tp: 270.0000 - tn: 10.0000 - fp: 0.0000e+00 - fn: 198.0000 - precision: 1.0000 - recall: 0.5769 - auc: 0.9963\n",
      "Epoch 44/50\n",
      "478/478 [==============================] - 0s 4us/sample - loss: 0.6394 - acc: 0.0230 - tp: 276.0000 - tn: 10.0000 - fp: 0.0000e+00 - fn: 192.0000 - precision: 1.0000 - recall: 0.5897 - auc: 0.9974\n",
      "Epoch 45/50\n",
      "478/478 [==============================] - 0s 4us/sample - loss: 0.6384 - acc: 0.0230 - tp: 278.0000 - tn: 10.0000 - fp: 0.0000e+00 - fn: 190.0000 - precision: 1.0000 - recall: 0.5940 - auc: 0.9978\n",
      "Epoch 46/50\n",
      "478/478 [==============================] - 0s 4us/sample - loss: 0.6375 - acc: 0.0230 - tp: 279.0000 - tn: 10.0000 - fp: 0.0000e+00 - fn: 189.0000 - precision: 1.0000 - recall: 0.5962 - auc: 0.9976\n",
      "Epoch 47/50\n",
      "478/478 [==============================] - 0s 4us/sample - loss: 0.6367 - acc: 0.0230 - tp: 279.0000 - tn: 10.0000 - fp: 0.0000e+00 - fn: 189.0000 - precision: 1.0000 - recall: 0.5962 - auc: 0.9978\n",
      "Epoch 48/50\n",
      "478/478 [==============================] - 0s 4us/sample - loss: 0.6359 - acc: 0.0230 - tp: 281.0000 - tn: 10.0000 - fp: 0.0000e+00 - fn: 187.0000 - precision: 1.0000 - recall: 0.6004 - auc: 0.9978\n",
      "Epoch 49/50\n",
      "478/478 [==============================] - 0s 4us/sample - loss: 0.6351 - acc: 0.0230 - tp: 283.0000 - tn: 10.0000 - fp: 0.0000e+00 - fn: 185.0000 - precision: 1.0000 - recall: 0.6047 - auc: 0.9978\n",
      "Epoch 50/50\n",
      "478/478 [==============================] - 0s 2us/sample - loss: 0.6344 - acc: 0.0230 - tp: 284.0000 - tn: 10.0000 - fp: 0.0000e+00 - fn: 184.0000 - precision: 1.0000 - recall: 0.6068 - auc: 0.9978\n"
     ]
    }
   ],
   "source": [
    "# Training the model\n",
    "batch_size = 1000\n",
    "epochs = 50\n",
    "training_history = model.fit(\n",
    "    X_train,\n",
    "    y_train,\n",
    "    #validation_data=(X_val, y_val),\n",
    "    epochs=epochs,\n",
    "    batch_size=batch_size,\n",
    "    verbose=1,\n",
    ")"
   ]
  },
  {
   "cell_type": "code",
   "execution_count": 13,
   "metadata": {},
   "outputs": [
    {
     "output_type": "stream",
     "name": "stdout",
     "text": [
      "160/160 [==============================] - 0s 380us/sample - loss: 0.6177 - acc: 0.0312 - tp: 102.0000 - tn: 5.0000 - fp: 0.0000e+00 - fn: 53.0000 - precision: 1.0000 - recall: 0.6581 - auc: 1.0000\n"
     ]
    },
    {
     "output_type": "execute_result",
     "data": {
      "text/plain": [
       "[0.6176957249641418, 0.03125, 102.0, 5.0, 0.0, 53.0, 1.0, 0.65806454, 1.0]"
      ]
     },
     "metadata": {},
     "execution_count": 13
    }
   ],
   "source": [
    "# Make predictions using the testing data X_test\n",
    "predicted = model.predict(X_test)\n",
    "\n",
    "# Evaluate the model\n",
    "model.evaluate(X_test, y_test)"
   ]
  },
  {
   "cell_type": "code",
   "execution_count": 24,
   "metadata": {},
   "outputs": [],
   "source": [
    "real_OPS = stats_19_df[\"OPS\"]"
   ]
  },
  {
   "cell_type": "code",
   "execution_count": 20,
   "metadata": {},
   "outputs": [
    {
     "output_type": "error",
     "ename": "ValueError",
     "evalue": "Shape of passed values is (160, 2), indices imply (694, 2)",
     "traceback": [
      "\u001b[1;31m---------------------------------------------------------------------------\u001b[0m",
      "\u001b[1;31mValueError\u001b[0m                                Traceback (most recent call last)",
      "\u001b[1;32m<ipython-input-20-3cda15aff44b>\u001b[0m in \u001b[0;36m<module>\u001b[1;34m\u001b[0m\n\u001b[0;32m      2\u001b[0m     \u001b[1;34m\"Real\"\u001b[0m\u001b[1;33m:\u001b[0m \u001b[0mreal_OPS\u001b[0m\u001b[1;33m.\u001b[0m\u001b[0mravel\u001b[0m\u001b[1;33m(\u001b[0m\u001b[1;33m)\u001b[0m\u001b[1;33m,\u001b[0m\u001b[1;33m\u001b[0m\u001b[1;33m\u001b[0m\u001b[0m\n\u001b[0;32m      3\u001b[0m     \u001b[1;34m\"Predicted\"\u001b[0m\u001b[1;33m:\u001b[0m \u001b[0mpredicted\u001b[0m\u001b[1;33m.\u001b[0m\u001b[0mravel\u001b[0m\u001b[1;33m(\u001b[0m\u001b[1;33m)\u001b[0m\u001b[1;33m\u001b[0m\u001b[1;33m\u001b[0m\u001b[0m\n\u001b[1;32m----> 4\u001b[1;33m     }, index = stats_19_df.index[-len(real_OPS): ])\n\u001b[0m\u001b[0;32m      5\u001b[0m \u001b[0mmoneyball\u001b[0m\u001b[1;33m.\u001b[0m\u001b[0mhead\u001b[0m\u001b[1;33m(\u001b[0m\u001b[1;33m)\u001b[0m\u001b[1;33m\u001b[0m\u001b[1;33m\u001b[0m\u001b[0m\n",
      "\u001b[1;32m~\\anaconda3\\envs\\dev\\lib\\site-packages\\pandas\\core\\frame.py\u001b[0m in \u001b[0;36m__init__\u001b[1;34m(self, data, index, columns, dtype, copy)\u001b[0m\n\u001b[0;32m    390\u001b[0m                                  dtype=dtype, copy=copy)\n\u001b[0;32m    391\u001b[0m         \u001b[1;32melif\u001b[0m \u001b[0misinstance\u001b[0m\u001b[1;33m(\u001b[0m\u001b[0mdata\u001b[0m\u001b[1;33m,\u001b[0m \u001b[0mdict\u001b[0m\u001b[1;33m)\u001b[0m\u001b[1;33m:\u001b[0m\u001b[1;33m\u001b[0m\u001b[1;33m\u001b[0m\u001b[0m\n\u001b[1;32m--> 392\u001b[1;33m             \u001b[0mmgr\u001b[0m \u001b[1;33m=\u001b[0m \u001b[0minit_dict\u001b[0m\u001b[1;33m(\u001b[0m\u001b[0mdata\u001b[0m\u001b[1;33m,\u001b[0m \u001b[0mindex\u001b[0m\u001b[1;33m,\u001b[0m \u001b[0mcolumns\u001b[0m\u001b[1;33m,\u001b[0m \u001b[0mdtype\u001b[0m\u001b[1;33m=\u001b[0m\u001b[0mdtype\u001b[0m\u001b[1;33m)\u001b[0m\u001b[1;33m\u001b[0m\u001b[1;33m\u001b[0m\u001b[0m\n\u001b[0m\u001b[0;32m    393\u001b[0m         \u001b[1;32melif\u001b[0m \u001b[0misinstance\u001b[0m\u001b[1;33m(\u001b[0m\u001b[0mdata\u001b[0m\u001b[1;33m,\u001b[0m \u001b[0mma\u001b[0m\u001b[1;33m.\u001b[0m\u001b[0mMaskedArray\u001b[0m\u001b[1;33m)\u001b[0m\u001b[1;33m:\u001b[0m\u001b[1;33m\u001b[0m\u001b[1;33m\u001b[0m\u001b[0m\n\u001b[0;32m    394\u001b[0m             \u001b[1;32mimport\u001b[0m \u001b[0mnumpy\u001b[0m\u001b[1;33m.\u001b[0m\u001b[0mma\u001b[0m\u001b[1;33m.\u001b[0m\u001b[0mmrecords\u001b[0m \u001b[1;32mas\u001b[0m \u001b[0mmrecords\u001b[0m\u001b[1;33m\u001b[0m\u001b[1;33m\u001b[0m\u001b[0m\n",
      "\u001b[1;32m~\\anaconda3\\envs\\dev\\lib\\site-packages\\pandas\\core\\internals\\construction.py\u001b[0m in \u001b[0;36minit_dict\u001b[1;34m(data, index, columns, dtype)\u001b[0m\n\u001b[0;32m    210\u001b[0m         \u001b[0marrays\u001b[0m \u001b[1;33m=\u001b[0m \u001b[1;33m[\u001b[0m\u001b[0mdata\u001b[0m\u001b[1;33m[\u001b[0m\u001b[0mk\u001b[0m\u001b[1;33m]\u001b[0m \u001b[1;32mfor\u001b[0m \u001b[0mk\u001b[0m \u001b[1;32min\u001b[0m \u001b[0mkeys\u001b[0m\u001b[1;33m]\u001b[0m\u001b[1;33m\u001b[0m\u001b[1;33m\u001b[0m\u001b[0m\n\u001b[0;32m    211\u001b[0m \u001b[1;33m\u001b[0m\u001b[0m\n\u001b[1;32m--> 212\u001b[1;33m     \u001b[1;32mreturn\u001b[0m \u001b[0marrays_to_mgr\u001b[0m\u001b[1;33m(\u001b[0m\u001b[0marrays\u001b[0m\u001b[1;33m,\u001b[0m \u001b[0mdata_names\u001b[0m\u001b[1;33m,\u001b[0m \u001b[0mindex\u001b[0m\u001b[1;33m,\u001b[0m \u001b[0mcolumns\u001b[0m\u001b[1;33m,\u001b[0m \u001b[0mdtype\u001b[0m\u001b[1;33m=\u001b[0m\u001b[0mdtype\u001b[0m\u001b[1;33m)\u001b[0m\u001b[1;33m\u001b[0m\u001b[1;33m\u001b[0m\u001b[0m\n\u001b[0m\u001b[0;32m    213\u001b[0m \u001b[1;33m\u001b[0m\u001b[0m\n\u001b[0;32m    214\u001b[0m \u001b[1;33m\u001b[0m\u001b[0m\n",
      "\u001b[1;32m~\\anaconda3\\envs\\dev\\lib\\site-packages\\pandas\\core\\internals\\construction.py\u001b[0m in \u001b[0;36marrays_to_mgr\u001b[1;34m(arrays, arr_names, index, columns, dtype)\u001b[0m\n\u001b[0;32m     59\u001b[0m     \u001b[0maxes\u001b[0m \u001b[1;33m=\u001b[0m \u001b[1;33m[\u001b[0m\u001b[0mensure_index\u001b[0m\u001b[1;33m(\u001b[0m\u001b[0mcolumns\u001b[0m\u001b[1;33m)\u001b[0m\u001b[1;33m,\u001b[0m \u001b[0mindex\u001b[0m\u001b[1;33m]\u001b[0m\u001b[1;33m\u001b[0m\u001b[1;33m\u001b[0m\u001b[0m\n\u001b[0;32m     60\u001b[0m \u001b[1;33m\u001b[0m\u001b[0m\n\u001b[1;32m---> 61\u001b[1;33m     \u001b[1;32mreturn\u001b[0m \u001b[0mcreate_block_manager_from_arrays\u001b[0m\u001b[1;33m(\u001b[0m\u001b[0marrays\u001b[0m\u001b[1;33m,\u001b[0m \u001b[0marr_names\u001b[0m\u001b[1;33m,\u001b[0m \u001b[0maxes\u001b[0m\u001b[1;33m)\u001b[0m\u001b[1;33m\u001b[0m\u001b[1;33m\u001b[0m\u001b[0m\n\u001b[0m\u001b[0;32m     62\u001b[0m \u001b[1;33m\u001b[0m\u001b[0m\n\u001b[0;32m     63\u001b[0m \u001b[1;33m\u001b[0m\u001b[0m\n",
      "\u001b[1;32m~\\anaconda3\\envs\\dev\\lib\\site-packages\\pandas\\core\\internals\\managers.py\u001b[0m in \u001b[0;36mcreate_block_manager_from_arrays\u001b[1;34m(arrays, names, axes)\u001b[0m\n\u001b[0;32m   1669\u001b[0m         \u001b[1;32mreturn\u001b[0m \u001b[0mmgr\u001b[0m\u001b[1;33m\u001b[0m\u001b[1;33m\u001b[0m\u001b[0m\n\u001b[0;32m   1670\u001b[0m     \u001b[1;32mexcept\u001b[0m \u001b[0mValueError\u001b[0m \u001b[1;32mas\u001b[0m \u001b[0me\u001b[0m\u001b[1;33m:\u001b[0m\u001b[1;33m\u001b[0m\u001b[1;33m\u001b[0m\u001b[0m\n\u001b[1;32m-> 1671\u001b[1;33m         \u001b[0mconstruction_error\u001b[0m\u001b[1;33m(\u001b[0m\u001b[0mlen\u001b[0m\u001b[1;33m(\u001b[0m\u001b[0marrays\u001b[0m\u001b[1;33m)\u001b[0m\u001b[1;33m,\u001b[0m \u001b[0marrays\u001b[0m\u001b[1;33m[\u001b[0m\u001b[1;36m0\u001b[0m\u001b[1;33m]\u001b[0m\u001b[1;33m.\u001b[0m\u001b[0mshape\u001b[0m\u001b[1;33m,\u001b[0m \u001b[0maxes\u001b[0m\u001b[1;33m,\u001b[0m \u001b[0me\u001b[0m\u001b[1;33m)\u001b[0m\u001b[1;33m\u001b[0m\u001b[1;33m\u001b[0m\u001b[0m\n\u001b[0m\u001b[0;32m   1672\u001b[0m \u001b[1;33m\u001b[0m\u001b[0m\n\u001b[0;32m   1673\u001b[0m \u001b[1;33m\u001b[0m\u001b[0m\n",
      "\u001b[1;32m~\\anaconda3\\envs\\dev\\lib\\site-packages\\pandas\\core\\internals\\managers.py\u001b[0m in \u001b[0;36mconstruction_error\u001b[1;34m(tot_items, block_shape, axes, e)\u001b[0m\n\u001b[0;32m   1685\u001b[0m \u001b[1;33m\u001b[0m\u001b[0m\n\u001b[0;32m   1686\u001b[0m     \u001b[1;32mif\u001b[0m \u001b[0mpassed\u001b[0m \u001b[1;33m==\u001b[0m \u001b[0mimplied\u001b[0m \u001b[1;32mand\u001b[0m \u001b[0me\u001b[0m \u001b[1;32mis\u001b[0m \u001b[1;32mnot\u001b[0m \u001b[1;32mNone\u001b[0m\u001b[1;33m:\u001b[0m\u001b[1;33m\u001b[0m\u001b[1;33m\u001b[0m\u001b[0m\n\u001b[1;32m-> 1687\u001b[1;33m         \u001b[1;32mraise\u001b[0m \u001b[0me\u001b[0m\u001b[1;33m\u001b[0m\u001b[1;33m\u001b[0m\u001b[0m\n\u001b[0m\u001b[0;32m   1688\u001b[0m     \u001b[1;32mif\u001b[0m \u001b[0mblock_shape\u001b[0m\u001b[1;33m[\u001b[0m\u001b[1;36m0\u001b[0m\u001b[1;33m]\u001b[0m \u001b[1;33m==\u001b[0m \u001b[1;36m0\u001b[0m\u001b[1;33m:\u001b[0m\u001b[1;33m\u001b[0m\u001b[1;33m\u001b[0m\u001b[0m\n\u001b[0;32m   1689\u001b[0m         \u001b[1;32mraise\u001b[0m \u001b[0mValueError\u001b[0m\u001b[1;33m(\u001b[0m\u001b[1;34m\"Empty data passed with indices specified.\"\u001b[0m\u001b[1;33m)\u001b[0m\u001b[1;33m\u001b[0m\u001b[1;33m\u001b[0m\u001b[0m\n",
      "\u001b[1;32m~\\anaconda3\\envs\\dev\\lib\\site-packages\\pandas\\core\\internals\\managers.py\u001b[0m in \u001b[0;36mcreate_block_manager_from_arrays\u001b[1;34m(arrays, names, axes)\u001b[0m\n\u001b[0;32m   1665\u001b[0m     \u001b[1;32mtry\u001b[0m\u001b[1;33m:\u001b[0m\u001b[1;33m\u001b[0m\u001b[1;33m\u001b[0m\u001b[0m\n\u001b[0;32m   1666\u001b[0m         \u001b[0mblocks\u001b[0m \u001b[1;33m=\u001b[0m \u001b[0mform_blocks\u001b[0m\u001b[1;33m(\u001b[0m\u001b[0marrays\u001b[0m\u001b[1;33m,\u001b[0m \u001b[0mnames\u001b[0m\u001b[1;33m,\u001b[0m \u001b[0maxes\u001b[0m\u001b[1;33m)\u001b[0m\u001b[1;33m\u001b[0m\u001b[1;33m\u001b[0m\u001b[0m\n\u001b[1;32m-> 1667\u001b[1;33m         \u001b[0mmgr\u001b[0m \u001b[1;33m=\u001b[0m \u001b[0mBlockManager\u001b[0m\u001b[1;33m(\u001b[0m\u001b[0mblocks\u001b[0m\u001b[1;33m,\u001b[0m \u001b[0maxes\u001b[0m\u001b[1;33m)\u001b[0m\u001b[1;33m\u001b[0m\u001b[1;33m\u001b[0m\u001b[0m\n\u001b[0m\u001b[0;32m   1668\u001b[0m         \u001b[0mmgr\u001b[0m\u001b[1;33m.\u001b[0m\u001b[0m_consolidate_inplace\u001b[0m\u001b[1;33m(\u001b[0m\u001b[1;33m)\u001b[0m\u001b[1;33m\u001b[0m\u001b[1;33m\u001b[0m\u001b[0m\n\u001b[0;32m   1669\u001b[0m         \u001b[1;32mreturn\u001b[0m \u001b[0mmgr\u001b[0m\u001b[1;33m\u001b[0m\u001b[1;33m\u001b[0m\u001b[0m\n",
      "\u001b[1;32m~\\anaconda3\\envs\\dev\\lib\\site-packages\\pandas\\core\\internals\\managers.py\u001b[0m in \u001b[0;36m__init__\u001b[1;34m(self, blocks, axes, do_integrity_check)\u001b[0m\n\u001b[0;32m    112\u001b[0m \u001b[1;33m\u001b[0m\u001b[0m\n\u001b[0;32m    113\u001b[0m         \u001b[1;32mif\u001b[0m \u001b[0mdo_integrity_check\u001b[0m\u001b[1;33m:\u001b[0m\u001b[1;33m\u001b[0m\u001b[1;33m\u001b[0m\u001b[0m\n\u001b[1;32m--> 114\u001b[1;33m             \u001b[0mself\u001b[0m\u001b[1;33m.\u001b[0m\u001b[0m_verify_integrity\u001b[0m\u001b[1;33m(\u001b[0m\u001b[1;33m)\u001b[0m\u001b[1;33m\u001b[0m\u001b[1;33m\u001b[0m\u001b[0m\n\u001b[0m\u001b[0;32m    115\u001b[0m \u001b[1;33m\u001b[0m\u001b[0m\n\u001b[0;32m    116\u001b[0m         \u001b[0mself\u001b[0m\u001b[1;33m.\u001b[0m\u001b[0m_consolidate_check\u001b[0m\u001b[1;33m(\u001b[0m\u001b[1;33m)\u001b[0m\u001b[1;33m\u001b[0m\u001b[1;33m\u001b[0m\u001b[0m\n",
      "\u001b[1;32m~\\anaconda3\\envs\\dev\\lib\\site-packages\\pandas\\core\\internals\\managers.py\u001b[0m in \u001b[0;36m_verify_integrity\u001b[1;34m(self)\u001b[0m\n\u001b[0;32m    309\u001b[0m         \u001b[1;32mfor\u001b[0m \u001b[0mblock\u001b[0m \u001b[1;32min\u001b[0m \u001b[0mself\u001b[0m\u001b[1;33m.\u001b[0m\u001b[0mblocks\u001b[0m\u001b[1;33m:\u001b[0m\u001b[1;33m\u001b[0m\u001b[1;33m\u001b[0m\u001b[0m\n\u001b[0;32m    310\u001b[0m             \u001b[1;32mif\u001b[0m \u001b[0mblock\u001b[0m\u001b[1;33m.\u001b[0m\u001b[0m_verify_integrity\u001b[0m \u001b[1;32mand\u001b[0m \u001b[0mblock\u001b[0m\u001b[1;33m.\u001b[0m\u001b[0mshape\u001b[0m\u001b[1;33m[\u001b[0m\u001b[1;36m1\u001b[0m\u001b[1;33m:\u001b[0m\u001b[1;33m]\u001b[0m \u001b[1;33m!=\u001b[0m \u001b[0mmgr_shape\u001b[0m\u001b[1;33m[\u001b[0m\u001b[1;36m1\u001b[0m\u001b[1;33m:\u001b[0m\u001b[1;33m]\u001b[0m\u001b[1;33m:\u001b[0m\u001b[1;33m\u001b[0m\u001b[1;33m\u001b[0m\u001b[0m\n\u001b[1;32m--> 311\u001b[1;33m                 \u001b[0mconstruction_error\u001b[0m\u001b[1;33m(\u001b[0m\u001b[0mtot_items\u001b[0m\u001b[1;33m,\u001b[0m \u001b[0mblock\u001b[0m\u001b[1;33m.\u001b[0m\u001b[0mshape\u001b[0m\u001b[1;33m[\u001b[0m\u001b[1;36m1\u001b[0m\u001b[1;33m:\u001b[0m\u001b[1;33m]\u001b[0m\u001b[1;33m,\u001b[0m \u001b[0mself\u001b[0m\u001b[1;33m.\u001b[0m\u001b[0maxes\u001b[0m\u001b[1;33m)\u001b[0m\u001b[1;33m\u001b[0m\u001b[1;33m\u001b[0m\u001b[0m\n\u001b[0m\u001b[0;32m    312\u001b[0m         \u001b[1;32mif\u001b[0m \u001b[0mlen\u001b[0m\u001b[1;33m(\u001b[0m\u001b[0mself\u001b[0m\u001b[1;33m.\u001b[0m\u001b[0mitems\u001b[0m\u001b[1;33m)\u001b[0m \u001b[1;33m!=\u001b[0m \u001b[0mtot_items\u001b[0m\u001b[1;33m:\u001b[0m\u001b[1;33m\u001b[0m\u001b[1;33m\u001b[0m\u001b[0m\n\u001b[0;32m    313\u001b[0m             raise AssertionError('Number of manager items must equal union of '\n",
      "\u001b[1;32m~\\anaconda3\\envs\\dev\\lib\\site-packages\\pandas\\core\\internals\\managers.py\u001b[0m in \u001b[0;36mconstruction_error\u001b[1;34m(tot_items, block_shape, axes, e)\u001b[0m\n\u001b[0;32m   1689\u001b[0m         \u001b[1;32mraise\u001b[0m \u001b[0mValueError\u001b[0m\u001b[1;33m(\u001b[0m\u001b[1;34m\"Empty data passed with indices specified.\"\u001b[0m\u001b[1;33m)\u001b[0m\u001b[1;33m\u001b[0m\u001b[1;33m\u001b[0m\u001b[0m\n\u001b[0;32m   1690\u001b[0m     raise ValueError(\"Shape of passed values is {0}, indices imply {1}\".format(\n\u001b[1;32m-> 1691\u001b[1;33m         passed, implied))\n\u001b[0m\u001b[0;32m   1692\u001b[0m \u001b[1;33m\u001b[0m\u001b[0m\n\u001b[0;32m   1693\u001b[0m \u001b[1;33m\u001b[0m\u001b[0m\n",
      "\u001b[1;31mValueError\u001b[0m: Shape of passed values is (160, 2), indices imply (694, 2)"
     ]
    }
   ],
   "source": [
    "moneyball = pd.DataFrame({\n",
    "    \"Real\": real_OPS.ravel(),\n",
    "    \"Predicted\": predicted.ravel()\n",
    "    }, index = stats_19_df.index[-len(real_OPS): ])\n",
    "moneyball.head()"
   ]
  },
  {
   "cell_type": "code",
   "execution_count": null,
   "metadata": {},
   "outputs": [],
   "source": []
  }
 ]
}